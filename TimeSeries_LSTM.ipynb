{
  "nbformat": 4,
  "nbformat_minor": 0,
  "metadata": {
    "colab": {
      "name": "TimeSeries_LSTM.ipynb",
      "provenance": [],
      "collapsed_sections": [],
      "mount_file_id": "18xevrJmsJLQdMGBQDkbXmcjDTirlvkD0",
      "authorship_tag": "ABX9TyMsxTMc5gAGJHQnxh8BLj+y",
      "include_colab_link": true
    },
    "kernelspec": {
      "name": "python3",
      "display_name": "Python 3"
    }
  },
  "cells": [
    {
      "cell_type": "markdown",
      "metadata": {
        "id": "view-in-github",
        "colab_type": "text"
      },
      "source": [
        "<a href=\"https://colab.research.google.com/github/santoshgurujula/Springboard/blob/master/TimeSeries_LSTM.ipynb\" target=\"_parent\"><img src=\"https://colab.research.google.com/assets/colab-badge.svg\" alt=\"Open In Colab\"/></a>"
      ]
    },
    {
      "cell_type": "code",
      "metadata": {
        "id": "5DiwsXSMQkpC",
        "colab_type": "code",
        "colab": {}
      },
      "source": [
        "# First, import the relevant modules\n",
        "from matplotlib import pyplot as plt\n",
        "%matplotlib inline\n",
        "import numpy as np\n",
        "import pandas as pd\n",
        "from sklearn.preprocessing import MinMaxScaler\n",
        "plt.rcParams['figure.figsize'] = 10,6"
      ],
      "execution_count": 1,
      "outputs": []
    },
    {
      "cell_type": "code",
      "metadata": {
        "id": "7Ln74ZUyRa7O",
        "colab_type": "code",
        "colab": {
          "base_uri": "https://localhost:8080/",
          "height": 35
        },
        "outputId": "c9e54fbc-5ccb-48b5-d83e-17c8f2153bce"
      },
      "source": [
        "import tensorflow as tf \n",
        "tf.test.gpu_device_name()"
      ],
      "execution_count": 2,
      "outputs": [
        {
          "output_type": "execute_result",
          "data": {
            "application/vnd.google.colaboratory.intrinsic+json": {
              "type": "string"
            },
            "text/plain": [
              "''"
            ]
          },
          "metadata": {
            "tags": []
          },
          "execution_count": 2
        }
      ]
    },
    {
      "cell_type": "code",
      "metadata": {
        "id": "2zi71keeRb9_",
        "colab_type": "code",
        "colab": {
          "base_uri": "https://localhost:8080/",
          "height": 35
        },
        "outputId": "003fbe08-68c9-4e2d-c747-95ed132e932a"
      },
      "source": [
        "tf.__version__"
      ],
      "execution_count": 3,
      "outputs": [
        {
          "output_type": "execute_result",
          "data": {
            "application/vnd.google.colaboratory.intrinsic+json": {
              "type": "string"
            },
            "text/plain": [
              "'2.3.0'"
            ]
          },
          "metadata": {
            "tags": []
          },
          "execution_count": 3
        }
      ]
    },
    {
      "cell_type": "code",
      "metadata": {
        "id": "Vpr59zbZRe3U",
        "colab_type": "code",
        "colab": {
          "base_uri": "https://localhost:8080/",
          "height": 136
        },
        "outputId": "639066ef-b9bb-4b7c-c3ff-6c1d6d08e09c"
      },
      "source": [
        "#pointing the path to google drive folder\n",
        "%cd '/content/drive/My Drive/Springboard/data'\n",
        "!ls"
      ],
      "execution_count": 4,
      "outputs": [
        {
          "output_type": "stream",
          "text": [
            "/content/drive/My Drive/Springboard/data\n",
            "BOM500002.csv  BOM500013.csv  fig2.png\n",
            "BOM500003.csv  BOM500014.csv  FinalStockData.csv\n",
            "BOM500008.csv  BOM500020.csv  interpolating-timeseries-p1-pandas-fig1.png\n",
            "BOM500009.csv  BOM500023.csv  nasdl.csv\n",
            "BOM500010.csv  DJI.csv\n",
            "BOM500012.csv  fig1.png\n"
          ],
          "name": "stdout"
        }
      ]
    },
    {
      "cell_type": "code",
      "metadata": {
        "id": "xWo5v3CZRoEY",
        "colab_type": "code",
        "colab": {
          "base_uri": "https://localhost:8080/",
          "height": 102
        },
        "outputId": "3fa99378-c182-4fb4-b6b7-c3de8af6c6e0"
      },
      "source": [
        "dataset = pd.read_csv('/content/drive/My Drive/Springboard/data/FinalStockData.csv')\n",
        "dataset.info()"
      ],
      "execution_count": 5,
      "outputs": [
        {
          "output_type": "stream",
          "text": [
            "<class 'pandas.core.frame.DataFrame'>\n",
            "RangeIndex: 862 entries, 0 to 861\n",
            "Columns: 133 entries, Unnamed: 0 to Adj Close\n",
            "dtypes: float64(131), int64(1), object(1)\n",
            "memory usage: 895.8+ KB\n"
          ],
          "name": "stdout"
        }
      ]
    },
    {
      "cell_type": "code",
      "metadata": {
        "id": "_i3WC2cfRsM0",
        "colab_type": "code",
        "colab": {
          "base_uri": "https://localhost:8080/",
          "height": 372
        },
        "outputId": "4571716f-06cb-46ab-ca4c-83732247a342"
      },
      "source": [
        "dataset.head()"
      ],
      "execution_count": 6,
      "outputs": [
        {
          "output_type": "execute_result",
          "data": {
            "text/html": [
              "<div>\n",
              "<style scoped>\n",
              "    .dataframe tbody tr th:only-of-type {\n",
              "        vertical-align: middle;\n",
              "    }\n",
              "\n",
              "    .dataframe tbody tr th {\n",
              "        vertical-align: top;\n",
              "    }\n",
              "\n",
              "    .dataframe thead th {\n",
              "        text-align: right;\n",
              "    }\n",
              "</style>\n",
              "<table border=\"1\" class=\"dataframe\">\n",
              "  <thead>\n",
              "    <tr style=\"text-align: right;\">\n",
              "      <th></th>\n",
              "      <th>Unnamed: 0</th>\n",
              "      <th>Date</th>\n",
              "      <th>Open_BOM500002</th>\n",
              "      <th>Open_BOM500003</th>\n",
              "      <th>Open_BOM500008</th>\n",
              "      <th>Open_BOM500009</th>\n",
              "      <th>Open_BOM500010</th>\n",
              "      <th>Open_BOM500012</th>\n",
              "      <th>Open_BOM500013</th>\n",
              "      <th>Open_BOM500014</th>\n",
              "      <th>Open_BOM500020</th>\n",
              "      <th>Open_BOM500023</th>\n",
              "      <th>High_BOM500002</th>\n",
              "      <th>High_BOM500003</th>\n",
              "      <th>High_BOM500008</th>\n",
              "      <th>High_BOM500009</th>\n",
              "      <th>High_BOM500010</th>\n",
              "      <th>High_BOM500012</th>\n",
              "      <th>High_BOM500013</th>\n",
              "      <th>High_BOM500014</th>\n",
              "      <th>High_BOM500020</th>\n",
              "      <th>High_BOM500023</th>\n",
              "      <th>Low_BOM500002</th>\n",
              "      <th>Low_BOM500003</th>\n",
              "      <th>Low_BOM500008</th>\n",
              "      <th>Low_BOM500009</th>\n",
              "      <th>Low_BOM500010</th>\n",
              "      <th>Low_BOM500012</th>\n",
              "      <th>Low_BOM500013</th>\n",
              "      <th>Low_BOM500014</th>\n",
              "      <th>Low_BOM500020</th>\n",
              "      <th>Low_BOM500023</th>\n",
              "      <th>Close_BOM500002</th>\n",
              "      <th>Close_BOM500003</th>\n",
              "      <th>Close_BOM500008</th>\n",
              "      <th>Close_BOM500009</th>\n",
              "      <th>Close_BOM500010</th>\n",
              "      <th>Close_BOM500012</th>\n",
              "      <th>Close_BOM500013</th>\n",
              "      <th>Close_BOM500014</th>\n",
              "      <th>...</th>\n",
              "      <th>% Deli. Qty to Traded Qty_BOM500003</th>\n",
              "      <th>% Deli. Qty to Traded Qty_BOM500008</th>\n",
              "      <th>% Deli. Qty to Traded Qty_BOM500009</th>\n",
              "      <th>% Deli. Qty to Traded Qty_BOM500010</th>\n",
              "      <th>% Deli. Qty to Traded Qty_BOM500012</th>\n",
              "      <th>% Deli. Qty to Traded Qty_BOM500013</th>\n",
              "      <th>% Deli. Qty to Traded Qty_BOM500014</th>\n",
              "      <th>% Deli. Qty to Traded Qty_BOM500020</th>\n",
              "      <th>% Deli. Qty to Traded Qty_BOM500023</th>\n",
              "      <th>Spread H-L_BOM500002</th>\n",
              "      <th>Spread H-L_BOM500003</th>\n",
              "      <th>Spread H-L_BOM500008</th>\n",
              "      <th>Spread H-L_BOM500009</th>\n",
              "      <th>Spread H-L_BOM500010</th>\n",
              "      <th>Spread H-L_BOM500012</th>\n",
              "      <th>Spread H-L_BOM500013</th>\n",
              "      <th>Spread H-L_BOM500014</th>\n",
              "      <th>Spread H-L_BOM500020</th>\n",
              "      <th>Spread H-L_BOM500023</th>\n",
              "      <th>Spread C-O_BOM500002</th>\n",
              "      <th>Spread C-O_BOM500003</th>\n",
              "      <th>Spread C-O_BOM500008</th>\n",
              "      <th>Spread C-O_BOM500009</th>\n",
              "      <th>Spread C-O_BOM500010</th>\n",
              "      <th>Spread C-O_BOM500012</th>\n",
              "      <th>Spread C-O_BOM500013</th>\n",
              "      <th>Spread C-O_BOM500014</th>\n",
              "      <th>Spread C-O_BOM500020</th>\n",
              "      <th>Spread C-O_BOM500023</th>\n",
              "      <th>Gross_Purchases</th>\n",
              "      <th>Gross_Sales</th>\n",
              "      <th>Net_Investment_INR</th>\n",
              "      <th>Net_Investment_USD</th>\n",
              "      <th>Conversion_Rate</th>\n",
              "      <th>High</th>\n",
              "      <th>Low</th>\n",
              "      <th>Open</th>\n",
              "      <th>Close</th>\n",
              "      <th>Volume</th>\n",
              "      <th>Adj Close</th>\n",
              "    </tr>\n",
              "  </thead>\n",
              "  <tbody>\n",
              "    <tr>\n",
              "      <th>0</th>\n",
              "      <td>0</td>\n",
              "      <td>2017-01-02</td>\n",
              "      <td>1045.0</td>\n",
              "      <td>129.00</td>\n",
              "      <td>870.05</td>\n",
              "      <td>7.00</td>\n",
              "      <td>1275.00</td>\n",
              "      <td>21.9</td>\n",
              "      <td>15.50</td>\n",
              "      <td>2.50</td>\n",
              "      <td>49.05</td>\n",
              "      <td>NaN</td>\n",
              "      <td>1052.0</td>\n",
              "      <td>132.45</td>\n",
              "      <td>898.95</td>\n",
              "      <td>7.89</td>\n",
              "      <td>1275.0</td>\n",
              "      <td>22.00</td>\n",
              "      <td>16.08</td>\n",
              "      <td>2.50</td>\n",
              "      <td>49.90</td>\n",
              "      <td>NaN</td>\n",
              "      <td>1035.00</td>\n",
              "      <td>129.00</td>\n",
              "      <td>867.6</td>\n",
              "      <td>7.00</td>\n",
              "      <td>1214.15</td>\n",
              "      <td>21.50</td>\n",
              "      <td>14.86</td>\n",
              "      <td>2.30</td>\n",
              "      <td>48.35</td>\n",
              "      <td>NaN</td>\n",
              "      <td>1039.95</td>\n",
              "      <td>131.05</td>\n",
              "      <td>896.20</td>\n",
              "      <td>7.09</td>\n",
              "      <td>1219.25</td>\n",
              "      <td>21.60</td>\n",
              "      <td>15.30</td>\n",
              "      <td>2.37</td>\n",
              "      <td>...</td>\n",
              "      <td>59.65</td>\n",
              "      <td>12.15</td>\n",
              "      <td>87.01</td>\n",
              "      <td>21.24</td>\n",
              "      <td>77.39</td>\n",
              "      <td>38.58</td>\n",
              "      <td>82.68</td>\n",
              "      <td>27.28</td>\n",
              "      <td>NaN</td>\n",
              "      <td>17.00</td>\n",
              "      <td>3.45</td>\n",
              "      <td>31.35</td>\n",
              "      <td>0.89</td>\n",
              "      <td>60.85</td>\n",
              "      <td>0.50</td>\n",
              "      <td>1.22</td>\n",
              "      <td>0.20</td>\n",
              "      <td>1.55</td>\n",
              "      <td>NaN</td>\n",
              "      <td>-5.05</td>\n",
              "      <td>2.05</td>\n",
              "      <td>26.15</td>\n",
              "      <td>0.09</td>\n",
              "      <td>-55.75</td>\n",
              "      <td>-0.30</td>\n",
              "      <td>-0.20</td>\n",
              "      <td>-0.13</td>\n",
              "      <td>-0.25</td>\n",
              "      <td>NaN</td>\n",
              "      <td>2230.64</td>\n",
              "      <td>2796.67</td>\n",
              "      <td>-566.03</td>\n",
              "      <td>-83.29</td>\n",
              "      <td>67.9547</td>\n",
              "      <td>NaN</td>\n",
              "      <td>NaN</td>\n",
              "      <td>NaN</td>\n",
              "      <td>NaN</td>\n",
              "      <td>NaN</td>\n",
              "      <td>NaN</td>\n",
              "    </tr>\n",
              "    <tr>\n",
              "      <th>1</th>\n",
              "      <td>1</td>\n",
              "      <td>2017-01-03</td>\n",
              "      <td>1069.9</td>\n",
              "      <td>132.30</td>\n",
              "      <td>900.00</td>\n",
              "      <td>7.04</td>\n",
              "      <td>1220.00</td>\n",
              "      <td>21.9</td>\n",
              "      <td>15.50</td>\n",
              "      <td>2.47</td>\n",
              "      <td>49.00</td>\n",
              "      <td>106.950000</td>\n",
              "      <td>1069.9</td>\n",
              "      <td>135.00</td>\n",
              "      <td>900.00</td>\n",
              "      <td>7.30</td>\n",
              "      <td>1222.0</td>\n",
              "      <td>21.90</td>\n",
              "      <td>15.70</td>\n",
              "      <td>2.48</td>\n",
              "      <td>49.80</td>\n",
              "      <td>106.950000</td>\n",
              "      <td>1037.90</td>\n",
              "      <td>132.00</td>\n",
              "      <td>882.9</td>\n",
              "      <td>7.04</td>\n",
              "      <td>1201.00</td>\n",
              "      <td>21.10</td>\n",
              "      <td>15.10</td>\n",
              "      <td>2.32</td>\n",
              "      <td>48.55</td>\n",
              "      <td>106.950000</td>\n",
              "      <td>1045.05</td>\n",
              "      <td>132.50</td>\n",
              "      <td>890.20</td>\n",
              "      <td>7.25</td>\n",
              "      <td>1215.25</td>\n",
              "      <td>21.70</td>\n",
              "      <td>15.32</td>\n",
              "      <td>2.43</td>\n",
              "      <td>...</td>\n",
              "      <td>37.15</td>\n",
              "      <td>24.99</td>\n",
              "      <td>89.13</td>\n",
              "      <td>54.61</td>\n",
              "      <td>89.96</td>\n",
              "      <td>64.98</td>\n",
              "      <td>80.71</td>\n",
              "      <td>44.10</td>\n",
              "      <td>100.000000</td>\n",
              "      <td>32.00</td>\n",
              "      <td>3.00</td>\n",
              "      <td>17.10</td>\n",
              "      <td>0.26</td>\n",
              "      <td>21.00</td>\n",
              "      <td>0.80</td>\n",
              "      <td>0.60</td>\n",
              "      <td>0.16</td>\n",
              "      <td>1.25</td>\n",
              "      <td>0.000000</td>\n",
              "      <td>-24.85</td>\n",
              "      <td>0.20</td>\n",
              "      <td>-9.80</td>\n",
              "      <td>0.21</td>\n",
              "      <td>-4.75</td>\n",
              "      <td>-0.20</td>\n",
              "      <td>-0.18</td>\n",
              "      <td>-0.04</td>\n",
              "      <td>-0.20</td>\n",
              "      <td>0.000000</td>\n",
              "      <td>867.26</td>\n",
              "      <td>1185.97</td>\n",
              "      <td>-318.71</td>\n",
              "      <td>-46.85</td>\n",
              "      <td>68.0225</td>\n",
              "      <td>19938.529297</td>\n",
              "      <td>19775.929688</td>\n",
              "      <td>19872.859375</td>\n",
              "      <td>19881.759766</td>\n",
              "      <td>339180000.0</td>\n",
              "      <td>19881.759766</td>\n",
              "    </tr>\n",
              "    <tr>\n",
              "      <th>2</th>\n",
              "      <td>2</td>\n",
              "      <td>2017-01-04</td>\n",
              "      <td>1050.0</td>\n",
              "      <td>134.15</td>\n",
              "      <td>892.00</td>\n",
              "      <td>7.13</td>\n",
              "      <td>1215.25</td>\n",
              "      <td>22.5</td>\n",
              "      <td>15.32</td>\n",
              "      <td>2.48</td>\n",
              "      <td>50.25</td>\n",
              "      <td>104.050000</td>\n",
              "      <td>1050.0</td>\n",
              "      <td>134.60</td>\n",
              "      <td>909.25</td>\n",
              "      <td>7.40</td>\n",
              "      <td>1225.0</td>\n",
              "      <td>22.75</td>\n",
              "      <td>15.44</td>\n",
              "      <td>2.50</td>\n",
              "      <td>51.90</td>\n",
              "      <td>104.050000</td>\n",
              "      <td>1033.50</td>\n",
              "      <td>131.25</td>\n",
              "      <td>890.0</td>\n",
              "      <td>7.11</td>\n",
              "      <td>1197.55</td>\n",
              "      <td>21.25</td>\n",
              "      <td>15.12</td>\n",
              "      <td>2.35</td>\n",
              "      <td>50.25</td>\n",
              "      <td>104.025000</td>\n",
              "      <td>1037.35</td>\n",
              "      <td>131.75</td>\n",
              "      <td>898.50</td>\n",
              "      <td>7.26</td>\n",
              "      <td>1212.50</td>\n",
              "      <td>22.75</td>\n",
              "      <td>15.28</td>\n",
              "      <td>2.47</td>\n",
              "      <td>...</td>\n",
              "      <td>61.49</td>\n",
              "      <td>24.11</td>\n",
              "      <td>83.89</td>\n",
              "      <td>92.28</td>\n",
              "      <td>74.31</td>\n",
              "      <td>84.28</td>\n",
              "      <td>96.69</td>\n",
              "      <td>31.95</td>\n",
              "      <td>100.000000</td>\n",
              "      <td>16.50</td>\n",
              "      <td>3.35</td>\n",
              "      <td>19.25</td>\n",
              "      <td>0.29</td>\n",
              "      <td>27.45</td>\n",
              "      <td>1.50</td>\n",
              "      <td>0.32</td>\n",
              "      <td>0.15</td>\n",
              "      <td>1.65</td>\n",
              "      <td>0.025000</td>\n",
              "      <td>-12.65</td>\n",
              "      <td>-2.40</td>\n",
              "      <td>6.50</td>\n",
              "      <td>0.13</td>\n",
              "      <td>-2.75</td>\n",
              "      <td>0.25</td>\n",
              "      <td>-0.04</td>\n",
              "      <td>-0.01</td>\n",
              "      <td>0.65</td>\n",
              "      <td>-0.025000</td>\n",
              "      <td>1863.97</td>\n",
              "      <td>2400.72</td>\n",
              "      <td>-536.75</td>\n",
              "      <td>-78.84</td>\n",
              "      <td>68.0864</td>\n",
              "      <td>19956.140625</td>\n",
              "      <td>19878.830078</td>\n",
              "      <td>19890.939453</td>\n",
              "      <td>19942.160156</td>\n",
              "      <td>280010000.0</td>\n",
              "      <td>19942.160156</td>\n",
              "    </tr>\n",
              "    <tr>\n",
              "      <th>3</th>\n",
              "      <td>3</td>\n",
              "      <td>2017-01-05</td>\n",
              "      <td>1051.9</td>\n",
              "      <td>132.00</td>\n",
              "      <td>905.00</td>\n",
              "      <td>7.02</td>\n",
              "      <td>1225.00</td>\n",
              "      <td>23.7</td>\n",
              "      <td>15.43</td>\n",
              "      <td>2.34</td>\n",
              "      <td>51.25</td>\n",
              "      <td>101.150000</td>\n",
              "      <td>1051.9</td>\n",
              "      <td>133.25</td>\n",
              "      <td>935.25</td>\n",
              "      <td>7.50</td>\n",
              "      <td>1225.0</td>\n",
              "      <td>23.85</td>\n",
              "      <td>15.52</td>\n",
              "      <td>2.49</td>\n",
              "      <td>54.40</td>\n",
              "      <td>101.150000</td>\n",
              "      <td>1029.55</td>\n",
              "      <td>130.00</td>\n",
              "      <td>900.0</td>\n",
              "      <td>7.02</td>\n",
              "      <td>1205.30</td>\n",
              "      <td>22.90</td>\n",
              "      <td>15.26</td>\n",
              "      <td>2.33</td>\n",
              "      <td>51.20</td>\n",
              "      <td>101.100000</td>\n",
              "      <td>1031.45</td>\n",
              "      <td>131.65</td>\n",
              "      <td>916.35</td>\n",
              "      <td>7.34</td>\n",
              "      <td>1216.55</td>\n",
              "      <td>23.85</td>\n",
              "      <td>15.48</td>\n",
              "      <td>2.41</td>\n",
              "      <td>...</td>\n",
              "      <td>59.06</td>\n",
              "      <td>27.79</td>\n",
              "      <td>72.79</td>\n",
              "      <td>23.37</td>\n",
              "      <td>73.78</td>\n",
              "      <td>76.37</td>\n",
              "      <td>69.64</td>\n",
              "      <td>32.58</td>\n",
              "      <td>100.000000</td>\n",
              "      <td>22.35</td>\n",
              "      <td>3.25</td>\n",
              "      <td>35.25</td>\n",
              "      <td>0.48</td>\n",
              "      <td>19.70</td>\n",
              "      <td>0.95</td>\n",
              "      <td>0.26</td>\n",
              "      <td>0.16</td>\n",
              "      <td>3.20</td>\n",
              "      <td>0.050000</td>\n",
              "      <td>-20.45</td>\n",
              "      <td>-0.35</td>\n",
              "      <td>11.35</td>\n",
              "      <td>0.32</td>\n",
              "      <td>-8.45</td>\n",
              "      <td>0.15</td>\n",
              "      <td>0.05</td>\n",
              "      <td>0.07</td>\n",
              "      <td>2.60</td>\n",
              "      <td>-0.050000</td>\n",
              "      <td>3534.18</td>\n",
              "      <td>4226.17</td>\n",
              "      <td>-691.99</td>\n",
              "      <td>-101.50</td>\n",
              "      <td>68.1791</td>\n",
              "      <td>19948.599609</td>\n",
              "      <td>19811.119141</td>\n",
              "      <td>19924.560547</td>\n",
              "      <td>19899.289062</td>\n",
              "      <td>269920000.0</td>\n",
              "      <td>19899.289062</td>\n",
              "    </tr>\n",
              "    <tr>\n",
              "      <th>4</th>\n",
              "      <td>4</td>\n",
              "      <td>2017-01-06</td>\n",
              "      <td>1037.0</td>\n",
              "      <td>132.90</td>\n",
              "      <td>916.35</td>\n",
              "      <td>7.35</td>\n",
              "      <td>1216.55</td>\n",
              "      <td>24.9</td>\n",
              "      <td>15.26</td>\n",
              "      <td>2.36</td>\n",
              "      <td>54.20</td>\n",
              "      <td>101.166667</td>\n",
              "      <td>1048.0</td>\n",
              "      <td>133.00</td>\n",
              "      <td>932.15</td>\n",
              "      <td>7.55</td>\n",
              "      <td>1232.4</td>\n",
              "      <td>25.00</td>\n",
              "      <td>15.45</td>\n",
              "      <td>2.45</td>\n",
              "      <td>54.35</td>\n",
              "      <td>101.766667</td>\n",
              "      <td>1035.55</td>\n",
              "      <td>129.55</td>\n",
              "      <td>915.0</td>\n",
              "      <td>7.21</td>\n",
              "      <td>1216.55</td>\n",
              "      <td>23.00</td>\n",
              "      <td>15.01</td>\n",
              "      <td>2.35</td>\n",
              "      <td>52.75</td>\n",
              "      <td>101.133333</td>\n",
              "      <td>1043.90</td>\n",
              "      <td>130.10</td>\n",
              "      <td>928.05</td>\n",
              "      <td>7.40</td>\n",
              "      <td>1222.15</td>\n",
              "      <td>24.95</td>\n",
              "      <td>15.11</td>\n",
              "      <td>2.45</td>\n",
              "      <td>...</td>\n",
              "      <td>49.28</td>\n",
              "      <td>12.28</td>\n",
              "      <td>85.11</td>\n",
              "      <td>82.03</td>\n",
              "      <td>70.79</td>\n",
              "      <td>73.11</td>\n",
              "      <td>87.23</td>\n",
              "      <td>38.97</td>\n",
              "      <td>83.333333</td>\n",
              "      <td>12.45</td>\n",
              "      <td>3.45</td>\n",
              "      <td>17.15</td>\n",
              "      <td>0.34</td>\n",
              "      <td>15.85</td>\n",
              "      <td>2.00</td>\n",
              "      <td>0.44</td>\n",
              "      <td>0.10</td>\n",
              "      <td>1.60</td>\n",
              "      <td>0.633333</td>\n",
              "      <td>6.90</td>\n",
              "      <td>-2.80</td>\n",
              "      <td>11.70</td>\n",
              "      <td>0.05</td>\n",
              "      <td>5.60</td>\n",
              "      <td>0.05</td>\n",
              "      <td>-0.15</td>\n",
              "      <td>0.09</td>\n",
              "      <td>-0.90</td>\n",
              "      <td>0.566667</td>\n",
              "      <td>4542.58</td>\n",
              "      <td>4581.72</td>\n",
              "      <td>-39.14</td>\n",
              "      <td>-5.77</td>\n",
              "      <td>67.7884</td>\n",
              "      <td>19999.630859</td>\n",
              "      <td>19834.080078</td>\n",
              "      <td>19906.960938</td>\n",
              "      <td>19963.800781</td>\n",
              "      <td>277700000.0</td>\n",
              "      <td>19963.800781</td>\n",
              "    </tr>\n",
              "  </tbody>\n",
              "</table>\n",
              "<p>5 rows × 133 columns</p>\n",
              "</div>"
            ],
            "text/plain": [
              "   Unnamed: 0        Date  ...       Volume     Adj Close\n",
              "0           0  2017-01-02  ...          NaN           NaN\n",
              "1           1  2017-01-03  ...  339180000.0  19881.759766\n",
              "2           2  2017-01-04  ...  280010000.0  19942.160156\n",
              "3           3  2017-01-05  ...  269920000.0  19899.289062\n",
              "4           4  2017-01-06  ...  277700000.0  19963.800781\n",
              "\n",
              "[5 rows x 133 columns]"
            ]
          },
          "metadata": {
            "tags": []
          },
          "execution_count": 6
        }
      ]
    },
    {
      "cell_type": "code",
      "metadata": {
        "id": "-I1VmJMwRylz",
        "colab_type": "code",
        "colab": {}
      },
      "source": [
        "#select only 1 stock Open and close, Conversion_rate , Dowjones Open and close columns\n",
        "features= ['Date','Open_BOM500002','Close_BOM500002', 'Conversion_Rate','Open','Close']\n",
        "sub_dataset=dataset[features]"
      ],
      "execution_count": 7,
      "outputs": []
    },
    {
      "cell_type": "code",
      "metadata": {
        "id": "rtFxCPj4R3CH",
        "colab_type": "code",
        "colab": {}
      },
      "source": [
        "#Rename DJI Open and CLose\n",
        "sub_dataset=sub_dataset.rename(columns={\"Open\": \"DJIOpen\", \"Close\": \"DJIClose\"})"
      ],
      "execution_count": 8,
      "outputs": []
    },
    {
      "cell_type": "code",
      "metadata": {
        "id": "JxKcdhziR7D1",
        "colab_type": "code",
        "colab": {
          "base_uri": "https://localhost:8080/",
          "height": 204
        },
        "outputId": "68048317-c727-4189-9a47-c32855b3238e"
      },
      "source": [
        "sub_dataset.head()\n"
      ],
      "execution_count": 9,
      "outputs": [
        {
          "output_type": "execute_result",
          "data": {
            "text/html": [
              "<div>\n",
              "<style scoped>\n",
              "    .dataframe tbody tr th:only-of-type {\n",
              "        vertical-align: middle;\n",
              "    }\n",
              "\n",
              "    .dataframe tbody tr th {\n",
              "        vertical-align: top;\n",
              "    }\n",
              "\n",
              "    .dataframe thead th {\n",
              "        text-align: right;\n",
              "    }\n",
              "</style>\n",
              "<table border=\"1\" class=\"dataframe\">\n",
              "  <thead>\n",
              "    <tr style=\"text-align: right;\">\n",
              "      <th></th>\n",
              "      <th>Date</th>\n",
              "      <th>Open_BOM500002</th>\n",
              "      <th>Close_BOM500002</th>\n",
              "      <th>Conversion_Rate</th>\n",
              "      <th>DJIOpen</th>\n",
              "      <th>DJIClose</th>\n",
              "    </tr>\n",
              "  </thead>\n",
              "  <tbody>\n",
              "    <tr>\n",
              "      <th>0</th>\n",
              "      <td>2017-01-02</td>\n",
              "      <td>1045.0</td>\n",
              "      <td>1039.95</td>\n",
              "      <td>67.9547</td>\n",
              "      <td>NaN</td>\n",
              "      <td>NaN</td>\n",
              "    </tr>\n",
              "    <tr>\n",
              "      <th>1</th>\n",
              "      <td>2017-01-03</td>\n",
              "      <td>1069.9</td>\n",
              "      <td>1045.05</td>\n",
              "      <td>68.0225</td>\n",
              "      <td>19872.859375</td>\n",
              "      <td>19881.759766</td>\n",
              "    </tr>\n",
              "    <tr>\n",
              "      <th>2</th>\n",
              "      <td>2017-01-04</td>\n",
              "      <td>1050.0</td>\n",
              "      <td>1037.35</td>\n",
              "      <td>68.0864</td>\n",
              "      <td>19890.939453</td>\n",
              "      <td>19942.160156</td>\n",
              "    </tr>\n",
              "    <tr>\n",
              "      <th>3</th>\n",
              "      <td>2017-01-05</td>\n",
              "      <td>1051.9</td>\n",
              "      <td>1031.45</td>\n",
              "      <td>68.1791</td>\n",
              "      <td>19924.560547</td>\n",
              "      <td>19899.289062</td>\n",
              "    </tr>\n",
              "    <tr>\n",
              "      <th>4</th>\n",
              "      <td>2017-01-06</td>\n",
              "      <td>1037.0</td>\n",
              "      <td>1043.90</td>\n",
              "      <td>67.7884</td>\n",
              "      <td>19906.960938</td>\n",
              "      <td>19963.800781</td>\n",
              "    </tr>\n",
              "  </tbody>\n",
              "</table>\n",
              "</div>"
            ],
            "text/plain": [
              "         Date  Open_BOM500002  ...       DJIOpen      DJIClose\n",
              "0  2017-01-02          1045.0  ...           NaN           NaN\n",
              "1  2017-01-03          1069.9  ...  19872.859375  19881.759766\n",
              "2  2017-01-04          1050.0  ...  19890.939453  19942.160156\n",
              "3  2017-01-05          1051.9  ...  19924.560547  19899.289062\n",
              "4  2017-01-06          1037.0  ...  19906.960938  19963.800781\n",
              "\n",
              "[5 rows x 6 columns]"
            ]
          },
          "metadata": {
            "tags": []
          },
          "execution_count": 9
        }
      ]
    },
    {
      "cell_type": "code",
      "metadata": {
        "id": "yX81YmM3R99n",
        "colab_type": "code",
        "colab": {
          "base_uri": "https://localhost:8080/",
          "height": 419
        },
        "outputId": "ca2d78df-f5f9-42b0-f695-f07ae2896f0c"
      },
      "source": [
        "sub_dataset.sort_values(by='Date')"
      ],
      "execution_count": 10,
      "outputs": [
        {
          "output_type": "execute_result",
          "data": {
            "text/html": [
              "<div>\n",
              "<style scoped>\n",
              "    .dataframe tbody tr th:only-of-type {\n",
              "        vertical-align: middle;\n",
              "    }\n",
              "\n",
              "    .dataframe tbody tr th {\n",
              "        vertical-align: top;\n",
              "    }\n",
              "\n",
              "    .dataframe thead th {\n",
              "        text-align: right;\n",
              "    }\n",
              "</style>\n",
              "<table border=\"1\" class=\"dataframe\">\n",
              "  <thead>\n",
              "    <tr style=\"text-align: right;\">\n",
              "      <th></th>\n",
              "      <th>Date</th>\n",
              "      <th>Open_BOM500002</th>\n",
              "      <th>Close_BOM500002</th>\n",
              "      <th>Conversion_Rate</th>\n",
              "      <th>DJIOpen</th>\n",
              "      <th>DJIClose</th>\n",
              "    </tr>\n",
              "  </thead>\n",
              "  <tbody>\n",
              "    <tr>\n",
              "      <th>0</th>\n",
              "      <td>2017-01-02</td>\n",
              "      <td>1045.00</td>\n",
              "      <td>1039.95</td>\n",
              "      <td>67.9547</td>\n",
              "      <td>NaN</td>\n",
              "      <td>NaN</td>\n",
              "    </tr>\n",
              "    <tr>\n",
              "      <th>1</th>\n",
              "      <td>2017-01-03</td>\n",
              "      <td>1069.90</td>\n",
              "      <td>1045.05</td>\n",
              "      <td>68.0225</td>\n",
              "      <td>19872.859375</td>\n",
              "      <td>19881.759766</td>\n",
              "    </tr>\n",
              "    <tr>\n",
              "      <th>2</th>\n",
              "      <td>2017-01-04</td>\n",
              "      <td>1050.00</td>\n",
              "      <td>1037.35</td>\n",
              "      <td>68.0864</td>\n",
              "      <td>19890.939453</td>\n",
              "      <td>19942.160156</td>\n",
              "    </tr>\n",
              "    <tr>\n",
              "      <th>3</th>\n",
              "      <td>2017-01-05</td>\n",
              "      <td>1051.90</td>\n",
              "      <td>1031.45</td>\n",
              "      <td>68.1791</td>\n",
              "      <td>19924.560547</td>\n",
              "      <td>19899.289062</td>\n",
              "    </tr>\n",
              "    <tr>\n",
              "      <th>4</th>\n",
              "      <td>2017-01-06</td>\n",
              "      <td>1037.00</td>\n",
              "      <td>1043.90</td>\n",
              "      <td>67.7884</td>\n",
              "      <td>19906.960938</td>\n",
              "      <td>19963.800781</td>\n",
              "    </tr>\n",
              "    <tr>\n",
              "      <th>...</th>\n",
              "      <td>...</td>\n",
              "      <td>...</td>\n",
              "      <td>...</td>\n",
              "      <td>...</td>\n",
              "      <td>...</td>\n",
              "      <td>...</td>\n",
              "    </tr>\n",
              "    <tr>\n",
              "      <th>857</th>\n",
              "      <td>2020-06-24</td>\n",
              "      <td>854.65</td>\n",
              "      <td>866.50</td>\n",
              "      <td>75.7549</td>\n",
              "      <td>25992.960938</td>\n",
              "      <td>25445.939453</td>\n",
              "    </tr>\n",
              "    <tr>\n",
              "      <th>858</th>\n",
              "      <td>2020-06-25</td>\n",
              "      <td>870.00</td>\n",
              "      <td>887.50</td>\n",
              "      <td>75.7087</td>\n",
              "      <td>25365.220703</td>\n",
              "      <td>25745.599609</td>\n",
              "    </tr>\n",
              "    <tr>\n",
              "      <th>859</th>\n",
              "      <td>2020-06-26</td>\n",
              "      <td>888.00</td>\n",
              "      <td>913.60</td>\n",
              "      <td>75.6349</td>\n",
              "      <td>25641.689453</td>\n",
              "      <td>25015.550781</td>\n",
              "    </tr>\n",
              "    <tr>\n",
              "      <th>860</th>\n",
              "      <td>2020-06-29</td>\n",
              "      <td>915.00</td>\n",
              "      <td>919.90</td>\n",
              "      <td>75.4757</td>\n",
              "      <td>25152.449219</td>\n",
              "      <td>25595.800781</td>\n",
              "    </tr>\n",
              "    <tr>\n",
              "      <th>861</th>\n",
              "      <td>2020-06-30</td>\n",
              "      <td>925.00</td>\n",
              "      <td>943.60</td>\n",
              "      <td>75.5680</td>\n",
              "      <td>25512.429688</td>\n",
              "      <td>25812.880859</td>\n",
              "    </tr>\n",
              "  </tbody>\n",
              "</table>\n",
              "<p>862 rows × 6 columns</p>\n",
              "</div>"
            ],
            "text/plain": [
              "           Date  Open_BOM500002  ...       DJIOpen      DJIClose\n",
              "0    2017-01-02         1045.00  ...           NaN           NaN\n",
              "1    2017-01-03         1069.90  ...  19872.859375  19881.759766\n",
              "2    2017-01-04         1050.00  ...  19890.939453  19942.160156\n",
              "3    2017-01-05         1051.90  ...  19924.560547  19899.289062\n",
              "4    2017-01-06         1037.00  ...  19906.960938  19963.800781\n",
              "..          ...             ...  ...           ...           ...\n",
              "857  2020-06-24          854.65  ...  25992.960938  25445.939453\n",
              "858  2020-06-25          870.00  ...  25365.220703  25745.599609\n",
              "859  2020-06-26          888.00  ...  25641.689453  25015.550781\n",
              "860  2020-06-29          915.00  ...  25152.449219  25595.800781\n",
              "861  2020-06-30          925.00  ...  25512.429688  25812.880859\n",
              "\n",
              "[862 rows x 6 columns]"
            ]
          },
          "metadata": {
            "tags": []
          },
          "execution_count": 10
        }
      ]
    },
    {
      "cell_type": "code",
      "metadata": {
        "id": "Y9jPIV4PSC9U",
        "colab_type": "code",
        "colab": {}
      },
      "source": [
        "#parse string to datetime\n",
        "sub_dataset['Date']=pd.to_datetime(sub_dataset['Date'],infer_datetime_format=True)"
      ],
      "execution_count": 11,
      "outputs": []
    },
    {
      "cell_type": "code",
      "metadata": {
        "id": "VLsZaQYwSLZ1",
        "colab_type": "code",
        "colab": {}
      },
      "source": [
        "#Set date as Index\n",
        "sub_dataset.set_index('Date',inplace=True)\n"
      ],
      "execution_count": 12,
      "outputs": []
    },
    {
      "cell_type": "code",
      "metadata": {
        "id": "vu50AJr0TT8Q",
        "colab_type": "code",
        "colab": {
          "base_uri": "https://localhost:8080/",
          "height": 221
        },
        "outputId": "4114a221-658b-44d9-cccf-133192405dbb"
      },
      "source": [
        "sub_dataset.info()"
      ],
      "execution_count": 13,
      "outputs": [
        {
          "output_type": "stream",
          "text": [
            "<class 'pandas.core.frame.DataFrame'>\n",
            "DatetimeIndex: 862 entries, 2017-01-02 to 2020-06-30\n",
            "Data columns (total 5 columns):\n",
            " #   Column           Non-Null Count  Dtype  \n",
            "---  ------           --------------  -----  \n",
            " 0   Open_BOM500002   862 non-null    float64\n",
            " 1   Close_BOM500002  862 non-null    float64\n",
            " 2   Conversion_Rate  862 non-null    float64\n",
            " 3   DJIOpen          861 non-null    float64\n",
            " 4   DJIClose         861 non-null    float64\n",
            "dtypes: float64(5)\n",
            "memory usage: 40.4 KB\n"
          ],
          "name": "stdout"
        }
      ]
    },
    {
      "cell_type": "code",
      "metadata": {
        "id": "LzgtfhcLSeDq",
        "colab_type": "code",
        "colab": {
          "base_uri": "https://localhost:8080/",
          "height": 80
        },
        "outputId": "31e5481e-7b52-4502-ff24-cc8efcdc6f58"
      },
      "source": [
        "\n",
        "sub_dataset[sub_dataset['Close_BOM500002'].isna()]"
      ],
      "execution_count": 14,
      "outputs": [
        {
          "output_type": "execute_result",
          "data": {
            "text/html": [
              "<div>\n",
              "<style scoped>\n",
              "    .dataframe tbody tr th:only-of-type {\n",
              "        vertical-align: middle;\n",
              "    }\n",
              "\n",
              "    .dataframe tbody tr th {\n",
              "        vertical-align: top;\n",
              "    }\n",
              "\n",
              "    .dataframe thead th {\n",
              "        text-align: right;\n",
              "    }\n",
              "</style>\n",
              "<table border=\"1\" class=\"dataframe\">\n",
              "  <thead>\n",
              "    <tr style=\"text-align: right;\">\n",
              "      <th></th>\n",
              "      <th>Open_BOM500002</th>\n",
              "      <th>Close_BOM500002</th>\n",
              "      <th>Conversion_Rate</th>\n",
              "      <th>DJIOpen</th>\n",
              "      <th>DJIClose</th>\n",
              "    </tr>\n",
              "    <tr>\n",
              "      <th>Date</th>\n",
              "      <th></th>\n",
              "      <th></th>\n",
              "      <th></th>\n",
              "      <th></th>\n",
              "      <th></th>\n",
              "    </tr>\n",
              "  </thead>\n",
              "  <tbody>\n",
              "  </tbody>\n",
              "</table>\n",
              "</div>"
            ],
            "text/plain": [
              "Empty DataFrame\n",
              "Columns: [Open_BOM500002, Close_BOM500002, Conversion_Rate, DJIOpen, DJIClose]\n",
              "Index: []"
            ]
          },
          "metadata": {
            "tags": []
          },
          "execution_count": 14
        }
      ]
    },
    {
      "cell_type": "code",
      "metadata": {
        "id": "svXevqS5Sjz_",
        "colab_type": "code",
        "colab": {}
      },
      "source": [
        "from pandas import DataFrame\n",
        "from pandas import concat\n",
        " \n",
        "def series_to_supervised(data, n_in=1, n_out=1, dropnan=True):\n",
        "\t\"\"\"\n",
        "\tFrame a time series as a supervised learning dataset.\n",
        "\tArguments:\n",
        "\t\tdata: Sequence of observations as a list or NumPy array.\n",
        "\t\tn_in: Number of lag observations as input (X).\n",
        "\t\tn_out: Number of observations as output (y).\n",
        "\t\tdropnan: Boolean whether or not to drop rows with NaN values.\n",
        "\tReturns:\n",
        "\t\tPandas DataFrame of series framed for supervised learning.\n",
        "\t\"\"\"\n",
        "\tn_vars = 1 if type(data) is list else data.shape[1]\n",
        "\tv_cols = 'Var' if type(data) is list else data.columns\n",
        "\tdf = DataFrame(data)\n",
        "\tcols, names = list(), list()\n",
        "\t# input sequence (t-n, ... t-1)\n",
        "\tfor i in range(n_in, 0, -1):\n",
        "\t\tcols.append(df.shift(i))\n",
        "\t\tnames += [(v_cols[j]+'%d(t-%d)' % (j+1, i)) for j in range(n_vars)]\n",
        "\t# forecast sequence (t, t+1, ... t+n)\n",
        "\tfor i in range(0, n_out):\n",
        "\t\tcols.append(df.shift(-i))\n",
        "\t\tif i == 0:\n",
        "\t\t\tnames += [(v_cols[j]+'%d(t)' % (j+1)) for j in range(n_vars)]\n",
        "\t\telse:\n",
        "\t\t\tnames += [(v_cols[j]+'%d(t+%d)' % (j+1, i)) for j in range(n_vars)]\n",
        "\t# put it all together\n",
        "\tagg = concat(cols, axis=1)\n",
        "\tagg.columns = names\n",
        "\t# drop rows with NaN values\n",
        "\tif dropnan:\n",
        "\t\tagg.dropna(inplace=True)\n",
        "\treturn agg"
      ],
      "execution_count": 15,
      "outputs": []
    },
    {
      "cell_type": "code",
      "metadata": {
        "id": "-iv7Hk1JUBeY",
        "colab_type": "code",
        "colab": {
          "base_uri": "https://localhost:8080/",
          "height": 357
        },
        "outputId": "d9af7667-a31d-4bd6-868d-15fd0a5a701c"
      },
      "source": [
        "n_timesteps=5\n",
        "n_features=len(sub_dataset.columns)\n",
        "data = series_to_supervised(sub_dataset,n_timesteps,1,True)\n",
        "data.head()"
      ],
      "execution_count": 16,
      "outputs": [
        {
          "output_type": "execute_result",
          "data": {
            "text/html": [
              "<div>\n",
              "<style scoped>\n",
              "    .dataframe tbody tr th:only-of-type {\n",
              "        vertical-align: middle;\n",
              "    }\n",
              "\n",
              "    .dataframe tbody tr th {\n",
              "        vertical-align: top;\n",
              "    }\n",
              "\n",
              "    .dataframe thead th {\n",
              "        text-align: right;\n",
              "    }\n",
              "</style>\n",
              "<table border=\"1\" class=\"dataframe\">\n",
              "  <thead>\n",
              "    <tr style=\"text-align: right;\">\n",
              "      <th></th>\n",
              "      <th>Open_BOM5000021(t-5)</th>\n",
              "      <th>Close_BOM5000022(t-5)</th>\n",
              "      <th>Conversion_Rate3(t-5)</th>\n",
              "      <th>DJIOpen4(t-5)</th>\n",
              "      <th>DJIClose5(t-5)</th>\n",
              "      <th>Open_BOM5000021(t-4)</th>\n",
              "      <th>Close_BOM5000022(t-4)</th>\n",
              "      <th>Conversion_Rate3(t-4)</th>\n",
              "      <th>DJIOpen4(t-4)</th>\n",
              "      <th>DJIClose5(t-4)</th>\n",
              "      <th>Open_BOM5000021(t-3)</th>\n",
              "      <th>Close_BOM5000022(t-3)</th>\n",
              "      <th>Conversion_Rate3(t-3)</th>\n",
              "      <th>DJIOpen4(t-3)</th>\n",
              "      <th>DJIClose5(t-3)</th>\n",
              "      <th>Open_BOM5000021(t-2)</th>\n",
              "      <th>Close_BOM5000022(t-2)</th>\n",
              "      <th>Conversion_Rate3(t-2)</th>\n",
              "      <th>DJIOpen4(t-2)</th>\n",
              "      <th>DJIClose5(t-2)</th>\n",
              "      <th>Open_BOM5000021(t-1)</th>\n",
              "      <th>Close_BOM5000022(t-1)</th>\n",
              "      <th>Conversion_Rate3(t-1)</th>\n",
              "      <th>DJIOpen4(t-1)</th>\n",
              "      <th>DJIClose5(t-1)</th>\n",
              "      <th>Open_BOM5000021(t)</th>\n",
              "      <th>Close_BOM5000022(t)</th>\n",
              "      <th>Conversion_Rate3(t)</th>\n",
              "      <th>DJIOpen4(t)</th>\n",
              "      <th>DJIClose5(t)</th>\n",
              "    </tr>\n",
              "    <tr>\n",
              "      <th>Date</th>\n",
              "      <th></th>\n",
              "      <th></th>\n",
              "      <th></th>\n",
              "      <th></th>\n",
              "      <th></th>\n",
              "      <th></th>\n",
              "      <th></th>\n",
              "      <th></th>\n",
              "      <th></th>\n",
              "      <th></th>\n",
              "      <th></th>\n",
              "      <th></th>\n",
              "      <th></th>\n",
              "      <th></th>\n",
              "      <th></th>\n",
              "      <th></th>\n",
              "      <th></th>\n",
              "      <th></th>\n",
              "      <th></th>\n",
              "      <th></th>\n",
              "      <th></th>\n",
              "      <th></th>\n",
              "      <th></th>\n",
              "      <th></th>\n",
              "      <th></th>\n",
              "      <th></th>\n",
              "      <th></th>\n",
              "      <th></th>\n",
              "      <th></th>\n",
              "      <th></th>\n",
              "    </tr>\n",
              "  </thead>\n",
              "  <tbody>\n",
              "    <tr>\n",
              "      <th>2017-01-10</th>\n",
              "      <td>1069.90</td>\n",
              "      <td>1045.05</td>\n",
              "      <td>68.0225</td>\n",
              "      <td>19872.859375</td>\n",
              "      <td>19881.759766</td>\n",
              "      <td>1050.00</td>\n",
              "      <td>1037.35</td>\n",
              "      <td>68.0864</td>\n",
              "      <td>19890.939453</td>\n",
              "      <td>19942.160156</td>\n",
              "      <td>1051.90</td>\n",
              "      <td>1031.45</td>\n",
              "      <td>68.1791</td>\n",
              "      <td>19924.560547</td>\n",
              "      <td>19899.289062</td>\n",
              "      <td>1037.00</td>\n",
              "      <td>1043.90</td>\n",
              "      <td>67.7884</td>\n",
              "      <td>19906.960938</td>\n",
              "      <td>19963.800781</td>\n",
              "      <td>1047.95</td>\n",
              "      <td>1041.95</td>\n",
              "      <td>67.9522</td>\n",
              "      <td>19931.410156</td>\n",
              "      <td>19887.380859</td>\n",
              "      <td>1045.00</td>\n",
              "      <td>1176.00</td>\n",
              "      <td>68.1863</td>\n",
              "      <td>19876.349609</td>\n",
              "      <td>19855.529297</td>\n",
              "    </tr>\n",
              "    <tr>\n",
              "      <th>2017-01-11</th>\n",
              "      <td>1050.00</td>\n",
              "      <td>1037.35</td>\n",
              "      <td>68.0864</td>\n",
              "      <td>19890.939453</td>\n",
              "      <td>19942.160156</td>\n",
              "      <td>1051.90</td>\n",
              "      <td>1031.45</td>\n",
              "      <td>68.1791</td>\n",
              "      <td>19924.560547</td>\n",
              "      <td>19899.289062</td>\n",
              "      <td>1037.00</td>\n",
              "      <td>1043.90</td>\n",
              "      <td>67.7884</td>\n",
              "      <td>19906.960938</td>\n",
              "      <td>19963.800781</td>\n",
              "      <td>1047.95</td>\n",
              "      <td>1041.95</td>\n",
              "      <td>67.9522</td>\n",
              "      <td>19931.410156</td>\n",
              "      <td>19887.380859</td>\n",
              "      <td>1045.00</td>\n",
              "      <td>1176.00</td>\n",
              "      <td>68.1863</td>\n",
              "      <td>19876.349609</td>\n",
              "      <td>19855.529297</td>\n",
              "      <td>1166.90</td>\n",
              "      <td>1132.15</td>\n",
              "      <td>68.0641</td>\n",
              "      <td>19887.380859</td>\n",
              "      <td>19954.279297</td>\n",
              "    </tr>\n",
              "    <tr>\n",
              "      <th>2017-01-12</th>\n",
              "      <td>1051.90</td>\n",
              "      <td>1031.45</td>\n",
              "      <td>68.1791</td>\n",
              "      <td>19924.560547</td>\n",
              "      <td>19899.289062</td>\n",
              "      <td>1037.00</td>\n",
              "      <td>1043.90</td>\n",
              "      <td>67.7884</td>\n",
              "      <td>19906.960938</td>\n",
              "      <td>19963.800781</td>\n",
              "      <td>1047.95</td>\n",
              "      <td>1041.95</td>\n",
              "      <td>67.9522</td>\n",
              "      <td>19931.410156</td>\n",
              "      <td>19887.380859</td>\n",
              "      <td>1045.00</td>\n",
              "      <td>1176.00</td>\n",
              "      <td>68.1863</td>\n",
              "      <td>19876.349609</td>\n",
              "      <td>19855.529297</td>\n",
              "      <td>1166.90</td>\n",
              "      <td>1132.15</td>\n",
              "      <td>68.0641</td>\n",
              "      <td>19887.380859</td>\n",
              "      <td>19954.279297</td>\n",
              "      <td>1139.75</td>\n",
              "      <td>1122.10</td>\n",
              "      <td>68.2276</td>\n",
              "      <td>19926.210938</td>\n",
              "      <td>19891.000000</td>\n",
              "    </tr>\n",
              "    <tr>\n",
              "      <th>2017-01-13</th>\n",
              "      <td>1037.00</td>\n",
              "      <td>1043.90</td>\n",
              "      <td>67.7884</td>\n",
              "      <td>19906.960938</td>\n",
              "      <td>19963.800781</td>\n",
              "      <td>1047.95</td>\n",
              "      <td>1041.95</td>\n",
              "      <td>67.9522</td>\n",
              "      <td>19931.410156</td>\n",
              "      <td>19887.380859</td>\n",
              "      <td>1045.00</td>\n",
              "      <td>1176.00</td>\n",
              "      <td>68.1863</td>\n",
              "      <td>19876.349609</td>\n",
              "      <td>19855.529297</td>\n",
              "      <td>1166.90</td>\n",
              "      <td>1132.15</td>\n",
              "      <td>68.0641</td>\n",
              "      <td>19887.380859</td>\n",
              "      <td>19954.279297</td>\n",
              "      <td>1139.75</td>\n",
              "      <td>1122.10</td>\n",
              "      <td>68.2276</td>\n",
              "      <td>19926.210938</td>\n",
              "      <td>19891.000000</td>\n",
              "      <td>1130.00</td>\n",
              "      <td>1130.85</td>\n",
              "      <td>68.0858</td>\n",
              "      <td>19912.539062</td>\n",
              "      <td>19885.730469</td>\n",
              "    </tr>\n",
              "    <tr>\n",
              "      <th>2017-01-16</th>\n",
              "      <td>1047.95</td>\n",
              "      <td>1041.95</td>\n",
              "      <td>67.9522</td>\n",
              "      <td>19931.410156</td>\n",
              "      <td>19887.380859</td>\n",
              "      <td>1045.00</td>\n",
              "      <td>1176.00</td>\n",
              "      <td>68.1863</td>\n",
              "      <td>19876.349609</td>\n",
              "      <td>19855.529297</td>\n",
              "      <td>1166.90</td>\n",
              "      <td>1132.15</td>\n",
              "      <td>68.0641</td>\n",
              "      <td>19887.380859</td>\n",
              "      <td>19954.279297</td>\n",
              "      <td>1139.75</td>\n",
              "      <td>1122.10</td>\n",
              "      <td>68.2276</td>\n",
              "      <td>19926.210938</td>\n",
              "      <td>19891.000000</td>\n",
              "      <td>1130.00</td>\n",
              "      <td>1130.85</td>\n",
              "      <td>68.0858</td>\n",
              "      <td>19912.539062</td>\n",
              "      <td>19885.730469</td>\n",
              "      <td>1125.00</td>\n",
              "      <td>1124.45</td>\n",
              "      <td>68.2310</td>\n",
              "      <td>19880.679688</td>\n",
              "      <td>19856.250000</td>\n",
              "    </tr>\n",
              "  </tbody>\n",
              "</table>\n",
              "</div>"
            ],
            "text/plain": [
              "            Open_BOM5000021(t-5)  ...  DJIClose5(t)\n",
              "Date                              ...              \n",
              "2017-01-10               1069.90  ...  19855.529297\n",
              "2017-01-11               1050.00  ...  19954.279297\n",
              "2017-01-12               1051.90  ...  19891.000000\n",
              "2017-01-13               1037.00  ...  19885.730469\n",
              "2017-01-16               1047.95  ...  19856.250000\n",
              "\n",
              "[5 rows x 30 columns]"
            ]
          },
          "metadata": {
            "tags": []
          },
          "execution_count": 16
        }
      ]
    },
    {
      "cell_type": "code",
      "metadata": {
        "id": "WdeGufVga6hI",
        "colab_type": "code",
        "colab": {}
      },
      "source": [
        "#Stock code we want to predict\n",
        "target_stock='Close_BOM5000022'\n",
        "columns=data.columns\n",
        "\n",
        "#Keep on Target_stock(t) and drop other variables of (t), as we want to predict only target_stock(t)\n",
        "reframed_data=data.drop([i for i in columns if '(t)' in i and i!= target_stock+'(t)'],axis=1)\n"
      ],
      "execution_count": 17,
      "outputs": []
    },
    {
      "cell_type": "code",
      "metadata": {
        "id": "0WD2fj-VdtKM",
        "colab_type": "code",
        "colab": {
          "base_uri": "https://localhost:8080/",
          "height": 357
        },
        "outputId": "9a92f0f5-191d-4aa4-b850-2791ea5a3190"
      },
      "source": [
        "reframed_data.head()"
      ],
      "execution_count": 18,
      "outputs": [
        {
          "output_type": "execute_result",
          "data": {
            "text/html": [
              "<div>\n",
              "<style scoped>\n",
              "    .dataframe tbody tr th:only-of-type {\n",
              "        vertical-align: middle;\n",
              "    }\n",
              "\n",
              "    .dataframe tbody tr th {\n",
              "        vertical-align: top;\n",
              "    }\n",
              "\n",
              "    .dataframe thead th {\n",
              "        text-align: right;\n",
              "    }\n",
              "</style>\n",
              "<table border=\"1\" class=\"dataframe\">\n",
              "  <thead>\n",
              "    <tr style=\"text-align: right;\">\n",
              "      <th></th>\n",
              "      <th>Open_BOM5000021(t-5)</th>\n",
              "      <th>Close_BOM5000022(t-5)</th>\n",
              "      <th>Conversion_Rate3(t-5)</th>\n",
              "      <th>DJIOpen4(t-5)</th>\n",
              "      <th>DJIClose5(t-5)</th>\n",
              "      <th>Open_BOM5000021(t-4)</th>\n",
              "      <th>Close_BOM5000022(t-4)</th>\n",
              "      <th>Conversion_Rate3(t-4)</th>\n",
              "      <th>DJIOpen4(t-4)</th>\n",
              "      <th>DJIClose5(t-4)</th>\n",
              "      <th>Open_BOM5000021(t-3)</th>\n",
              "      <th>Close_BOM5000022(t-3)</th>\n",
              "      <th>Conversion_Rate3(t-3)</th>\n",
              "      <th>DJIOpen4(t-3)</th>\n",
              "      <th>DJIClose5(t-3)</th>\n",
              "      <th>Open_BOM5000021(t-2)</th>\n",
              "      <th>Close_BOM5000022(t-2)</th>\n",
              "      <th>Conversion_Rate3(t-2)</th>\n",
              "      <th>DJIOpen4(t-2)</th>\n",
              "      <th>DJIClose5(t-2)</th>\n",
              "      <th>Open_BOM5000021(t-1)</th>\n",
              "      <th>Close_BOM5000022(t-1)</th>\n",
              "      <th>Conversion_Rate3(t-1)</th>\n",
              "      <th>DJIOpen4(t-1)</th>\n",
              "      <th>DJIClose5(t-1)</th>\n",
              "      <th>Close_BOM5000022(t)</th>\n",
              "    </tr>\n",
              "    <tr>\n",
              "      <th>Date</th>\n",
              "      <th></th>\n",
              "      <th></th>\n",
              "      <th></th>\n",
              "      <th></th>\n",
              "      <th></th>\n",
              "      <th></th>\n",
              "      <th></th>\n",
              "      <th></th>\n",
              "      <th></th>\n",
              "      <th></th>\n",
              "      <th></th>\n",
              "      <th></th>\n",
              "      <th></th>\n",
              "      <th></th>\n",
              "      <th></th>\n",
              "      <th></th>\n",
              "      <th></th>\n",
              "      <th></th>\n",
              "      <th></th>\n",
              "      <th></th>\n",
              "      <th></th>\n",
              "      <th></th>\n",
              "      <th></th>\n",
              "      <th></th>\n",
              "      <th></th>\n",
              "      <th></th>\n",
              "    </tr>\n",
              "  </thead>\n",
              "  <tbody>\n",
              "    <tr>\n",
              "      <th>2017-01-10</th>\n",
              "      <td>1069.90</td>\n",
              "      <td>1045.05</td>\n",
              "      <td>68.0225</td>\n",
              "      <td>19872.859375</td>\n",
              "      <td>19881.759766</td>\n",
              "      <td>1050.00</td>\n",
              "      <td>1037.35</td>\n",
              "      <td>68.0864</td>\n",
              "      <td>19890.939453</td>\n",
              "      <td>19942.160156</td>\n",
              "      <td>1051.90</td>\n",
              "      <td>1031.45</td>\n",
              "      <td>68.1791</td>\n",
              "      <td>19924.560547</td>\n",
              "      <td>19899.289062</td>\n",
              "      <td>1037.00</td>\n",
              "      <td>1043.90</td>\n",
              "      <td>67.7884</td>\n",
              "      <td>19906.960938</td>\n",
              "      <td>19963.800781</td>\n",
              "      <td>1047.95</td>\n",
              "      <td>1041.95</td>\n",
              "      <td>67.9522</td>\n",
              "      <td>19931.410156</td>\n",
              "      <td>19887.380859</td>\n",
              "      <td>1176.00</td>\n",
              "    </tr>\n",
              "    <tr>\n",
              "      <th>2017-01-11</th>\n",
              "      <td>1050.00</td>\n",
              "      <td>1037.35</td>\n",
              "      <td>68.0864</td>\n",
              "      <td>19890.939453</td>\n",
              "      <td>19942.160156</td>\n",
              "      <td>1051.90</td>\n",
              "      <td>1031.45</td>\n",
              "      <td>68.1791</td>\n",
              "      <td>19924.560547</td>\n",
              "      <td>19899.289062</td>\n",
              "      <td>1037.00</td>\n",
              "      <td>1043.90</td>\n",
              "      <td>67.7884</td>\n",
              "      <td>19906.960938</td>\n",
              "      <td>19963.800781</td>\n",
              "      <td>1047.95</td>\n",
              "      <td>1041.95</td>\n",
              "      <td>67.9522</td>\n",
              "      <td>19931.410156</td>\n",
              "      <td>19887.380859</td>\n",
              "      <td>1045.00</td>\n",
              "      <td>1176.00</td>\n",
              "      <td>68.1863</td>\n",
              "      <td>19876.349609</td>\n",
              "      <td>19855.529297</td>\n",
              "      <td>1132.15</td>\n",
              "    </tr>\n",
              "    <tr>\n",
              "      <th>2017-01-12</th>\n",
              "      <td>1051.90</td>\n",
              "      <td>1031.45</td>\n",
              "      <td>68.1791</td>\n",
              "      <td>19924.560547</td>\n",
              "      <td>19899.289062</td>\n",
              "      <td>1037.00</td>\n",
              "      <td>1043.90</td>\n",
              "      <td>67.7884</td>\n",
              "      <td>19906.960938</td>\n",
              "      <td>19963.800781</td>\n",
              "      <td>1047.95</td>\n",
              "      <td>1041.95</td>\n",
              "      <td>67.9522</td>\n",
              "      <td>19931.410156</td>\n",
              "      <td>19887.380859</td>\n",
              "      <td>1045.00</td>\n",
              "      <td>1176.00</td>\n",
              "      <td>68.1863</td>\n",
              "      <td>19876.349609</td>\n",
              "      <td>19855.529297</td>\n",
              "      <td>1166.90</td>\n",
              "      <td>1132.15</td>\n",
              "      <td>68.0641</td>\n",
              "      <td>19887.380859</td>\n",
              "      <td>19954.279297</td>\n",
              "      <td>1122.10</td>\n",
              "    </tr>\n",
              "    <tr>\n",
              "      <th>2017-01-13</th>\n",
              "      <td>1037.00</td>\n",
              "      <td>1043.90</td>\n",
              "      <td>67.7884</td>\n",
              "      <td>19906.960938</td>\n",
              "      <td>19963.800781</td>\n",
              "      <td>1047.95</td>\n",
              "      <td>1041.95</td>\n",
              "      <td>67.9522</td>\n",
              "      <td>19931.410156</td>\n",
              "      <td>19887.380859</td>\n",
              "      <td>1045.00</td>\n",
              "      <td>1176.00</td>\n",
              "      <td>68.1863</td>\n",
              "      <td>19876.349609</td>\n",
              "      <td>19855.529297</td>\n",
              "      <td>1166.90</td>\n",
              "      <td>1132.15</td>\n",
              "      <td>68.0641</td>\n",
              "      <td>19887.380859</td>\n",
              "      <td>19954.279297</td>\n",
              "      <td>1139.75</td>\n",
              "      <td>1122.10</td>\n",
              "      <td>68.2276</td>\n",
              "      <td>19926.210938</td>\n",
              "      <td>19891.000000</td>\n",
              "      <td>1130.85</td>\n",
              "    </tr>\n",
              "    <tr>\n",
              "      <th>2017-01-16</th>\n",
              "      <td>1047.95</td>\n",
              "      <td>1041.95</td>\n",
              "      <td>67.9522</td>\n",
              "      <td>19931.410156</td>\n",
              "      <td>19887.380859</td>\n",
              "      <td>1045.00</td>\n",
              "      <td>1176.00</td>\n",
              "      <td>68.1863</td>\n",
              "      <td>19876.349609</td>\n",
              "      <td>19855.529297</td>\n",
              "      <td>1166.90</td>\n",
              "      <td>1132.15</td>\n",
              "      <td>68.0641</td>\n",
              "      <td>19887.380859</td>\n",
              "      <td>19954.279297</td>\n",
              "      <td>1139.75</td>\n",
              "      <td>1122.10</td>\n",
              "      <td>68.2276</td>\n",
              "      <td>19926.210938</td>\n",
              "      <td>19891.000000</td>\n",
              "      <td>1130.00</td>\n",
              "      <td>1130.85</td>\n",
              "      <td>68.0858</td>\n",
              "      <td>19912.539062</td>\n",
              "      <td>19885.730469</td>\n",
              "      <td>1124.45</td>\n",
              "    </tr>\n",
              "  </tbody>\n",
              "</table>\n",
              "</div>"
            ],
            "text/plain": [
              "            Open_BOM5000021(t-5)  ...  Close_BOM5000022(t)\n",
              "Date                              ...                     \n",
              "2017-01-10               1069.90  ...              1176.00\n",
              "2017-01-11               1050.00  ...              1132.15\n",
              "2017-01-12               1051.90  ...              1122.10\n",
              "2017-01-13               1037.00  ...              1130.85\n",
              "2017-01-16               1047.95  ...              1124.45\n",
              "\n",
              "[5 rows x 26 columns]"
            ]
          },
          "metadata": {
            "tags": []
          },
          "execution_count": 18
        }
      ]
    },
    {
      "cell_type": "code",
      "metadata": {
        "id": "Fih3C7_lgsjT",
        "colab_type": "code",
        "colab": {}
      },
      "source": [
        "#split scaled df to train and test data\n",
        "train_data, test_data = reframed_data.iloc[0:int(len(reframed_data)*0.8), :], reframed_data.iloc[int(len(reframed_data)*0.8):, :]"
      ],
      "execution_count": 19,
      "outputs": []
    },
    {
      "cell_type": "code",
      "metadata": {
        "id": "gjxBh1EIeRE1",
        "colab_type": "code",
        "colab": {}
      },
      "source": [
        "# normalize features\n",
        "scaler = MinMaxScaler(feature_range=(0, 1))\n",
        "train_data_scaled = scaler.fit_transform(train_data.values)"
      ],
      "execution_count": 20,
      "outputs": []
    },
    {
      "cell_type": "code",
      "metadata": {
        "id": "5YqTa3OJA-kr",
        "colab_type": "code",
        "colab": {}
      },
      "source": [
        "#transform test data\n",
        "test_data_scaled= scaler.transform(test_data)"
      ],
      "execution_count": 21,
      "outputs": []
    },
    {
      "cell_type": "code",
      "metadata": {
        "id": "nr_EupiKeXmC",
        "colab_type": "code",
        "colab": {}
      },
      "source": [
        "#convert train scaled array to DF\n",
        "train_scaled_df=pd.DataFrame(train_data_scaled,index=train_data.index,columns=train_data.columns)"
      ],
      "execution_count": 22,
      "outputs": []
    },
    {
      "cell_type": "code",
      "metadata": {
        "id": "w1kLJGnMBIZu",
        "colab_type": "code",
        "colab": {}
      },
      "source": [
        "#convert test scaled array to DF\n",
        "test_scaled_df=pd.DataFrame(test_data_scaled,index=test_data.index,columns=test_data.columns)"
      ],
      "execution_count": 23,
      "outputs": []
    },
    {
      "cell_type": "code",
      "metadata": {
        "id": "STTDByEngfX1",
        "colab_type": "code",
        "colab": {
          "base_uri": "https://localhost:8080/",
          "height": 357
        },
        "outputId": "cfedf573-bb14-460d-bcc4-d4672c31b22f"
      },
      "source": [
        "train_scaled_df.head()"
      ],
      "execution_count": 24,
      "outputs": [
        {
          "output_type": "execute_result",
          "data": {
            "text/html": [
              "<div>\n",
              "<style scoped>\n",
              "    .dataframe tbody tr th:only-of-type {\n",
              "        vertical-align: middle;\n",
              "    }\n",
              "\n",
              "    .dataframe tbody tr th {\n",
              "        vertical-align: top;\n",
              "    }\n",
              "\n",
              "    .dataframe thead th {\n",
              "        text-align: right;\n",
              "    }\n",
              "</style>\n",
              "<table border=\"1\" class=\"dataframe\">\n",
              "  <thead>\n",
              "    <tr style=\"text-align: right;\">\n",
              "      <th></th>\n",
              "      <th>Open_BOM5000021(t-5)</th>\n",
              "      <th>Close_BOM5000022(t-5)</th>\n",
              "      <th>Conversion_Rate3(t-5)</th>\n",
              "      <th>DJIOpen4(t-5)</th>\n",
              "      <th>DJIClose5(t-5)</th>\n",
              "      <th>Open_BOM5000021(t-4)</th>\n",
              "      <th>Close_BOM5000022(t-4)</th>\n",
              "      <th>Conversion_Rate3(t-4)</th>\n",
              "      <th>DJIOpen4(t-4)</th>\n",
              "      <th>DJIClose5(t-4)</th>\n",
              "      <th>Open_BOM5000021(t-3)</th>\n",
              "      <th>Close_BOM5000022(t-3)</th>\n",
              "      <th>Conversion_Rate3(t-3)</th>\n",
              "      <th>DJIOpen4(t-3)</th>\n",
              "      <th>DJIClose5(t-3)</th>\n",
              "      <th>Open_BOM5000021(t-2)</th>\n",
              "      <th>Close_BOM5000022(t-2)</th>\n",
              "      <th>Conversion_Rate3(t-2)</th>\n",
              "      <th>DJIOpen4(t-2)</th>\n",
              "      <th>DJIClose5(t-2)</th>\n",
              "      <th>Open_BOM5000021(t-1)</th>\n",
              "      <th>Close_BOM5000022(t-1)</th>\n",
              "      <th>Conversion_Rate3(t-1)</th>\n",
              "      <th>DJIOpen4(t-1)</th>\n",
              "      <th>DJIClose5(t-1)</th>\n",
              "      <th>Close_BOM5000022(t)</th>\n",
              "    </tr>\n",
              "    <tr>\n",
              "      <th>Date</th>\n",
              "      <th></th>\n",
              "      <th></th>\n",
              "      <th></th>\n",
              "      <th></th>\n",
              "      <th></th>\n",
              "      <th></th>\n",
              "      <th></th>\n",
              "      <th></th>\n",
              "      <th></th>\n",
              "      <th></th>\n",
              "      <th></th>\n",
              "      <th></th>\n",
              "      <th></th>\n",
              "      <th></th>\n",
              "      <th></th>\n",
              "      <th></th>\n",
              "      <th></th>\n",
              "      <th></th>\n",
              "      <th></th>\n",
              "      <th></th>\n",
              "      <th></th>\n",
              "      <th></th>\n",
              "      <th></th>\n",
              "      <th></th>\n",
              "      <th></th>\n",
              "      <th></th>\n",
              "    </tr>\n",
              "  </thead>\n",
              "  <tbody>\n",
              "    <tr>\n",
              "      <th>2017-01-10</th>\n",
              "      <td>0.050693</td>\n",
              "      <td>0.020274</td>\n",
              "      <td>0.423424</td>\n",
              "      <td>0.010328</td>\n",
              "      <td>0.019584</td>\n",
              "      <td>0.020031</td>\n",
              "      <td>0.008795</td>\n",
              "      <td>0.429212</td>\n",
              "      <td>0.012716</td>\n",
              "      <td>0.027503</td>\n",
              "      <td>0.022958</td>\n",
              "      <td>0.000000</td>\n",
              "      <td>0.437609</td>\n",
              "      <td>0.017157</td>\n",
              "      <td>0.021882</td>\n",
              "      <td>0.000000</td>\n",
              "      <td>0.002953</td>\n",
              "      <td>0.402218</td>\n",
              "      <td>0.014832</td>\n",
              "      <td>0.030341</td>\n",
              "      <td>0.004602</td>\n",
              "      <td>0.000000</td>\n",
              "      <td>0.417055</td>\n",
              "      <td>0.018062</td>\n",
              "      <td>0.020321</td>\n",
              "      <td>0.134528</td>\n",
              "    </tr>\n",
              "    <tr>\n",
              "      <th>2017-01-11</th>\n",
              "      <td>0.020031</td>\n",
              "      <td>0.008795</td>\n",
              "      <td>0.429212</td>\n",
              "      <td>0.012716</td>\n",
              "      <td>0.027503</td>\n",
              "      <td>0.022958</td>\n",
              "      <td>0.000000</td>\n",
              "      <td>0.437609</td>\n",
              "      <td>0.017157</td>\n",
              "      <td>0.021882</td>\n",
              "      <td>0.000000</td>\n",
              "      <td>0.018560</td>\n",
              "      <td>0.402218</td>\n",
              "      <td>0.014832</td>\n",
              "      <td>0.030341</td>\n",
              "      <td>0.016872</td>\n",
              "      <td>0.000000</td>\n",
              "      <td>0.417055</td>\n",
              "      <td>0.018062</td>\n",
              "      <td>0.020321</td>\n",
              "      <td>0.000000</td>\n",
              "      <td>0.203014</td>\n",
              "      <td>0.438261</td>\n",
              "      <td>0.010789</td>\n",
              "      <td>0.016144</td>\n",
              "      <td>0.062413</td>\n",
              "    </tr>\n",
              "    <tr>\n",
              "      <th>2017-01-12</th>\n",
              "      <td>0.022958</td>\n",
              "      <td>0.000000</td>\n",
              "      <td>0.437609</td>\n",
              "      <td>0.017157</td>\n",
              "      <td>0.021882</td>\n",
              "      <td>0.000000</td>\n",
              "      <td>0.018560</td>\n",
              "      <td>0.402218</td>\n",
              "      <td>0.014832</td>\n",
              "      <td>0.030341</td>\n",
              "      <td>0.016872</td>\n",
              "      <td>0.015653</td>\n",
              "      <td>0.417055</td>\n",
              "      <td>0.018062</td>\n",
              "      <td>0.020321</td>\n",
              "      <td>0.012327</td>\n",
              "      <td>0.203014</td>\n",
              "      <td>0.438261</td>\n",
              "      <td>0.010789</td>\n",
              "      <td>0.016144</td>\n",
              "      <td>0.190172</td>\n",
              "      <td>0.136605</td>\n",
              "      <td>0.427192</td>\n",
              "      <td>0.012246</td>\n",
              "      <td>0.029092</td>\n",
              "      <td>0.045884</td>\n",
              "    </tr>\n",
              "    <tr>\n",
              "      <th>2017-01-13</th>\n",
              "      <td>0.000000</td>\n",
              "      <td>0.018560</td>\n",
              "      <td>0.402218</td>\n",
              "      <td>0.014832</td>\n",
              "      <td>0.030341</td>\n",
              "      <td>0.016872</td>\n",
              "      <td>0.015653</td>\n",
              "      <td>0.417055</td>\n",
              "      <td>0.018062</td>\n",
              "      <td>0.020321</td>\n",
              "      <td>0.012327</td>\n",
              "      <td>0.215489</td>\n",
              "      <td>0.438261</td>\n",
              "      <td>0.010789</td>\n",
              "      <td>0.016144</td>\n",
              "      <td>0.200154</td>\n",
              "      <td>0.136605</td>\n",
              "      <td>0.427192</td>\n",
              "      <td>0.012246</td>\n",
              "      <td>0.029092</td>\n",
              "      <td>0.147816</td>\n",
              "      <td>0.121384</td>\n",
              "      <td>0.442003</td>\n",
              "      <td>0.017375</td>\n",
              "      <td>0.020795</td>\n",
              "      <td>0.060275</td>\n",
              "    </tr>\n",
              "    <tr>\n",
              "      <th>2017-01-16</th>\n",
              "      <td>0.016872</td>\n",
              "      <td>0.015653</td>\n",
              "      <td>0.417055</td>\n",
              "      <td>0.018062</td>\n",
              "      <td>0.020321</td>\n",
              "      <td>0.012327</td>\n",
              "      <td>0.215489</td>\n",
              "      <td>0.438261</td>\n",
              "      <td>0.010789</td>\n",
              "      <td>0.016144</td>\n",
              "      <td>0.200154</td>\n",
              "      <td>0.150119</td>\n",
              "      <td>0.427192</td>\n",
              "      <td>0.012246</td>\n",
              "      <td>0.029092</td>\n",
              "      <td>0.158320</td>\n",
              "      <td>0.121384</td>\n",
              "      <td>0.442003</td>\n",
              "      <td>0.017375</td>\n",
              "      <td>0.020795</td>\n",
              "      <td>0.132605</td>\n",
              "      <td>0.134636</td>\n",
              "      <td>0.429158</td>\n",
              "      <td>0.015569</td>\n",
              "      <td>0.020104</td>\n",
              "      <td>0.049749</td>\n",
              "    </tr>\n",
              "  </tbody>\n",
              "</table>\n",
              "</div>"
            ],
            "text/plain": [
              "            Open_BOM5000021(t-5)  ...  Close_BOM5000022(t)\n",
              "Date                              ...                     \n",
              "2017-01-10              0.050693  ...             0.134528\n",
              "2017-01-11              0.020031  ...             0.062413\n",
              "2017-01-12              0.022958  ...             0.045884\n",
              "2017-01-13              0.000000  ...             0.060275\n",
              "2017-01-16              0.016872  ...             0.049749\n",
              "\n",
              "[5 rows x 26 columns]"
            ]
          },
          "metadata": {
            "tags": []
          },
          "execution_count": 24
        }
      ]
    },
    {
      "cell_type": "code",
      "metadata": {
        "id": "NgR4xDKwrXXZ",
        "colab_type": "code",
        "colab": {
          "base_uri": "https://localhost:8080/",
          "height": 34
        },
        "outputId": "28d66981-42a2-4a29-85ef-99367e2d6b12"
      },
      "source": [
        "train_scaled_df.shape"
      ],
      "execution_count": 25,
      "outputs": [
        {
          "output_type": "execute_result",
          "data": {
            "text/plain": [
              "(684, 26)"
            ]
          },
          "metadata": {
            "tags": []
          },
          "execution_count": 25
        }
      ]
    },
    {
      "cell_type": "code",
      "metadata": {
        "id": "CgnRVtIzAluN",
        "colab_type": "code",
        "colab": {
          "base_uri": "https://localhost:8080/",
          "height": 34
        },
        "outputId": "8d5806d3-8278-472d-e7c3-dff7a9de2118"
      },
      "source": [
        "test_scaled_df.shape"
      ],
      "execution_count": 26,
      "outputs": [
        {
          "output_type": "execute_result",
          "data": {
            "text/plain": [
              "(172, 26)"
            ]
          },
          "metadata": {
            "tags": []
          },
          "execution_count": 26
        }
      ]
    },
    {
      "cell_type": "code",
      "metadata": {
        "id": "WHlar4ZChdXs",
        "colab_type": "code",
        "colab": {}
      },
      "source": [
        "# split into input and outputs\n",
        "train_X, train_y = train_scaled_df[:].drop(target_stock+'(t)',axis=1,inplace=False).values, train_scaled_df[target_stock+'(t)'].values\n",
        "test_X, test_y = test_scaled_df[:].drop(target_stock+'(t)',axis=1,inplace=False).values, test_scaled_df[target_stock+'(t)'].values"
      ],
      "execution_count": 27,
      "outputs": []
    },
    {
      "cell_type": "code",
      "metadata": {
        "id": "YUVQJfmSteyP",
        "colab_type": "code",
        "colab": {
          "base_uri": "https://localhost:8080/",
          "height": 34
        },
        "outputId": "4723eef8-4a4d-4c86-ce48-3b706a9c1062"
      },
      "source": [
        "train_X.shape,train_y.shape"
      ],
      "execution_count": 28,
      "outputs": [
        {
          "output_type": "execute_result",
          "data": {
            "text/plain": [
              "((684, 25), (684,))"
            ]
          },
          "metadata": {
            "tags": []
          },
          "execution_count": 28
        }
      ]
    },
    {
      "cell_type": "code",
      "metadata": {
        "id": "auUCn6DMjXd8",
        "colab_type": "code",
        "colab": {
          "base_uri": "https://localhost:8080/",
          "height": 34
        },
        "outputId": "3547f30d-18b1-4fba-edf2-407a40b600cb"
      },
      "source": [
        "# reshape input to be 3D [samples, timesteps, features]\n",
        "train_X = train_X.reshape((train_X.shape[0], n_timesteps, n_features))\n",
        "test_X = test_X.reshape((test_X.shape[0], n_timesteps, n_features))\n",
        "print(train_X.shape, train_y.shape, test_X.shape, test_y.shape)"
      ],
      "execution_count": 30,
      "outputs": [
        {
          "output_type": "stream",
          "text": [
            "(684, 5, 5) (684,) (172, 5, 5) (172,)\n"
          ],
          "name": "stdout"
        }
      ]
    },
    {
      "cell_type": "code",
      "metadata": {
        "id": "BCo3lN5JjtqR",
        "colab_type": "code",
        "colab": {
          "base_uri": "https://localhost:8080/",
          "height": 221
        },
        "outputId": "1134808d-5e95-419e-ccdf-1161bd4e29a6"
      },
      "source": [
        "from sklearn.metrics import mean_squared_error\n",
        "from keras.models import Sequential\n",
        "from keras.layers import Dense\n",
        "from keras.layers import LSTM\n",
        "\n",
        "# design network\n",
        "model = Sequential()\n",
        "model.add(LSTM(50, input_shape=(train_X.shape[1], train_X.shape[2])))\n",
        "model.add(Dense(1))\n",
        "model.compile(loss='mae', optimizer='adam')\n",
        "\n",
        "model.summary()"
      ],
      "execution_count": 31,
      "outputs": [
        {
          "output_type": "stream",
          "text": [
            "Model: \"sequential\"\n",
            "_________________________________________________________________\n",
            "Layer (type)                 Output Shape              Param #   \n",
            "=================================================================\n",
            "lstm (LSTM)                  (None, 50)                11200     \n",
            "_________________________________________________________________\n",
            "dense (Dense)                (None, 1)                 51        \n",
            "=================================================================\n",
            "Total params: 11,251\n",
            "Trainable params: 11,251\n",
            "Non-trainable params: 0\n",
            "_________________________________________________________________\n"
          ],
          "name": "stdout"
        }
      ]
    },
    {
      "cell_type": "code",
      "metadata": {
        "id": "6Ph_AriGk340",
        "colab_type": "code",
        "colab": {
          "base_uri": "https://localhost:8080/",
          "height": 1000
        },
        "outputId": "618db3ab-7142-4755-d87e-301e96eca53d"
      },
      "source": [
        "# fit network\n",
        "history = model.fit(train_X, train_y, epochs=50, batch_size=72, validation_data=(test_X, test_y), verbose=2, shuffle=False)\n",
        "# plot history\n",
        "plt.plot(history.history['loss'], label='train')\n",
        "plt.plot(history.history['val_loss'], label='test')\n",
        "plt.legend()\n",
        "plt.show()"
      ],
      "execution_count": 32,
      "outputs": [
        {
          "output_type": "stream",
          "text": [
            "Epoch 1/50\n",
            "10/10 - 0s - loss: 0.2410 - val_loss: 0.4059\n",
            "Epoch 2/50\n",
            "10/10 - 0s - loss: 0.1919 - val_loss: 0.4275\n",
            "Epoch 3/50\n",
            "10/10 - 0s - loss: 0.1341 - val_loss: 0.2998\n",
            "Epoch 4/50\n",
            "10/10 - 0s - loss: 0.1189 - val_loss: 0.2467\n",
            "Epoch 5/50\n",
            "10/10 - 0s - loss: 0.0985 - val_loss: 0.2020\n",
            "Epoch 6/50\n",
            "10/10 - 0s - loss: 0.0802 - val_loss: 0.1489\n",
            "Epoch 7/50\n",
            "10/10 - 0s - loss: 0.0731 - val_loss: 0.1302\n",
            "Epoch 8/50\n",
            "10/10 - 0s - loss: 0.0700 - val_loss: 0.1283\n",
            "Epoch 9/50\n",
            "10/10 - 0s - loss: 0.0635 - val_loss: 0.1288\n",
            "Epoch 10/50\n",
            "10/10 - 0s - loss: 0.0614 - val_loss: 0.1273\n",
            "Epoch 11/50\n",
            "10/10 - 0s - loss: 0.0569 - val_loss: 0.1190\n",
            "Epoch 12/50\n",
            "10/10 - 0s - loss: 0.0560 - val_loss: 0.1139\n",
            "Epoch 13/50\n",
            "10/10 - 0s - loss: 0.0534 - val_loss: 0.1093\n",
            "Epoch 14/50\n",
            "10/10 - 0s - loss: 0.0533 - val_loss: 0.1052\n",
            "Epoch 15/50\n",
            "10/10 - 0s - loss: 0.0517 - val_loss: 0.0999\n",
            "Epoch 16/50\n",
            "10/10 - 0s - loss: 0.0516 - val_loss: 0.0979\n",
            "Epoch 17/50\n",
            "10/10 - 0s - loss: 0.0513 - val_loss: 0.0948\n",
            "Epoch 18/50\n",
            "10/10 - 0s - loss: 0.0504 - val_loss: 0.0906\n",
            "Epoch 19/50\n",
            "10/10 - 0s - loss: 0.0505 - val_loss: 0.0922\n",
            "Epoch 20/50\n",
            "10/10 - 0s - loss: 0.0510 - val_loss: 0.0895\n",
            "Epoch 21/50\n",
            "10/10 - 0s - loss: 0.0495 - val_loss: 0.0839\n",
            "Epoch 22/50\n",
            "10/10 - 0s - loss: 0.0506 - val_loss: 0.0905\n",
            "Epoch 23/50\n",
            "10/10 - 0s - loss: 0.0522 - val_loss: 0.0950\n",
            "Epoch 24/50\n",
            "10/10 - 0s - loss: 0.0526 - val_loss: 0.0798\n",
            "Epoch 25/50\n",
            "10/10 - 0s - loss: 0.0503 - val_loss: 0.0884\n",
            "Epoch 26/50\n",
            "10/10 - 0s - loss: 0.0532 - val_loss: 0.1017\n",
            "Epoch 27/50\n",
            "10/10 - 0s - loss: 0.0604 - val_loss: 0.0964\n",
            "Epoch 28/50\n",
            "10/10 - 0s - loss: 0.0527 - val_loss: 0.0862\n",
            "Epoch 29/50\n",
            "10/10 - 0s - loss: 0.0559 - val_loss: 0.0882\n",
            "Epoch 30/50\n",
            "10/10 - 0s - loss: 0.0511 - val_loss: 0.0959\n",
            "Epoch 31/50\n",
            "10/10 - 0s - loss: 0.0500 - val_loss: 0.0816\n",
            "Epoch 32/50\n",
            "10/10 - 0s - loss: 0.0477 - val_loss: 0.0797\n",
            "Epoch 33/50\n",
            "10/10 - 0s - loss: 0.0487 - val_loss: 0.0869\n",
            "Epoch 34/50\n",
            "10/10 - 0s - loss: 0.0488 - val_loss: 0.0835\n",
            "Epoch 35/50\n",
            "10/10 - 0s - loss: 0.0466 - val_loss: 0.0790\n",
            "Epoch 36/50\n",
            "10/10 - 0s - loss: 0.0481 - val_loss: 0.0827\n",
            "Epoch 37/50\n",
            "10/10 - 0s - loss: 0.0484 - val_loss: 0.0834\n",
            "Epoch 38/50\n",
            "10/10 - 0s - loss: 0.0472 - val_loss: 0.0733\n",
            "Epoch 39/50\n",
            "10/10 - 0s - loss: 0.0466 - val_loss: 0.0803\n",
            "Epoch 40/50\n",
            "10/10 - 0s - loss: 0.0482 - val_loss: 0.0835\n",
            "Epoch 41/50\n",
            "10/10 - 0s - loss: 0.0488 - val_loss: 0.0737\n",
            "Epoch 42/50\n",
            "10/10 - 0s - loss: 0.0466 - val_loss: 0.0823\n",
            "Epoch 43/50\n",
            "10/10 - 0s - loss: 0.0509 - val_loss: 0.0879\n",
            "Epoch 44/50\n",
            "10/10 - 0s - loss: 0.0523 - val_loss: 0.0849\n",
            "Epoch 45/50\n",
            "10/10 - 0s - loss: 0.0470 - val_loss: 0.0748\n",
            "Epoch 46/50\n",
            "10/10 - 0s - loss: 0.0485 - val_loss: 0.0820\n",
            "Epoch 47/50\n",
            "10/10 - 0s - loss: 0.0486 - val_loss: 0.0880\n",
            "Epoch 48/50\n",
            "10/10 - 0s - loss: 0.0496 - val_loss: 0.0757\n",
            "Epoch 49/50\n",
            "10/10 - 0s - loss: 0.0445 - val_loss: 0.0748\n",
            "Epoch 50/50\n",
            "10/10 - 0s - loss: 0.0465 - val_loss: 0.0795\n"
          ],
          "name": "stdout"
        },
        {
          "output_type": "display_data",
          "data": {
            "image/png": "[encoded data removed]",
            "text/plain": [
              "<Figure size 432x288 with 1 Axes>"
            ]
          },
          "metadata": {
            "tags": [],
            "needs_background": "light"
          }
        }
      ]
    },
    {
      "cell_type": "code",
      "metadata": {
        "id": "Q1MhKx_6m7Dy",
        "colab_type": "code",
        "colab": {
          "base_uri": "https://localhost:8080/",
          "height": 34
        },
        "outputId": "6195ed53-c1e8-4384-9c14-13ae06ab10f6"
      },
      "source": [
        "# make a prediction\n",
        "yhat = model.predict(test_X)\n",
        "print(yhat.shape)\n"
      ],
      "execution_count": 33,
      "outputs": [
        {
          "output_type": "stream",
          "text": [
            "(172, 1)\n"
          ],
          "name": "stdout"
        }
      ]
    },
    {
      "cell_type": "code",
      "metadata": {
        "id": "SyflcQmNnHYb",
        "colab_type": "code",
        "colab": {
          "base_uri": "https://localhost:8080/",
          "height": 34
        },
        "outputId": "45263f1b-eb40-4884-b97e-4029ecd0404a"
      },
      "source": [
        "test_X.shape"
      ],
      "execution_count": 34,
      "outputs": [
        {
          "output_type": "execute_result",
          "data": {
            "text/plain": [
              "(172, 5, 5)"
            ]
          },
          "metadata": {
            "tags": []
          },
          "execution_count": 34
        }
      ]
    },
    {
      "cell_type": "code",
      "metadata": {
        "id": "x62AzojDoIo1",
        "colab_type": "code",
        "colab": {}
      },
      "source": [
        "#Reshape test_x to origianl shape\n",
        "test_reshape_X = test_X.reshape((test_X.shape[0], n_timesteps* n_features))"
      ],
      "execution_count": 35,
      "outputs": []
    },
    {
      "cell_type": "code",
      "metadata": {
        "id": "AsVHaHtxkVC9",
        "colab_type": "code",
        "colab": {
          "base_uri": "https://localhost:8080/",
          "height": 34
        },
        "outputId": "a70ab77b-d855-4c34-ba29-52d402dbc26e"
      },
      "source": [
        "from numpy import concatenate\n",
        "from math import sqrt\n",
        "\n",
        "# invert scaling for forecast\n",
        "inv_yhat = concatenate(( test_reshape_X[:, :],yhat), axis=1)\n",
        "inv_yhat = scaler.inverse_transform(inv_yhat)\n",
        "inv_yhat = inv_yhat[:,25]\n",
        "# invert scaling for actual\n",
        "test_y = test_y.reshape((len(test_y), 1))\n",
        "inv_y = concatenate((test_reshape_X[:, :],test_y), axis=1)\n",
        "inv_y = scaler.inverse_transform(inv_y)\n",
        "inv_y = inv_y[:,25]\n",
        "# calculate RMSE\n",
        "rmse = sqrt(mean_squared_error(inv_y, inv_yhat))\n",
        "print('Test RMSE: %.3f' % rmse)"
      ],
      "execution_count": 52,
      "outputs": [
        {
          "output_type": "stream",
          "text": [
            "Test RMSE: 63.068\n"
          ],
          "name": "stdout"
        }
      ]
    },
    {
      "cell_type": "code",
      "metadata": {
        "id": "UBQnLZqdotOS",
        "colab_type": "code",
        "colab": {
          "base_uri": "https://localhost:8080/",
          "height": 265
        },
        "outputId": "259cffe4-3500-4a7e-b68f-218837b220ea"
      },
      "source": [
        "plt.plot(inv_y,label='Testing Data')\n",
        "plt.plot(inv_yhat,label='Predicted price for Test data')\n",
        "plt.legend();"
      ],
      "execution_count": 49,
      "outputs": [
        {
          "output_type": "display_data",
          "data": {
            "image/png": "[encoded data removed]",
            "text/plain": [
              "<Figure size 432x288 with 1 Axes>"
            ]
          },
          "metadata": {
            "tags": [],
            "needs_background": "light"
          }
        }
      ]
    },
    {
      "cell_type": "code",
      "metadata": {
        "id": "ddHmAe3eChQi",
        "colab_type": "code",
        "colab": {}
      },
      "source": [
        "# invert scaling for forecast\n",
        "inv_test_data = concatenate(( test_reshape_X[:, :],yhat), axis=1)\n",
        "inv_test_data = scaler.inverse_transform(inv_test_data)"
      ],
      "execution_count": 50,
      "outputs": []
    },
    {
      "cell_type": "code",
      "metadata": {
        "id": "geRsxU0k46kv",
        "colab_type": "code",
        "colab": {}
      },
      "source": [
        "#Calculate average price of the stock based on last 5 days of test data \n",
        "avg_test_x=inv_test_data[:,(0,5,10,15,20)].mean(axis=1)"
      ],
      "execution_count": 54,
      "outputs": []
    },
    {
      "cell_type": "code",
      "metadata": {
        "id": "d3wbsDuBKfoM",
        "colab_type": "code",
        "colab": {
          "base_uri": "https://localhost:8080/",
          "height": 34
        },
        "outputId": "1ae41258-cd62-41dd-a0c4-be6af865a5db"
      },
      "source": [
        "avg_test_x.shape"
      ],
      "execution_count": 55,
      "outputs": [
        {
          "output_type": "execute_result",
          "data": {
            "text/plain": [
              "(172,)"
            ]
          },
          "metadata": {
            "tags": []
          },
          "execution_count": 55
        }
      ]
    },
    {
      "cell_type": "code",
      "metadata": {
        "id": "S-RneimMK0Ly",
        "colab_type": "code",
        "colab": {
          "base_uri": "https://localhost:8080/",
          "height": 34
        },
        "outputId": "0fdddc44-eb2a-4970-e932-e997caf99c56"
      },
      "source": [
        "# calculate RMSE\n",
        "rmse = sqrt(mean_squared_error(inv_y, avg_test_x))\n",
        "print('Test RMSE: %.3f' % rmse)"
      ],
      "execution_count": 57,
      "outputs": [
        {
          "output_type": "stream",
          "text": [
            "Test RMSE: 53.648\n"
          ],
          "name": "stdout"
        }
      ]
    },
    {
      "cell_type": "code",
      "metadata": {
        "id": "Py8rw_0g_Wkx",
        "colab_type": "code",
        "colab": {
          "base_uri": "https://localhost:8080/",
          "height": 265
        },
        "outputId": "357c8dcc-b488-4809-d712-be43de297e6e"
      },
      "source": [
        "plt.plot(inv_y,label='Testing Data', color='blue')\n",
        "plt.plot(inv_yhat,label='Predicted price for Test data',color='red')\n",
        "plt.plot(avg_test_x,label='Avg Price for Test data',color='green')\n",
        "plt.legend();"
      ],
      "execution_count": 60,
      "outputs": [
        {
          "output_type": "display_data",
          "data": {
            "image/png": "[encoded data removed]",
            "text/plain": [
              "<Figure size 432x288 with 1 Axes>"
            ]
          },
          "metadata": {
            "tags": [],
            "needs_background": "light"
          }
        }
      ]
    }
  ]
}