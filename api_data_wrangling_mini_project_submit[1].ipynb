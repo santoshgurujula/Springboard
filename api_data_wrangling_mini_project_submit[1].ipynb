
        
    

    <!DOCTYPE html>
    <!--[if lte IE 9]>
        <html class="support-banner-container">
            <![endif]-->
            <!--[if !IE]><!-->
                <html>
                    <!--<![endif]-->
                    


<head>
    <title>santoshgurujula/springboard-aic-mini-projects-public - Domino</title>
    <meta charset="utf-8">


    <meta name="google" content="notranslate">
    <meta property="og:image" content="/assets/images/domino_logo.png">
    <meta name="viewport" content="width=device-width, initial-scale=1.0">
    
      
<script type="text/javascript">(window.NREUM||(NREUM={})).loader_config={licenseKey:"562fb3f21b",applicationID:"42351839"};window.NREUM||(NREUM={}),__nr_require=function(n,e,t){function r(t){if(!e[t]){var i=e[t]={exports:{}};n[t][0].call(i.exports,function(e){var i=n[t][1][e];return r(i||e)},i,i.exports)}return e[t].exports}if("function"==typeof __nr_require)return __nr_require;for(var i=0;i<t.length;i++)r(t[i]);return r}({1:[function(n,e,t){function r(){}function i(n,e,t){return function(){return o(n,[u.now()].concat(f(arguments)),e?null:this,t),e?void 0:this}}var o=n("handle"),a=n(4),f=n(5),c=n("ee").get("tracer"),u=n("loader"),s=NREUM;"undefined"==typeof window.newrelic&&(newrelic=s);var p=["setPageViewName","setCustomAttribute","setErrorHandler","finished","addToTrace","inlineHit","addRelease"],d="api-",l=d+"ixn-";a(p,function(n,e){s[e]=i(d+e,!0,"api")}),s.addPageAction=i(d+"addPageAction",!0),s.setCurrentRouteName=i(d+"routeName",!0),e.exports=newrelic,s.interaction=function(){return(new r).get()};var m=r.prototype={createTracer:function(n,e){var t={},r=this,i="function"==typeof e;return o(l+"tracer",[u.now(),n,t],r),function(){if(c.emit((i?"":"no-")+"fn-start",[u.now(),r,i],t),i)try{return e.apply(this,arguments)}catch(n){throw c.emit("fn-err",[arguments,this,n],t),n}finally{c.emit("fn-end",[u.now()],t)}}}};a("actionText,setName,setAttribute,save,ignore,onEnd,getContext,end,get".split(","),function(n,e){m[e]=i(l+e)}),newrelic.noticeError=function(n,e){"string"==typeof n&&(n=new Error(n)),o("err",[n,u.now(),!1,e])}},{}],2:[function(n,e,t){function r(n,e){var t=n.getEntries();t.forEach(function(n){"first-paint"===n.name?a("timing",["fp",Math.floor(n.startTime)]):"first-contentful-paint"===n.name&&a("timing",["fcp",Math.floor(n.startTime)])})}function i(n){if(n instanceof c&&!s){var e,t=Math.round(n.timeStamp);e=t>1e12?Date.now()-t:f.now()-t,s=!0,a("timing",["fi",t,{type:n.type,fid:e}])}}if(!("init"in NREUM&&"page_view_timing"in NREUM.init&&"enabled"in NREUM.init.page_view_timing&&NREUM.init.page_view_timing.enabled===!1)){var o,a=n("handle"),f=n("loader"),c=NREUM.o.EV;if("PerformanceObserver"in window&&"function"==typeof window.PerformanceObserver){o=new PerformanceObserver(r);try{o.observe({entryTypes:["paint"]})}catch(u){}}if("addEventListener"in document){var s=!1,p=["click","keydown","mousedown","pointerdown","touchstart"];p.forEach(function(n){document.addEventListener(n,i,!1)})}}},{}],3:[function(n,e,t){function r(n,e){if(!i)return!1;if(n!==i)return!1;if(!e)return!0;if(!o)return!1;for(var t=o.split("."),r=e.split("."),a=0;a<r.length;a++)if(r[a]!==t[a])return!1;return!0}var i=null,o=null,a=/Version\/(\S+)\s+Safari/;if(navigator.userAgent){var f=navigator.userAgent,c=f.match(a);c&&f.indexOf("Chrome")===-1&&f.indexOf("Chromium")===-1&&(i="Safari",o=c[1])}e.exports={agent:i,version:o,match:r}},{}],4:[function(n,e,t){function r(n,e){var t=[],r="",o=0;for(r in n)i.call(n,r)&&(t[o]=e(r,n[r]),o+=1);return t}var i=Object.prototype.hasOwnProperty;e.exports=r},{}],5:[function(n,e,t){function r(n,e,t){e||(e=0),"undefined"==typeof t&&(t=n?n.length:0);for(var r=-1,i=t-e||0,o=Array(i<0?0:i);++r<i;)o[r]=n[e+r];return o}e.exports=r},{}],6:[function(n,e,t){e.exports={exists:"undefined"!=typeof window.performance&&window.performance.timing&&"undefined"!=typeof window.performance.timing.navigationStart}},{}],ee:[function(n,e,t){function r(){}function i(n){function e(n){return n&&n instanceof r?n:n?c(n,f,o):o()}function t(t,r,i,o){if(!d.aborted||o){n&&n(t,r,i);for(var a=e(i),f=v(t),c=f.length,u=0;u<c;u++)f[u].apply(a,r);var p=s[y[t]];return p&&p.push([b,t,r,a]),a}}function l(n,e){h[n]=v(n).concat(e)}function m(n,e){var t=h[n];if(t)for(var r=0;r<t.length;r++)t[r]===e&&t.splice(r,1)}function v(n){return h[n]||[]}function g(n){return p[n]=p[n]||i(t)}function w(n,e){u(n,function(n,t){e=e||"feature",y[t]=e,e in s||(s[e]=[])})}var h={},y={},b={on:l,addEventListener:l,removeEventListener:m,emit:t,get:g,listeners:v,context:e,buffer:w,abort:a,aborted:!1};return b}function o(){return new r}function a(){(s.api||s.feature)&&(d.aborted=!0,s=d.backlog={})}var f="nr@context",c=n("gos"),u=n(4),s={},p={},d=e.exports=i();d.backlog=s},{}],gos:[function(n,e,t){function r(n,e,t){if(i.call(n,e))return n[e];var r=t();if(Object.defineProperty&&Object.keys)try{return Object.defineProperty(n,e,{value:r,writable:!0,enumerable:!1}),r}catch(o){}return n[e]=r,r}var i=Object.prototype.hasOwnProperty;e.exports=r},{}],handle:[function(n,e,t){function r(n,e,t,r){i.buffer([n],r),i.emit(n,e,t)}var i=n("ee").get("handle");e.exports=r,r.ee=i},{}],id:[function(n,e,t){function r(n){var e=typeof n;return!n||"object"!==e&&"function"!==e?-1:n===window?0:a(n,o,function(){return i++})}var i=1,o="nr@id",a=n("gos");e.exports=r},{}],loader:[function(n,e,t){function r(){if(!x++){var n=E.info=NREUM.info,e=l.getElementsByTagName("script")[0];if(setTimeout(s.abort,3e4),!(n&&n.licenseKey&&n.applicationID&&e))return s.abort();u(y,function(e,t){n[e]||(n[e]=t)}),c("mark",["onload",a()+E.offset],null,"api");var t=l.createElement("script");t.src="https://"+n.agent,e.parentNode.insertBefore(t,e)}}function i(){"complete"===l.readyState&&o()}function o(){c("mark",["domContent",a()+E.offset],null,"api")}function a(){return O.exists&&performance.now?Math.round(performance.now()):(f=Math.max((new Date).getTime(),f))-E.offset}var f=(new Date).getTime(),c=n("handle"),u=n(4),s=n("ee"),p=n(3),d=window,l=d.document,m="addEventListener",v="attachEvent",g=d.XMLHttpRequest,w=g&&g.prototype;NREUM.o={ST:setTimeout,SI:d.setImmediate,CT:clearTimeout,XHR:g,REQ:d.Request,EV:d.Event,PR:d.Promise,MO:d.MutationObserver};var h=""+location,y={beacon:"bam.nr-data.net",errorBeacon:"bam.nr-data.net",agent:"js-agent.newrelic.com/nr-1158.min.js"},b=g&&w&&w[m]&&!/CriOS/.test(navigator.userAgent),E=e.exports={offset:f,now:a,origin:h,features:{},xhrWrappable:b,userAgent:p};n(1),n(2),l[m]?(l[m]("DOMContentLoaded",o,!1),d[m]("load",r,!1)):(l[v]("onreadystatechange",i),d[v]("onload",r)),c("mark",["firstbyte",f],null,"api");var x=0,O=n(6)},{}],"wrap-function":[function(n,e,t){function r(n){return!(n&&n instanceof Function&&n.apply&&!n[a])}var i=n("ee"),o=n(5),a="nr@original",f=Object.prototype.hasOwnProperty,c=!1;e.exports=function(n,e){function t(n,e,t,i){function nrWrapper(){var r,a,f,c;try{a=this,r=o(arguments),f="function"==typeof t?t(r,a):t||{}}catch(u){d([u,"",[r,a,i],f])}s(e+"start",[r,a,i],f);try{return c=n.apply(a,r)}catch(p){throw s(e+"err",[r,a,p],f),p}finally{s(e+"end",[r,a,c],f)}}return r(n)?n:(e||(e=""),nrWrapper[a]=n,p(n,nrWrapper),nrWrapper)}function u(n,e,i,o){i||(i="");var a,f,c,u="-"===i.charAt(0);for(c=0;c<e.length;c++)f=e[c],a=n[f],r(a)||(n[f]=t(a,u?f+i:i,o,f))}function s(t,r,i){if(!c||e){var o=c;c=!0;try{n.emit(t,r,i,e)}catch(a){d([a,t,r,i])}c=o}}function p(n,e){if(Object.defineProperty&&Object.keys)try{var t=Object.keys(n);return t.forEach(function(t){Object.defineProperty(e,t,{get:function(){return n[t]},set:function(e){return n[t]=e,e}})}),e}catch(r){d([r])}for(var i in n)f.call(n,i)&&(e[i]=n[i]);return e}function d(e){try{n.emit("internal-error",e)}catch(t){}}return n||(n=i),t.inPlace=u,t.flag=a,t}},{}]},{},["loader"]);</script>
    
    <link rel="shortcut icon" type="image/png" href="/favicon.ico">

    
      <script src="/assets/thirdparty/jquery-3.4.1.min.js"></script>
      <script src="/assets/thirdparty/jquery.form.min.js"></script>
      
        <script src="/assets/thirdparty/bootstrap/js/bootstrap.min.js"></script>
      
      <script src="/assets/thirdparty/underscore.min.js"></script>
    

    <script src="/assets/javascripts/domino.js?c=ef0fdf315cfed2203481273c2eee0a1cc834299d" type="text/javascript"></script>
    <script src="/assets/thirdparty/jquery.noty.packaged.min.js"></script>
    <script src="/assets/javascripts/common/util/userAlert.js?c=ef0fdf315cfed2203481273c2eee0a1cc834299d" type="text/javascript"></script>
    <script src="/assets/thirdparty/moment.min.js"></script>
    <script src="/assets/javascripts/common/util.js?c=ef0fdf315cfed2203481273c2eee0a1cc834299d" type="text/javascript"></script>
    <script src="/assets/javascripts/common/widgets/contentEditable.js?c=ef0fdf315cfed2203481273c2eee0a1cc834299d" type="text/javascript"></script>


    <!-- select2 -->
    <script src="/assets/thirdparty/select2.full.min.js"></script>
    
      <link rel="stylesheet" media="all" href="/assets/thirdparty/select2.min.css">
    

    <!-- Replace Bootstrap with Flatly -->
    
      <link rel="stylesheet" media="screen" href="/assets/thirdparty/bootstrap/css/bootstrap.min.css">
      
    

    <!-- typeahead extra -->
    <script src="/assets/thirdparty/typeahead.min.js"></script>
    
      <link rel="stylesheet" media="all" href="/assets/thirdparty/typeahead-bootstrap.css">
    


    
      <link rel="stylesheet" media="all" href="/assets/thirdparty/jquery.atwho.min.css">
    
    <script src="/assets/thirdparty/jquery.caret.min.js"></script>
    <script src="/assets/thirdparty/jquery.atwho.min.js"></script>

    <!-- autofocus for modal content -->
    <script src="/assets/javascripts/common/views/autofocus.js?c=ef0fdf315cfed2203481273c2eee0a1cc834299d" type="text/javascript"></script>

    
      <link rel="stylesheet" media="all" href="/assets/thirdparty/font-awesome/css/font-awesome.css">
      <link rel="stylesheet" media="all" href="/assets/thirdparty/ss-gizmo/ss-gizmo.css">
      <link rel="stylesheet" media="all" href="/assets/stylesheets/sass-bootstrap-domino.min.css">
      <link rel="stylesheet" media="all" href="/assets/stylesheets/webapp.css">
    

    <!-- Data Tables -->
    
      <link rel="stylesheet" type="text/css" href="/assets/thirdparty/datatables/datatables.css"/>
    
    <script type="text/javascript" src="/assets/thirdparty/datatables/datatables.min.js"></script>

    <!-- google code prettify -->
    
      <link rel="stylesheet" media="all" href="/assets/thirdparty/google-code-prettify/prettify.css">
    

    <!-- ReactComponents -->
    <script type="text/javascript" src="/assets/react/js/be0561a750330030fefb.manifest.js"></script>
    <script type="text/javascript" src="/assets/react/js/be0561a750330030fefb.vendor.js"></script>
    <link rel="stylesheet" media="all" type="text/css" href="/assets/react/css/be0561a750330030fefb.ReactComponents.css">
    <script type="text/javascript" src="/assets/react/js/be0561a750330030fefb.ReactComponents.js"></script>

    
    <script>
    
        var thirdPartyRoot = '/assets/thirdparty/';

        var require = {
            shim: {
                'underscore': {
                    exports: '_'
                },
                'backbone': {
                    deps: ['underscore'],
                    exports: 'Backbone'
                },
                'remaining' : {
                    exports: 'remaining'
                },
                'backbone_paginator': {
                    deps: ['backbone', 'underscore'],
                    exports: 'Backbone.Paginator'
                },
                'backgrid' : {
                    deps: ['backbone', 'underscore'],
                    exports: 'Backgrid'
                } ,
                'backgrid_filter' : {
                    deps: ['backgrid', 'lunr'],
                    exports: 'BackgridFilter'
                },
                'noty' : {
                    exports: 'noty'
                },
                'validator' : {
                    exports: 'validator'
                },
                'userAlert' : {
                    exports: 'UserAlert'
                },
                'userAlertUtils': {
                    exports: 'UserAlertUtils'
                },
                'highcharts': {
                    exports: 'Highcharts'
                }
            },

            baseUrl: '/assets/javascripts',

            paths: {
                common:             '/assets/javascripts/common',
                thirdparty :        thirdPartyRoot,
                backstretch:        thirdPartyRoot + 'jquery.backstretch.min',
                backgrid:           thirdPartyRoot + 'backgrid/backgrid.min',
                backgrid_filter:    thirdPartyRoot + 'backgrid/extensions/filter/backgrid-filter',
                lunr:               thirdPartyRoot + 'lunr.min',
                underscore:         thirdPartyRoot + 'underscore.min',
                backbone:           thirdPartyRoot + 'backbone-min',
                validator:          thirdPartyRoot + 'bootstrap/js/bootstrap-validator',
                moment:             thirdPartyRoot + 'moment.min',
                remaining:          thirdPartyRoot + 'remaining',
                backbone_paginator: thirdPartyRoot + 'backbone.paginator.min',
                userAlert:          '/assets/javascripts/common/util/userAlert',
                noty:               thirdPartyRoot + 'jquery.noty.packaged.min',
                highcharts:         thirdPartyRoot + 'highcharts'
            }
        };
    
    </script>

    
    
    
    <script>
      (function(i,s,o,g,r,a,m){i['GoogleAnalyticsObject']=r;i[r]=i[r]||function(){
      (i[r].q=i[r].q||[]).push(arguments)},i[r].l=1*new Date();a=s.createElement(o),
      m=s.getElementsByTagName(o)[0];a.async=1;a.src=g;m.parentNode.insertBefore(a,m)
      })(window,document,'script','//www.google-analytics.com/analytics.js','ga');

      ga('create', 'UA-43833030-1', 'auto');

      ga('send', 'pageview');

    </script>
    


        <!-- Suppressing IE11's tile configuration -->
    <meta name="msapplication-config" content="none" />

    



  <script type="text/javascript">
  window.MIXPANEL_CUSTOM_LIB_URL = "/assets/javascripts/mixpanel-browser/mixpanel.min.js";
  (function(e,a){if(!a.__SV){var b=window;try{var c,l,i,j=b.location,g=j.hash;c=function(a,b){return(l=a.match(RegExp(b+"=([^&]*)")))?l[1]:null};g&&c(g,"state")&&(i=JSON.parse(decodeURIComponent(c(g,"state"))),"mpeditor"===i.action&&(b.sessionStorage.setItem("_mpcehash",g),history.replaceState(i.desiredHash||"",e.title,j.pathname+j.search)))}catch(m){}var k,h;window.mixpanel=a;a._i=[];a.init=function(b,c,f){function e(b,a){var c=a.split(".");2==c.length&&(b=b[c[0]],a=c[1]);b[a]=function(){b.push([a].concat(Array.prototype.slice.call(arguments,
  0)))}}var d=a;"undefined"!==typeof f?d=a[f]=[]:f="mixpanel";d.people=d.people||[];d.toString=function(b){var a="mixpanel";"mixpanel"!==f&&(a+="."+f);b||(a+=" (stub)");return a};d.people.toString=function(){return d.toString(1)+".people (stub)"};k="disable time_event track track_pageview track_links track_forms register register_once alias unregister identify name_tag set_config reset people.set people.set_once people.unset people.increment people.append people.union people.track_charge people.clear_charges people.delete_user".split(" ");
  for(h=0;h<k.length;h++)e(d,k[h]);a._i.push([b,c,f])};a.__SV=1.2;b=e.createElement("script");b.type="text/javascript";b.async=!0;b.src="undefined"!==typeof MIXPANEL_CUSTOM_LIB_URL?MIXPANEL_CUSTOM_LIB_URL:"file:"===e.location.protocol&&"//cdn.mxpnl.com/libs/mixpanel-2-latest.min.js".match(/^\/\//)?"https://cdn.mxpnl.com/libs/mixpanel-2-latest.min.js":"//cdn.mxpnl.com/libs/mixpanel-2-latest.min.js";c=e.getElementsByTagName("script")[0];c.parentNode.insertBefore(b,c)}})(document,window.mixpanel||[]);
  mixpanel.init("51f514bdd3bb4a6e9f6b66f3b70ffda2", {cross_subdomain_cookie:false});


  mixpanel.register_once({ "Domino Version": "3.6.18", "Domino Build Number": "d62e2ad9-fde5-437a-b90d-b23067926989", "Domino Build Git Commit": "ef0fdf315cfed2203481273c2eee0a1cc834299d", "stage": "domino-trial" });
    
  mixpanel.track('Viewed page', {'Page': 'santoshgurujula/springboard-aic-mini-projects-public'});

  </script>


    
    
    

    <script>
    $(function() {
      window.UserAlert.flashMessages();
    });
    </script>

    
    
        
                <script>const buttonElement = '<button onclick="launchWidget()" type="button" id="supportButton" class="btn btn-default text-center" style="height: 125px; width: 35px; padding: 0 0 15px 0; bottom: 25px; outline: none; z-index: 2001; border:none; right: 0; position: fixed; background-color: #151f4c; cursor: pointer; color: #fff; border-radius: 8px 0 0 8px;"><div style="right: 8px; transform: rotate(270deg); position: fixed; bottom:45px; height: 16px; width: 16px; border-radius:50%; font-size:10px; font-weight: bold; color:white; border: 1px solid white; text-align:center; color: white;">?</div><span style="right: 0; transform: rotate(270deg); position: fixed; height: 0">Support</span></button>'; function ready(fn) { if (document.readyState != 'loading'){ fn(); } else { document.addEventListener('DOMContentLoaded', fn); }}; ready(addSupportButton); function addSupportButton() { if(document.getElementsByClassName('show-primary-nav').length > 0 || document.getElementsByClassName('ant-layout-sider').length > 0 ) { loadButton(); }}; function loadButton(){ var supportButton = document.createElement('div'); supportButton.innerHTML=buttonElement; document.body.append(supportButton); }</script><script>/*<![CDATA[*/ window.zEmbed || function(e, t){var n, o, d, i, s, a=[], r=document.createElement("iframe"); window.zEmbed=function(){a.push(arguments)}, window.zE=window.zE || window.zEmbed, r.src="javascript:false", r.title="", r.role="presentation", (r.frameElement || r).style.cssText="display: none", d=document.getElementsByTagName("script"), d=d[d.length - 1], d.parentNode.insertBefore(r, d), i=r.contentWindow, s=i.document; try{o=s}catch (e){n=document.domain, r.src='javascript:var d=document.open();d.domain="' + n + '";void(0);', o=s}o.open()._l=function(){var o=this.createElement("script"); n && (this.domain=n), o.id="js-iframe-async", o.src=e, this.t=+new Date, this.zendeskHost=t, this.zEQueue=a, this.body.appendChild(o)}, o.write('<body onload="document._l();">'), o.close()}("https://assets.zendesk.com/embeddable_framework/main.js", "dominoup.zendesk.com"); /*]]>*/</script><script>function launchWidget() { document.getElementById('supportButton').style.display = 'none'; window.zE.activate(); }; window.zE('webWidget', 'hide'); window.zE('webWidget:on', 'close', function() { document.getElementById('supportButton').style.display = 'block'; }); if (window.intercomSettings) { zE(function(){zE.identify({name: window.intercomSettings.name, email: window.intercomSettings.email});});}</script><script>if (window.intercomSettings) { window.intercomSettings.hide_default_launcher=true; Intercom('boot', window.intercomSettings) }</script><script> (function(){ var walkme=document.createElement('script'); walkme.type='text/javascript'; walkme.async=true; walkme.src='/assets/javascripts/walkme/walkme_274a1297004e4b8aa687bb9b7b3366ff_https.js'; var s=document.getElementsByTagName('script')[0]; s.parentNode.insertBefore(walkme, s); window._walkmeConfig={smartLoad: true}; }; })(); </script>
            
    


</head>











<!-- by putting the message content in its own script tag, we avoid issues that arise when the content has quotation marks  -->


<script>
/**
* Render timestamps with clients locale.
*/

$(function() {
    window.domino = window.domino || {};

    window.domino.utils = window.domino.utils || {};

    window.domino.utils.htmlEncode = ReactComponents.handleHtmlEncode;

    window.domino.utils.htmlDecode = window.domino.utils.htmlDecode || function htmlDecode(str) {
        var entities = {
            'amp': '&',
            'apos': '\'',
            'lt': '<',
            'gt': '>',
            'quot': '"',
            'nbsp': '\xa0'
        };
        var entityPattern = /&([a-z]+);/ig;
        return str.replace(entityPattern, function(match, entity) {
            entity = entity.toLowerCase();
            if (entities.hasOwnProperty(entity)) {
              return entities[entity];
            }
            // return original string if there is no matching entity (no replace)
            return match;
        });
    };

    window.domino.utils.defaultTimestampFormat  = window.domino.utils.defaultTimestampFormat  || "MMM DD, YYYY @ hh:mm a";

    window.domino.utils.renderTimestamps = window.domino.utils.renderTimestamps || function renderTimestamps() {
        $(".timestamp").each(function (index, element) {
            var $element = $(element);
            var timestamp = $element.data('millis');

            var format = window.domino.utils.defaultTimestampFormat;

            if ($element.data('format')) {
                format = $element.data('format');
            }

            var renderedTimestamp = moment(timestamp).format(format);
            $element.html(renderedTimestamp);
        });
    }

    window.domino.utils.renderTimestamps();

    window.domino.utils.updateLocationOnTabClicked = window.domino.utils.updateLocationOnTabClicked || function() {
        $('[role=tablist] a').on('shown.bs.tab', function (e) {
            if(history.pushState) {
                history.pushState(null, null, e.target.hash);
            }
            else {
                location.hash = e.target.hash;
            }
        })
    };

    window.domino.utils.selectNavigationTabFromUrl = window.domino.utils.selectNavigationTabFromUrl || function() {
        var hash = window.location.hash;
        if (hash) {
            $("[role=tablist] a[href$='" + hash + "']").tab('show') ;
        }
    };

    window.domino.utils.selectNavigationTabFromUrl();
    window.domino.utils.updateLocationOnTabClicked();

    window.addEventListener("hashchange", window.domino.utils.selectNavigationTabFromUrl, false);
});
</script>


                    <!-- This class will add and override bootstrap looks -->
                    <body class="domino-webapp  chromeless ">
                        <div id="slidein-notification-mount">
                            <script>
                                ReactComponents.renderComponentByName(
                                    'SlideInNotification',
                                    "{}",
                                    document.getElementById('slidein-notification-mount')
                                );
                            </script>
                        </div>
                        <div id="body-border-left" class="body-border"></div>
                        <div id="body-border-right" class="body-border"></div>
                        <div id="body-border-top" class="body-border"></div>
                        <div id="body-border-bottom" class="body-border"></div>

                        

                        <!-- Container fluid needs to wrap the webapp -->
                        <div class="container-fluid show-primary-nav">
                            <div>

                                <!-- Content of the sidebar, left side of the app -->

                                

                                <!-- The content of each section is inside this area -->
                                
                                
                                    <div class=" do-list-detail show-primary-nav">
                                
                                        
                                            <div class="full-height-container">
                                                

<script src=/assets/thirdparty/google-code-prettify/prettify.js></script>
    <script src=/assets/thirdparty/google-code-prettify/lang-matlab.js></script>
    <script src=/assets/thirdparty/google-code-prettify/lang-r.js></script>
    <style>
      li.L0, li.L1, li.L2, li.L3, li.L5, li.L6, li.L7, li.L8 {
        list-style-type: decimal;
      }
</style>
       
<div class="file-viewer">
    <header>
        <div class="row">
            <div class="col-sm-6">
                <svg class="logo" width="30" height="30" viewBox="0 0 30 30" xmlns="http://www.w3.org/2000/svg">
                    <title>domino-logo</title>
                    <g fill="#4C89D6">
                        <path d="M14.194 5.64c.174 0 .345-.047.496-.134l5.635-3.252c.473-.274.638-.883.363-1.357C20.512.59 20.18.4 19.828.4c-.174 0-.345.047-.496.137l-5.634 3.25c-.23.133-.395.347-.463.604-.07.258-.035.524.098.754.177.307.507.496.86.496"/>
                        <path d="M8.57 7.49c.15.085.32.13.493.13.355 0 .685-.187.862-.494L13.18 1.49c.13-.23.166-.496.098-.753s-.233-.47-.462-.604C12.664.046 12.492 0 12.318 0c-.353 0-.683.19-.86.497l-3.25 5.636c-.277.473-.113 1.08.362 1.356zm15.923 10.894c-.548 0-.993.447-.993.994v6.51c0 .547.445.99.993.99.266 0 .517-.104.704-.29.186-.187.29-.436.288-.7l.002-6.51c0-.546-.446-.994-.994-.994zM16.91 24.89c-.176-.306-.505-.5-.86-.5-.174 0-.346.048-.496.134L9.92 27.777c-.473.276-.638.883-.365 1.358.178.307.506.495.86.495.175 0 .346-.047.497-.134l5.634-3.254c.228-.13.393-.342.463-.6.07-.256.034-.523-.1-.753zm4.662-2.236c-.152-.086-.322-.134-.494-.134-.356 0-.686.194-.86.5l-3.256 5.632c-.272.474-.108 1.08.363 1.356.15.087.323.134.498.134.353 0 .683-.193.858-.496l3.254-5.636c.275-.474.112-1.08-.363-1.357zm4.673-9.062c-.176-.304-.506-.493-.862-.493-.172 0-.343.046-.495.132-.23.133-.394.347-.463.6-.068.26-.033.527.098.753l3.254 5.64c.177.302.507.493.862.493.17 0 .34-.048.494-.13.23-.137.396-.354.463-.61.066-.257.032-.52-.1-.747l-3.253-5.638zm3.398-2.133L24.01 8.204c-.15-.086-.32-.133-.494-.133-.355 0-.685.19-.863.497-.132.23-.166.496-.098.753.068.256.233.47.463.603l5.634 3.253c.152.085.322.132.497.132.352 0 .682-.19.86-.497.273-.477.11-1.083-.366-1.356zM19.378 6.64h6.508c.548 0 .995-.444.995-.994 0-.546-.445-.99-.992-.99h-6.51c-.546 0-.992.443-.992.99 0 .55.445.993.992.993zM5.65 11.754c.547 0 .992-.446.992-.993v-6.51c0-.546-.445-.99-.992-.99-.548 0-.993.444-.993.99v6.51c0 .547.445.993.993.993zm.98 10.312c.353 0 .682-.187.86-.493.273-.476.11-1.084-.364-1.36L1.49 16.96c-.15-.086-.322-.13-.494-.13-.354 0-.685.187-.863.493-.133.233-.167.5-.097.76.068.253.234.468.462.597l5.634 3.253c.15.09.322.133.497.133zM3.9 16.544c.175.307.505.5.86.5.172 0 .343-.046.495-.134.474-.277.637-.883.363-1.356L2.364 9.918c-.176-.307-.504-.497-.86-.497-.173 0-.343.048-.494.135-.23.133-.396.347-.464.604-.068.255-.033.525.1.752L3.9 16.544zm7.566 8.65c.188-.19.29-.437.29-.702 0-.546-.446-.99-.994-.99H4.255c-.547 0-.992.444-.992.99 0 .547.445.99.992.99h6.507c.267 0 .517-.103.704-.29z" fill-opacity=".676"/>
                    </g>
                </svg>
                <div class="file-path">
      <span><a href="/u/santoshgurujula/springboard-aic-mini-projects-public/browse/">springboard-aic-mini-projects-public</a> <span class="divider">/</span> </span><span><a href="/u/santoshgurujula/springboard-aic-mini-projects-public/browse/aic-5_1_10-api-mini-project">aic-5_1_10-api-mini-project</a> <span class="divider">/</span> </span><span class="active">api_data_wrangling_mini_project_submit.ipynb <br/> </span>
    </div>
            </div>
            <div class="col-sm-6 text-right">
                
                    
    <div class="select-menu">
      
        <button class="btn btn-sm btn-default select-menu-toggle" type="button" id="revision-control" data-toggle="select-menu-container" aria-haspopup="true">
          Revision: 3abaea2 <span class="timestamp" data-millis="1576938171000"></span>
          <span class="caret"></span>
        </button>
      
      <div class="select-menu-container">
        <header>
          <strong>Select a Revision</strong>
          <a  class="close">&times;</a>
        </header>
        <div class="filter-container">
          <div class="filter">
            <input class="filter-control" type="search" name="filter" value="" id="filter" autofocus="" placeholder="Filter Revisions">
            <span class="clear">&times;</span>
          </div>
        </div>
        <ol class="menu-list">
          
            <li  class="active" >
              <a href="/u/santoshgurujula/springboard-aic-mini-projects-public/sharedView/aic-5_1_10-api-mini-project/api_data_wrangling_mini_project_submit.ipynb?commitId=3abaea21121d1f63f2e33f25f53fd9e751989c1a">
                <strong class="revision-message ellipsis"> &#8220;Saved during Run 5dfe1208c9e77c00071a6f66&#8221; </strong>
                <span class="revision-meta">santoshgurujula 2 minutes ago </span>
                <span class="commit-id">3abaea2</span>
              </a>
            </li>
          
        </ol>
      </div>
    </div>

                
                <a href="#comments" class="btn btn-default btn-sm" name="button">View Comments</a>
            </div>
        </div>
    </header>
    <div class="row">
        <div class="col-sm-12">
            <div id="eLQQ2SzeJ4diIqIK17lV5NlHMXcdA1WQu">
  <div text-center">
    <i class="icon-spinner icon-spin icon-4x"></i><h4>Loading...</h4>
  </div>
</div>
<script>
  $(function () {
    $.ajax({
      url: "/u/santoshgurujula/springboard-aic-mini-projects-public/render/aic-5_1_10-api-mini-project/api_data_wrangling_mini_project_submit.ipynb?commitId=3abaea21121d1f63f2e33f25f53fd9e751989c1a&renderUnknownFilesAsText=true",
    }).done(function (data) {
      var $container = $("#eLQQ2SzeJ4diIqIK17lV5NlHMXcdA1WQu");
      $container.html(data);
      var content = $container.children(":first")
      // prettify if required
      if(prettyPrint && content && content.length) {
        prettyPrint(null, $container.get()[0]);
      }
    }).fail(function () {
      $("#eLQQ2SzeJ4diIqIK17lV5NlHMXcdA1WQu").html("<div class='alert alert-danger'>An error occurred while trying to display the file.</div>");
    });
  });
</script>
        </div>
    </div>
    
<hr />
<h3>Comments</h3>
<div id="comments" class="row">
    <div class="col-md-12">
    
        
<script type="text/javascript">
    var jsRoutes = {}; (function(_root){
var _nS = function(c,f,b){var e=c.split(f||"."),g=b||_root,d,a;for(d=0,a=e.length;d<a;d++){g=g[e[d]]=g[e[d]]||{}}return g}
var _qS = function(items){var qs = ''; for(var i=0;i<items.length;i++) {if(items[i]) qs += (qs ? '&' : '') + items[i]}; return qs ? ('?' + qs) : ''}
var _s = function(p,s){return p+((s===true||(s&&s.secure))?'s':'')+':\/\/'}
var _wA = function(r){return {ajax:function(c){c=c||{};c.url=r.url;c.type=r.method;return jQuery.ajax(c)}, method:r.method,type:r.method,url:r.url,absoluteURL: function(s){return _s('http',s)+'trial.dominodatalab.com'+r.url},webSocketURL: function(s){return _s('ws',s)+'trial.dominodatalab.com'+r.url}}}
_nS('domino.server.comments.CommentsController'); _root['domino']['server']['comments']['CommentsController']['archiveComment'] = 
        function(ownerUsername0,projectName1,commentsThreadId2,commentIndex3) {
          return _wA({method:"DELETE", url:"\/" + "u\/" + encodeURIComponent((function(k,v) {return v})("ownerUsername", ownerUsername0)) + "\/" + encodeURIComponent((function(k,v) {return v})("projectName", projectName1)) + "\/comments\/" + encodeURIComponent((function(k,v) {return v})("commentsThreadId", commentsThreadId2)) + "\/" + encodeURIComponent((function(k,v) {return v})("commentIndex", commentIndex3))})
        }
      ;
})(jsRoutes)
</script>




<script type="text/x-mathjax-config">
  MathJax.Hub.Config({
    tex2jax: {inlineMath: [["$","$"],["\\(","\\)"]]}
  });
</script>
<script src="/assets/thirdparty/MathJax-2.7.0/MathJax.js?config=TeX-AMS-MML_HTMLorMML"></script>

<div id="id-6BAKpBTZvp">

  <div class="comment-group" name="comments-list">





  </div>



    
    
    <input type="hidden" name="comment-context" value="{&quot;_t&quot;:&quot;comments.FileRevisionCommentContext&quot;,&quot;commitId&quot;:&quot;3abaea21121d1f63f2e33f25f53fd9e751989c1a&quot;,&quot;filePath&quot;:{&quot;canonicalizedPathString&quot;:&quot;aic-5_1_10-api-mini-project/api_data_wrangling_mini_project_submit.ipynb&quot;,&quot;separator&quot;:&quot;/&quot;}}">
    <input type="hidden" name="useSmallStyle" value="false" />

    
      <div class="comment-form">
        <div class="set-padding-bottom-small">
            <textarea
                placeholder="Leave a comment"
                onkeydown="window.domino.comments.handleCommentFormKeyDown(event, 'id-6BAKpBTZvp')"
                oninput="window.domino.comments.onCommentUpdated(event, 'id-6BAKpBTZvp')"
                
                name="comment-body"
                class="form-control comment-textarea"
                rows="5"></textarea>

            <script type="text/javascript">
                var textarea = $("textarea[name=comment-body]")
                $.getJSON("/u/santoshgurujula/springboard-aic-mini-projects-public/collaborators", {}, function(usernames) {
                    textarea.atwho({
                      at: '@',
                      data: usernames
                    })
                });
                
                    textarea.on("inserted.atwho", function(event) {
                        window.domino.comments.onCommentUpdated(event, 'id-6BAKpBTZvp');
                    });
                

            </script>
        </div>

        
            <div class="panel panel-default preview-panel">
                <div class="panel-heading">Preview</div>
                <div class="panel-body" id="preview-panel-id-6BAKpBTZvp"></div>
            </div>
        

        <button class="btn btn-secondary btn-sm float-left" name="create-comment-button"
          onClick="window.domino.comments.submitComment('id-6BAKpBTZvp'); return false;" disabled>
            Comment
        </button>
        &nbsp;
        <span class="comment-help-link">
            <small>
                <a href="https://help.github.com/articles/markdown-basics/" target="_blank">Markdown</a> and
                <a href="http://docs.mathjax.org/en/latest/start.html#tex-and-latex-input" target="_blank">Mathjax</a> are supported. You can also <strong>@mention</strong> people.
            </small>
        </span>
      </div>
    







<script src="/assets/thirdparty/require-2.1.2.min.js"></script>
<script type="text/javascript">
$(function() {
    window.domino = window.domino || {};
    window.domino.comments = window.domino.comments || {};
    window.domino.comments.submitComment = window.domino.comments.submitComment || function submitComment(formId) {
            var form = $("#" + formId);
            var commentBody = form.find("[name=comment-body]");
            var commentsList = form.find("[name=comments-list]");
            var url = "/u/santoshgurujula/springboard-aic-mini-projects-public/comments";
            var commentData = window.domino.comments.getCommentData(form, commentBody, commentsList);
            if (commentData) {
                var request = $.ajax({
                    type: "POST",
                    url: url,
                    data: commentData
                });
                request.done(function(data) {
                    commentBody.val("");
                     $(".preview-panel").hide(); 
                    window.domino.comments.setSubmitDisabled(formId, true);
                    var newHTMLContainer = $("<div></div>").appendTo(commentsList).hide().append(data);
                    $("#preview-panel-" + formId).html("");
                    newHTMLContainer.fadeIn("slow");
                    MathJax.Hub.Queue(["Typeset",MathJax.Hub]);
                    window.domino.utils.renderTimestamps();
                });
                request.fail(function(jqXHR, textStatus) {
                    if ((jqXHR.status === 401) || (jqXHR.status === 403)) {
                        UserAlert.error("You are not authorized to create comments in this project.");
                    } else {
                        UserAlert.error("Comment could not be saved. Please try again later.");
                    }
                });
            } else {
                UserAlert.error("Cannot submit an empty comment");
                window.domino.comments.setSubmitDisabled(formId, true);
            }
    };

    window.domino.comments.archiveComment = window.domino.comments.archiveComment || function archiveComment(username, projectName, threadId, index) {
      var archiveComment = function () {
        return $.ajax(
          jsRoutes.domino.server.comments.CommentsController.archiveComment(username, projectName, threadId, index)
        ).done(function() {
          UserAlert.success("Comment archived successfully");
          $('.comment-panel[index=' + index + ']').fadeOut("slow", function() {
              $(this).remove();
          });
        }).fail(function() {
          UserAlert.error("Couldn't archive comment");
        });
      };

      var that = this;
      require(['common/views/ConfirmationModal'], function(ConfirmationModal) {
        var confirmationModal = new ConfirmationModal({
          title: "Archive comment",
          body: "Are you sure you want to archive this comment?",
          warningText: "You will not be able to undo this.",
          acceptText: "Archive comment",
        });
        confirmationModal.show(_.bind(archiveComment, that));
      });
    };

    window.domino.comments.handleCommentFormKeyDown = window.domino.comments.handleCommentFormKeyDown || function handleCommentFormKeyDown(event, formId) {
            var createCommentButton = $("#" + formId + " [name=create-comment-button]");
            if ((event.ctrlKey || event.metaKey) && event.keyCode == 13) {
                // Ctrl-Enter / Command-Enter pressed
                createCommentButton.click();
            } else if (event.keyCode == 9) {
                // Tab pressed
                event.preventDefault();
                createCommentButton.focus();
            }
    };

    
        window.domino.comments.hidePreview = window.domino.comments.hidePreview || function hidePreview(event, formId) {
            if (event) {
                if ($(event.target).val().length === 0) {
                    $(".preview-panel").hide();
                }
            }
        }

        window.domino.comments.showPreview = window.domino.comments.showPreview || function showPreview(event, formId) {
            $(".preview-panel").show();
        }

        window.domino.comments.onCommentUpdated = window.domino.comments.onCommentUpdated || (function () {
            var updatePending = null;

            return function(event, formId) {
                var form = $("#" + formId);
                var previewPanel = $("#preview-panel-" + formId)
                var commentBody = form.find("[name=comment-body]");
                var commentsList = form.find("[name=comments-list]");
                var url = "/u/santoshgurujula/springboard-aic-mini-projects-public/comments/preview";
                var commentData = window.domino.comments.getCommentData(form, commentBody, commentsList);
                var delay = 200;

                if (updatePending) {
                    clearTimeout(updatePending);
                }

                if (commentData) {
                    window.domino.comments.setSubmitDisabled(formId, false);
                    updatePending = setTimeout(function() {
                        var request = $.ajax({
                            type: "POST",
                            url: url,
                            data: commentData
                        });
                        request.done(function(data) {
                            previewPanel.html(window.domino.utils.htmlDecode(window.domino.utils.htmlEncode(data)));
                            MathJax.Hub.Queue(["Typeset",MathJax.Hub]);
                        });
                        request.fail(function(jqXHR, textStatus) {
                            if ((jqXHR.status === 401) || (jqXHR.status === 403)) {
                                UserAlert.error("You are not authorized to create comments in this project.");
                            } else {
                                UserAlert.error("Comment could not be previewed. Please try again later.");
                            }
                        });
                    }, delay);
                } else {
                    window.domino.comments.setSubmitDisabled(formId, true);
                    previewPanel.html("");
                }
            };
        })();

    

    window.domino.comments.getCommentData = window.domino.comments.getCommentData || function getCommentData(form, commentBody, commentsList) {
        var lastComment = commentsList.find("[index]").last();
        if (commentBody.length == 0 || commentBody.val().trim() == "") {
            return false;
        }
        var lastIndexShown = -1;
        if (lastComment.length !== 0) {
            lastIndexShown = lastComment.attr("index");
        }
        var contextKey = form.find(":input[name=comment-context]");
        var useSmallStyle = form.find(":input[name=useSmallStyle]");
        var dataPost = { };
        dataPost["comment-body"] = commentBody.val();
        dataPost["comment-context"] = contextKey.val();
        dataPost["last-comment-index-shown"] = lastIndexShown;
        dataPost["useSmallStyle"] = useSmallStyle.val();
        return dataPost;
    };

    window.domino.comments.setSubmitDisabled = window.domino.comments.setSubmitDisabled || function setSubmitDisabled(formId, disabled) {
        var createCommentButton = $("#" + formId + " [name=create-comment-button]");
        createCommentButton.prop("disabled", disabled);
    }
});
</script>
</div>


    <div class="set-padding-top">
    
    </div>
    
    </div>
</div>

</div>
<script>
        var escapeKeyCode = "27";

        $.expr[":"].contains = $.expr.createPseudo(function(arg) {
            return function( elem ) {
                return $(elem).text().toUpperCase().indexOf(arg.toUpperCase()) >= 0;
            };
        });

        $(function() {

            $("#filter").keyup(function(e) {
                e.preventDefault();
                var input = $(this),
                        keyword = $(this).val(),
                        targets = $(".select-menu-container li:contains('" + keyword + "')");
                $(".select-menu-container li").hide();
                targets.show();
                if($(this).val().length > 0) {
                    $(".filter").addClass("populated");
                } else {
                    $(".filter").removeClass("populated");
                }
                if(e.which == escapeKeyCode) {
                    $("#filter").val("");
                }
            });
            $(".filter").find(".clear").click(function() {
                $("#filter").val("").trigger("keyup");
            });

            $(".select-menu-toggle").click(function(e) {
                e.preventDefault();
                $(".select-menu").toggleClass("active");
                $("#filter").focus();
            });
            $(".select-menu-container").find(".close").click(function(e) {
                e.preventDefault();
                $(".select-menu").removeClass("active");
            });
            $(document).keydown(function(e) {
                if(e.which == escapeKeyCode) {
                    if ($(".select-menu").hasClass("active")) {
                        $(".select-menu").removeClass("active");
                        $(".filter").find(".clear").click();
                    }
                }
            });
            $(document).click(function(e) {
                if ($(".select-menu.active").find(e.target).length == 0) {
                    $(".select-menu").removeClass("active");
                }
            });
        });
</script>

                                            </div>
                                        
                                    </div>
                                </div>
                            </div>

                            



    



                            

                            
                        </body>
                        </html>

                        



