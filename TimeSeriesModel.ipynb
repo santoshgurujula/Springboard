{
  "nbformat": 4,
  "nbformat_minor": 0,
  "metadata": {
    "colab": {
      "name": "TimeSeriesModel.ipynb",
      "provenance": [],
      "mount_file_id": "1pS59UtWu44Ff1ixZ13VpoQZ3HqKoCaE9",
      "authorship_tag": "ABX9TyOLOc5wY6AZSZZSOXXsDa+b",
      "include_colab_link": true
    },
    "kernelspec": {
      "name": "python3",
      "display_name": "Python 3"
    }
  },
  "cells": [
    {
      "cell_type": "markdown",
      "metadata": {
        "id": "view-in-github",
        "colab_type": "text"
      },
      "source": [
        "<a href=\"https://colab.research.google.com/github/santoshgurujula/Springboard/blob/master/TimeSeriesModel.ipynb\" target=\"_parent\"><img src=\"https://colab.research.google.com/assets/colab-badge.svg\" alt=\"Open In Colab\"/></a>"
      ]
    },
    {
      "cell_type": "code",
      "metadata": {
        "id": "sR4WnEv46qCR",
        "colab_type": "code",
        "colab": {}
      },
      "source": [
        "# First, import the relevant modules\n",
        "from matplotlib import pyplot as plt\n",
        "%matplotlib inline\n",
        "import numpy as np\n",
        "import pandas as pd\n",
        "plt.rcParams['figure.figsize'] = 10,6"
      ],
      "execution_count": 0,
      "outputs": []
    },
    {
      "cell_type": "code",
      "metadata": {
        "id": "zu0lc8xD8K73",
        "colab_type": "code",
        "colab": {
          "base_uri": "https://localhost:8080/",
          "height": 136
        },
        "outputId": "7dd58315-3ca2-4cf5-8d74-10eb5d34359d"
      },
      "source": [
        "#pointing the path to google drive folder\n",
        "%cd '/content/drive/My Drive/Springboard/data'\n",
        "!ls"
      ],
      "execution_count": 5,
      "outputs": [
        {
          "output_type": "stream",
          "text": [
            "/content/drive/My Drive/Springboard/data\n",
            "BOM500002.csv  BOM500013.csv  fig2.png\n",
            "BOM500003.csv  BOM500014.csv  FinalStockData.csv\n",
            "BOM500008.csv  BOM500020.csv  interpolating-timeseries-p1-pandas-fig1.png\n",
            "BOM500009.csv  BOM500023.csv  nasdl.csv\n",
            "BOM500010.csv  DJI.csv\n",
            "BOM500012.csv  fig1.png\n"
          ],
          "name": "stdout"
        }
      ]
    },
    {
      "cell_type": "code",
      "metadata": {
        "id": "WTwYT1sF7wLe",
        "colab_type": "code",
        "colab": {
          "base_uri": "https://localhost:8080/",
          "height": 102
        },
        "outputId": "713b4a79-9dd5-4e6e-d485-5a2e31e38b58"
      },
      "source": [
        "dataset = pd.read_csv('/content/drive/My Drive/Springboard/data/FinalStockData.csv')\n",
        "dataset.info()"
      ],
      "execution_count": 7,
      "outputs": [
        {
          "output_type": "stream",
          "text": [
            "<class 'pandas.core.frame.DataFrame'>\n",
            "RangeIndex: 739 entries, 0 to 738\n",
            "Columns: 133 entries, Unnamed: 0 to Volume\n",
            "dtypes: float64(131), int64(1), object(1)\n",
            "memory usage: 768.0+ KB\n"
          ],
          "name": "stdout"
        }
      ]
    },
    {
      "cell_type": "code",
      "metadata": {
        "id": "ku6svJzl8abO",
        "colab_type": "code",
        "colab": {
          "base_uri": "https://localhost:8080/",
          "height": 372
        },
        "outputId": "636dff34-c0d4-4205-ed12-a96d26fc8f47"
      },
      "source": [
        "dataset.head()"
      ],
      "execution_count": 8,
      "outputs": [
        {
          "output_type": "execute_result",
          "data": {
            "text/html": [
              "<div>\n",
              "<style scoped>\n",
              "    .dataframe tbody tr th:only-of-type {\n",
              "        vertical-align: middle;\n",
              "    }\n",
              "\n",
              "    .dataframe tbody tr th {\n",
              "        vertical-align: top;\n",
              "    }\n",
              "\n",
              "    .dataframe thead th {\n",
              "        text-align: right;\n",
              "    }\n",
              "</style>\n",
              "<table border=\"1\" class=\"dataframe\">\n",
              "  <thead>\n",
              "    <tr style=\"text-align: right;\">\n",
              "      <th></th>\n",
              "      <th>Unnamed: 0</th>\n",
              "      <th>Date</th>\n",
              "      <th>Open_BOM500002</th>\n",
              "      <th>Open_BOM500003</th>\n",
              "      <th>Open_BOM500008</th>\n",
              "      <th>Open_BOM500009</th>\n",
              "      <th>Open_BOM500010</th>\n",
              "      <th>Open_BOM500012</th>\n",
              "      <th>Open_BOM500013</th>\n",
              "      <th>Open_BOM500014</th>\n",
              "      <th>Open_BOM500020</th>\n",
              "      <th>Open_BOM500023</th>\n",
              "      <th>High_BOM500002</th>\n",
              "      <th>High_BOM500003</th>\n",
              "      <th>High_BOM500008</th>\n",
              "      <th>High_BOM500009</th>\n",
              "      <th>High_BOM500010</th>\n",
              "      <th>High_BOM500012</th>\n",
              "      <th>High_BOM500013</th>\n",
              "      <th>High_BOM500014</th>\n",
              "      <th>High_BOM500020</th>\n",
              "      <th>High_BOM500023</th>\n",
              "      <th>Low_BOM500002</th>\n",
              "      <th>Low_BOM500003</th>\n",
              "      <th>Low_BOM500008</th>\n",
              "      <th>Low_BOM500009</th>\n",
              "      <th>Low_BOM500010</th>\n",
              "      <th>Low_BOM500012</th>\n",
              "      <th>Low_BOM500013</th>\n",
              "      <th>Low_BOM500014</th>\n",
              "      <th>Low_BOM500020</th>\n",
              "      <th>Low_BOM500023</th>\n",
              "      <th>Close_BOM500002</th>\n",
              "      <th>Close_BOM500003</th>\n",
              "      <th>Close_BOM500008</th>\n",
              "      <th>Close_BOM500009</th>\n",
              "      <th>Close_BOM500010</th>\n",
              "      <th>Close_BOM500012</th>\n",
              "      <th>Close_BOM500013</th>\n",
              "      <th>Close_BOM500014</th>\n",
              "      <th>...</th>\n",
              "      <th>% Deli. Qty to Traded Qty_BOM500003</th>\n",
              "      <th>% Deli. Qty to Traded Qty_BOM500008</th>\n",
              "      <th>% Deli. Qty to Traded Qty_BOM500009</th>\n",
              "      <th>% Deli. Qty to Traded Qty_BOM500010</th>\n",
              "      <th>% Deli. Qty to Traded Qty_BOM500012</th>\n",
              "      <th>% Deli. Qty to Traded Qty_BOM500013</th>\n",
              "      <th>% Deli. Qty to Traded Qty_BOM500014</th>\n",
              "      <th>% Deli. Qty to Traded Qty_BOM500020</th>\n",
              "      <th>% Deli. Qty to Traded Qty_BOM500023</th>\n",
              "      <th>Spread H-L_BOM500002</th>\n",
              "      <th>Spread H-L_BOM500003</th>\n",
              "      <th>Spread H-L_BOM500008</th>\n",
              "      <th>Spread H-L_BOM500009</th>\n",
              "      <th>Spread H-L_BOM500010</th>\n",
              "      <th>Spread H-L_BOM500012</th>\n",
              "      <th>Spread H-L_BOM500013</th>\n",
              "      <th>Spread H-L_BOM500014</th>\n",
              "      <th>Spread H-L_BOM500020</th>\n",
              "      <th>Spread H-L_BOM500023</th>\n",
              "      <th>Spread C-O_BOM500002</th>\n",
              "      <th>Spread C-O_BOM500003</th>\n",
              "      <th>Spread C-O_BOM500008</th>\n",
              "      <th>Spread C-O_BOM500009</th>\n",
              "      <th>Spread C-O_BOM500010</th>\n",
              "      <th>Spread C-O_BOM500012</th>\n",
              "      <th>Spread C-O_BOM500013</th>\n",
              "      <th>Spread C-O_BOM500014</th>\n",
              "      <th>Spread C-O_BOM500020</th>\n",
              "      <th>Spread C-O_BOM500023</th>\n",
              "      <th>Gross_Purchases</th>\n",
              "      <th>Gross_Sales</th>\n",
              "      <th>Net_Investment_INR</th>\n",
              "      <th>Net_Investment_USD</th>\n",
              "      <th>Conversion_Rate</th>\n",
              "      <th>Open</th>\n",
              "      <th>High</th>\n",
              "      <th>Low</th>\n",
              "      <th>Close</th>\n",
              "      <th>Adj Close</th>\n",
              "      <th>Volume</th>\n",
              "    </tr>\n",
              "  </thead>\n",
              "  <tbody>\n",
              "    <tr>\n",
              "      <th>0</th>\n",
              "      <td>0</td>\n",
              "      <td>2017-01-02</td>\n",
              "      <td>1045.0</td>\n",
              "      <td>129.00</td>\n",
              "      <td>870.05</td>\n",
              "      <td>7.00</td>\n",
              "      <td>1275.00</td>\n",
              "      <td>21.9</td>\n",
              "      <td>15.50</td>\n",
              "      <td>2.50</td>\n",
              "      <td>49.05</td>\n",
              "      <td>NaN</td>\n",
              "      <td>1052.0</td>\n",
              "      <td>132.45</td>\n",
              "      <td>898.95</td>\n",
              "      <td>7.89</td>\n",
              "      <td>1275.0</td>\n",
              "      <td>22.00</td>\n",
              "      <td>16.08</td>\n",
              "      <td>2.50</td>\n",
              "      <td>49.90</td>\n",
              "      <td>NaN</td>\n",
              "      <td>1035.00</td>\n",
              "      <td>129.00</td>\n",
              "      <td>867.6</td>\n",
              "      <td>7.00</td>\n",
              "      <td>1214.15</td>\n",
              "      <td>21.50</td>\n",
              "      <td>14.86</td>\n",
              "      <td>2.30</td>\n",
              "      <td>48.35</td>\n",
              "      <td>NaN</td>\n",
              "      <td>1039.95</td>\n",
              "      <td>131.05</td>\n",
              "      <td>896.20</td>\n",
              "      <td>7.09</td>\n",
              "      <td>1219.25</td>\n",
              "      <td>21.60</td>\n",
              "      <td>15.30</td>\n",
              "      <td>2.37</td>\n",
              "      <td>...</td>\n",
              "      <td>59.65</td>\n",
              "      <td>12.15</td>\n",
              "      <td>87.01</td>\n",
              "      <td>21.24</td>\n",
              "      <td>77.39</td>\n",
              "      <td>38.58</td>\n",
              "      <td>82.68</td>\n",
              "      <td>27.28</td>\n",
              "      <td>NaN</td>\n",
              "      <td>17.00</td>\n",
              "      <td>3.45</td>\n",
              "      <td>31.35</td>\n",
              "      <td>0.89</td>\n",
              "      <td>60.85</td>\n",
              "      <td>0.50</td>\n",
              "      <td>1.22</td>\n",
              "      <td>0.20</td>\n",
              "      <td>1.55</td>\n",
              "      <td>NaN</td>\n",
              "      <td>-5.05</td>\n",
              "      <td>2.05</td>\n",
              "      <td>26.15</td>\n",
              "      <td>0.09</td>\n",
              "      <td>-55.75</td>\n",
              "      <td>-0.30</td>\n",
              "      <td>-0.20</td>\n",
              "      <td>-0.13</td>\n",
              "      <td>-0.25</td>\n",
              "      <td>NaN</td>\n",
              "      <td>2230.64</td>\n",
              "      <td>2796.67</td>\n",
              "      <td>-566.03</td>\n",
              "      <td>-83.29</td>\n",
              "      <td>67.9547</td>\n",
              "      <td>NaN</td>\n",
              "      <td>NaN</td>\n",
              "      <td>NaN</td>\n",
              "      <td>NaN</td>\n",
              "      <td>NaN</td>\n",
              "      <td>NaN</td>\n",
              "    </tr>\n",
              "    <tr>\n",
              "      <th>1</th>\n",
              "      <td>1</td>\n",
              "      <td>2017-01-03</td>\n",
              "      <td>1069.9</td>\n",
              "      <td>132.30</td>\n",
              "      <td>900.00</td>\n",
              "      <td>7.04</td>\n",
              "      <td>1220.00</td>\n",
              "      <td>21.9</td>\n",
              "      <td>15.50</td>\n",
              "      <td>2.47</td>\n",
              "      <td>49.00</td>\n",
              "      <td>106.950000</td>\n",
              "      <td>1069.9</td>\n",
              "      <td>135.00</td>\n",
              "      <td>900.00</td>\n",
              "      <td>7.30</td>\n",
              "      <td>1222.0</td>\n",
              "      <td>21.90</td>\n",
              "      <td>15.70</td>\n",
              "      <td>2.48</td>\n",
              "      <td>49.80</td>\n",
              "      <td>106.950000</td>\n",
              "      <td>1037.90</td>\n",
              "      <td>132.00</td>\n",
              "      <td>882.9</td>\n",
              "      <td>7.04</td>\n",
              "      <td>1201.00</td>\n",
              "      <td>21.10</td>\n",
              "      <td>15.10</td>\n",
              "      <td>2.32</td>\n",
              "      <td>48.55</td>\n",
              "      <td>106.950000</td>\n",
              "      <td>1045.05</td>\n",
              "      <td>132.50</td>\n",
              "      <td>890.20</td>\n",
              "      <td>7.25</td>\n",
              "      <td>1215.25</td>\n",
              "      <td>21.70</td>\n",
              "      <td>15.32</td>\n",
              "      <td>2.43</td>\n",
              "      <td>...</td>\n",
              "      <td>37.15</td>\n",
              "      <td>24.99</td>\n",
              "      <td>89.13</td>\n",
              "      <td>54.61</td>\n",
              "      <td>89.96</td>\n",
              "      <td>64.98</td>\n",
              "      <td>80.71</td>\n",
              "      <td>44.10</td>\n",
              "      <td>100.000000</td>\n",
              "      <td>32.00</td>\n",
              "      <td>3.00</td>\n",
              "      <td>17.10</td>\n",
              "      <td>0.26</td>\n",
              "      <td>21.00</td>\n",
              "      <td>0.80</td>\n",
              "      <td>0.60</td>\n",
              "      <td>0.16</td>\n",
              "      <td>1.25</td>\n",
              "      <td>0.000000</td>\n",
              "      <td>-24.85</td>\n",
              "      <td>0.20</td>\n",
              "      <td>-9.80</td>\n",
              "      <td>0.21</td>\n",
              "      <td>-4.75</td>\n",
              "      <td>-0.20</td>\n",
              "      <td>-0.18</td>\n",
              "      <td>-0.04</td>\n",
              "      <td>-0.20</td>\n",
              "      <td>0.000000</td>\n",
              "      <td>867.26</td>\n",
              "      <td>1185.97</td>\n",
              "      <td>-318.71</td>\n",
              "      <td>-46.85</td>\n",
              "      <td>68.0225</td>\n",
              "      <td>19872.859375</td>\n",
              "      <td>19938.529297</td>\n",
              "      <td>19775.929688</td>\n",
              "      <td>19881.759766</td>\n",
              "      <td>19881.759766</td>\n",
              "      <td>339180000.0</td>\n",
              "    </tr>\n",
              "    <tr>\n",
              "      <th>2</th>\n",
              "      <td>2</td>\n",
              "      <td>2017-01-04</td>\n",
              "      <td>1050.0</td>\n",
              "      <td>134.15</td>\n",
              "      <td>892.00</td>\n",
              "      <td>7.13</td>\n",
              "      <td>1215.25</td>\n",
              "      <td>22.5</td>\n",
              "      <td>15.32</td>\n",
              "      <td>2.48</td>\n",
              "      <td>50.25</td>\n",
              "      <td>104.050000</td>\n",
              "      <td>1050.0</td>\n",
              "      <td>134.60</td>\n",
              "      <td>909.25</td>\n",
              "      <td>7.40</td>\n",
              "      <td>1225.0</td>\n",
              "      <td>22.75</td>\n",
              "      <td>15.44</td>\n",
              "      <td>2.50</td>\n",
              "      <td>51.90</td>\n",
              "      <td>104.050000</td>\n",
              "      <td>1033.50</td>\n",
              "      <td>131.25</td>\n",
              "      <td>890.0</td>\n",
              "      <td>7.11</td>\n",
              "      <td>1197.55</td>\n",
              "      <td>21.25</td>\n",
              "      <td>15.12</td>\n",
              "      <td>2.35</td>\n",
              "      <td>50.25</td>\n",
              "      <td>104.025000</td>\n",
              "      <td>1037.35</td>\n",
              "      <td>131.75</td>\n",
              "      <td>898.50</td>\n",
              "      <td>7.26</td>\n",
              "      <td>1212.50</td>\n",
              "      <td>22.75</td>\n",
              "      <td>15.28</td>\n",
              "      <td>2.47</td>\n",
              "      <td>...</td>\n",
              "      <td>61.49</td>\n",
              "      <td>24.11</td>\n",
              "      <td>83.89</td>\n",
              "      <td>92.28</td>\n",
              "      <td>74.31</td>\n",
              "      <td>84.28</td>\n",
              "      <td>96.69</td>\n",
              "      <td>31.95</td>\n",
              "      <td>100.000000</td>\n",
              "      <td>16.50</td>\n",
              "      <td>3.35</td>\n",
              "      <td>19.25</td>\n",
              "      <td>0.29</td>\n",
              "      <td>27.45</td>\n",
              "      <td>1.50</td>\n",
              "      <td>0.32</td>\n",
              "      <td>0.15</td>\n",
              "      <td>1.65</td>\n",
              "      <td>0.025000</td>\n",
              "      <td>-12.65</td>\n",
              "      <td>-2.40</td>\n",
              "      <td>6.50</td>\n",
              "      <td>0.13</td>\n",
              "      <td>-2.75</td>\n",
              "      <td>0.25</td>\n",
              "      <td>-0.04</td>\n",
              "      <td>-0.01</td>\n",
              "      <td>0.65</td>\n",
              "      <td>-0.025000</td>\n",
              "      <td>1863.97</td>\n",
              "      <td>2400.72</td>\n",
              "      <td>-536.75</td>\n",
              "      <td>-78.84</td>\n",
              "      <td>68.0864</td>\n",
              "      <td>19890.939453</td>\n",
              "      <td>19956.140625</td>\n",
              "      <td>19878.830078</td>\n",
              "      <td>19942.160156</td>\n",
              "      <td>19942.160156</td>\n",
              "      <td>280010000.0</td>\n",
              "    </tr>\n",
              "    <tr>\n",
              "      <th>3</th>\n",
              "      <td>3</td>\n",
              "      <td>2017-01-05</td>\n",
              "      <td>1051.9</td>\n",
              "      <td>132.00</td>\n",
              "      <td>905.00</td>\n",
              "      <td>7.02</td>\n",
              "      <td>1225.00</td>\n",
              "      <td>23.7</td>\n",
              "      <td>15.43</td>\n",
              "      <td>2.34</td>\n",
              "      <td>51.25</td>\n",
              "      <td>101.150000</td>\n",
              "      <td>1051.9</td>\n",
              "      <td>133.25</td>\n",
              "      <td>935.25</td>\n",
              "      <td>7.50</td>\n",
              "      <td>1225.0</td>\n",
              "      <td>23.85</td>\n",
              "      <td>15.52</td>\n",
              "      <td>2.49</td>\n",
              "      <td>54.40</td>\n",
              "      <td>101.150000</td>\n",
              "      <td>1029.55</td>\n",
              "      <td>130.00</td>\n",
              "      <td>900.0</td>\n",
              "      <td>7.02</td>\n",
              "      <td>1205.30</td>\n",
              "      <td>22.90</td>\n",
              "      <td>15.26</td>\n",
              "      <td>2.33</td>\n",
              "      <td>51.20</td>\n",
              "      <td>101.100000</td>\n",
              "      <td>1031.45</td>\n",
              "      <td>131.65</td>\n",
              "      <td>916.35</td>\n",
              "      <td>7.34</td>\n",
              "      <td>1216.55</td>\n",
              "      <td>23.85</td>\n",
              "      <td>15.48</td>\n",
              "      <td>2.41</td>\n",
              "      <td>...</td>\n",
              "      <td>59.06</td>\n",
              "      <td>27.79</td>\n",
              "      <td>72.79</td>\n",
              "      <td>23.37</td>\n",
              "      <td>73.78</td>\n",
              "      <td>76.37</td>\n",
              "      <td>69.64</td>\n",
              "      <td>32.58</td>\n",
              "      <td>100.000000</td>\n",
              "      <td>22.35</td>\n",
              "      <td>3.25</td>\n",
              "      <td>35.25</td>\n",
              "      <td>0.48</td>\n",
              "      <td>19.70</td>\n",
              "      <td>0.95</td>\n",
              "      <td>0.26</td>\n",
              "      <td>0.16</td>\n",
              "      <td>3.20</td>\n",
              "      <td>0.050000</td>\n",
              "      <td>-20.45</td>\n",
              "      <td>-0.35</td>\n",
              "      <td>11.35</td>\n",
              "      <td>0.32</td>\n",
              "      <td>-8.45</td>\n",
              "      <td>0.15</td>\n",
              "      <td>0.05</td>\n",
              "      <td>0.07</td>\n",
              "      <td>2.60</td>\n",
              "      <td>-0.050000</td>\n",
              "      <td>3534.18</td>\n",
              "      <td>4226.17</td>\n",
              "      <td>-691.99</td>\n",
              "      <td>-101.50</td>\n",
              "      <td>68.1791</td>\n",
              "      <td>19924.560547</td>\n",
              "      <td>19948.599609</td>\n",
              "      <td>19811.119141</td>\n",
              "      <td>19899.289063</td>\n",
              "      <td>19899.289063</td>\n",
              "      <td>269920000.0</td>\n",
              "    </tr>\n",
              "    <tr>\n",
              "      <th>4</th>\n",
              "      <td>4</td>\n",
              "      <td>2017-01-06</td>\n",
              "      <td>1037.0</td>\n",
              "      <td>132.90</td>\n",
              "      <td>916.35</td>\n",
              "      <td>7.35</td>\n",
              "      <td>1216.55</td>\n",
              "      <td>24.9</td>\n",
              "      <td>15.26</td>\n",
              "      <td>2.36</td>\n",
              "      <td>54.20</td>\n",
              "      <td>101.166667</td>\n",
              "      <td>1048.0</td>\n",
              "      <td>133.00</td>\n",
              "      <td>932.15</td>\n",
              "      <td>7.55</td>\n",
              "      <td>1232.4</td>\n",
              "      <td>25.00</td>\n",
              "      <td>15.45</td>\n",
              "      <td>2.45</td>\n",
              "      <td>54.35</td>\n",
              "      <td>101.766667</td>\n",
              "      <td>1035.55</td>\n",
              "      <td>129.55</td>\n",
              "      <td>915.0</td>\n",
              "      <td>7.21</td>\n",
              "      <td>1216.55</td>\n",
              "      <td>23.00</td>\n",
              "      <td>15.01</td>\n",
              "      <td>2.35</td>\n",
              "      <td>52.75</td>\n",
              "      <td>101.133333</td>\n",
              "      <td>1043.90</td>\n",
              "      <td>130.10</td>\n",
              "      <td>928.05</td>\n",
              "      <td>7.40</td>\n",
              "      <td>1222.15</td>\n",
              "      <td>24.95</td>\n",
              "      <td>15.11</td>\n",
              "      <td>2.45</td>\n",
              "      <td>...</td>\n",
              "      <td>49.28</td>\n",
              "      <td>12.28</td>\n",
              "      <td>85.11</td>\n",
              "      <td>82.03</td>\n",
              "      <td>70.79</td>\n",
              "      <td>73.11</td>\n",
              "      <td>87.23</td>\n",
              "      <td>38.97</td>\n",
              "      <td>83.333333</td>\n",
              "      <td>12.45</td>\n",
              "      <td>3.45</td>\n",
              "      <td>17.15</td>\n",
              "      <td>0.34</td>\n",
              "      <td>15.85</td>\n",
              "      <td>2.00</td>\n",
              "      <td>0.44</td>\n",
              "      <td>0.10</td>\n",
              "      <td>1.60</td>\n",
              "      <td>0.633333</td>\n",
              "      <td>6.90</td>\n",
              "      <td>-2.80</td>\n",
              "      <td>11.70</td>\n",
              "      <td>0.05</td>\n",
              "      <td>5.60</td>\n",
              "      <td>0.05</td>\n",
              "      <td>-0.15</td>\n",
              "      <td>0.09</td>\n",
              "      <td>-0.90</td>\n",
              "      <td>0.566667</td>\n",
              "      <td>4542.58</td>\n",
              "      <td>4581.72</td>\n",
              "      <td>-39.14</td>\n",
              "      <td>-5.77</td>\n",
              "      <td>67.7884</td>\n",
              "      <td>19906.960938</td>\n",
              "      <td>19999.630859</td>\n",
              "      <td>19834.080078</td>\n",
              "      <td>19963.800781</td>\n",
              "      <td>19963.800781</td>\n",
              "      <td>277700000.0</td>\n",
              "    </tr>\n",
              "  </tbody>\n",
              "</table>\n",
              "<p>5 rows × 133 columns</p>\n",
              "</div>"
            ],
            "text/plain": [
              "   Unnamed: 0        Date  ...     Adj Close       Volume\n",
              "0           0  2017-01-02  ...           NaN          NaN\n",
              "1           1  2017-01-03  ...  19881.759766  339180000.0\n",
              "2           2  2017-01-04  ...  19942.160156  280010000.0\n",
              "3           3  2017-01-05  ...  19899.289063  269920000.0\n",
              "4           4  2017-01-06  ...  19963.800781  277700000.0\n",
              "\n",
              "[5 rows x 133 columns]"
            ]
          },
          "metadata": {
            "tags": []
          },
          "execution_count": 8
        }
      ]
    },
    {
      "cell_type": "code",
      "metadata": {
        "id": "NEOLMg5T9rbm",
        "colab_type": "code",
        "colab": {
          "base_uri": "https://localhost:8080/",
          "height": 153
        },
        "outputId": "7222cd02-c651-4d0a-921a-2c27403c0741"
      },
      "source": [
        "print(dataset.columns)"
      ],
      "execution_count": 10,
      "outputs": [
        {
          "output_type": "stream",
          "text": [
            "Index(['Unnamed: 0', 'Date', 'Open_BOM500002', 'Open_BOM500003',\n",
            "       'Open_BOM500008', 'Open_BOM500009', 'Open_BOM500010', 'Open_BOM500012',\n",
            "       'Open_BOM500013', 'Open_BOM500014',\n",
            "       ...\n",
            "       'Gross_Sales', 'Net_Investment_INR', 'Net_Investment_USD',\n",
            "       'Conversion_Rate', 'Open', 'High', 'Low', 'Close', 'Adj Close',\n",
            "       'Volume'],\n",
            "      dtype='object', length=133)\n"
          ],
          "name": "stdout"
        }
      ]
    },
    {
      "cell_type": "code",
      "metadata": {
        "id": "G-2jEllr8JDR",
        "colab_type": "code",
        "colab": {}
      },
      "source": [
        "#select only 1 stock Open and close, Conversion_rate , Dowjones Open and close columns\n",
        "features= ['Date','Open_BOM500002','Close_BOM500002', 'Conversion_Rate','Open','Close']\n",
        "sub_dataset=dataset[features]"
      ],
      "execution_count": 0,
      "outputs": []
    },
    {
      "cell_type": "code",
      "metadata": {
        "id": "PEDi2x_d-HM2",
        "colab_type": "code",
        "colab": {
          "base_uri": "https://localhost:8080/",
          "height": 204
        },
        "outputId": "ad6d1ace-ef87-4313-fc1c-0458571e8deb"
      },
      "source": [
        "sub_dataset.head()"
      ],
      "execution_count": 15,
      "outputs": [
        {
          "output_type": "execute_result",
          "data": {
            "text/html": [
              "<div>\n",
              "<style scoped>\n",
              "    .dataframe tbody tr th:only-of-type {\n",
              "        vertical-align: middle;\n",
              "    }\n",
              "\n",
              "    .dataframe tbody tr th {\n",
              "        vertical-align: top;\n",
              "    }\n",
              "\n",
              "    .dataframe thead th {\n",
              "        text-align: right;\n",
              "    }\n",
              "</style>\n",
              "<table border=\"1\" class=\"dataframe\">\n",
              "  <thead>\n",
              "    <tr style=\"text-align: right;\">\n",
              "      <th></th>\n",
              "      <th>Date</th>\n",
              "      <th>Open_BOM500002</th>\n",
              "      <th>Close_BOM500002</th>\n",
              "      <th>Conversion_Rate</th>\n",
              "      <th>Open</th>\n",
              "      <th>Close</th>\n",
              "    </tr>\n",
              "  </thead>\n",
              "  <tbody>\n",
              "    <tr>\n",
              "      <th>0</th>\n",
              "      <td>2017-01-02</td>\n",
              "      <td>1045.0</td>\n",
              "      <td>1039.95</td>\n",
              "      <td>67.9547</td>\n",
              "      <td>NaN</td>\n",
              "      <td>NaN</td>\n",
              "    </tr>\n",
              "    <tr>\n",
              "      <th>1</th>\n",
              "      <td>2017-01-03</td>\n",
              "      <td>1069.9</td>\n",
              "      <td>1045.05</td>\n",
              "      <td>68.0225</td>\n",
              "      <td>19872.859375</td>\n",
              "      <td>19881.759766</td>\n",
              "    </tr>\n",
              "    <tr>\n",
              "      <th>2</th>\n",
              "      <td>2017-01-04</td>\n",
              "      <td>1050.0</td>\n",
              "      <td>1037.35</td>\n",
              "      <td>68.0864</td>\n",
              "      <td>19890.939453</td>\n",
              "      <td>19942.160156</td>\n",
              "    </tr>\n",
              "    <tr>\n",
              "      <th>3</th>\n",
              "      <td>2017-01-05</td>\n",
              "      <td>1051.9</td>\n",
              "      <td>1031.45</td>\n",
              "      <td>68.1791</td>\n",
              "      <td>19924.560547</td>\n",
              "      <td>19899.289063</td>\n",
              "    </tr>\n",
              "    <tr>\n",
              "      <th>4</th>\n",
              "      <td>2017-01-06</td>\n",
              "      <td>1037.0</td>\n",
              "      <td>1043.90</td>\n",
              "      <td>67.7884</td>\n",
              "      <td>19906.960938</td>\n",
              "      <td>19963.800781</td>\n",
              "    </tr>\n",
              "  </tbody>\n",
              "</table>\n",
              "</div>"
            ],
            "text/plain": [
              "         Date  Open_BOM500002  ...          Open         Close\n",
              "0  2017-01-02          1045.0  ...           NaN           NaN\n",
              "1  2017-01-03          1069.9  ...  19872.859375  19881.759766\n",
              "2  2017-01-04          1050.0  ...  19890.939453  19942.160156\n",
              "3  2017-01-05          1051.9  ...  19924.560547  19899.289063\n",
              "4  2017-01-06          1037.0  ...  19906.960938  19963.800781\n",
              "\n",
              "[5 rows x 6 columns]"
            ]
          },
          "metadata": {
            "tags": []
          },
          "execution_count": 15
        }
      ]
    },
    {
      "cell_type": "code",
      "metadata": {
        "id": "iQcdtlx2-Qek",
        "colab_type": "code",
        "colab": {
          "base_uri": "https://localhost:8080/",
          "height": 419
        },
        "outputId": "7e5b3b44-2548-4927-9f2c-be4260940e92"
      },
      "source": [
        "sub_dataset.sort_values(by='Date')"
      ],
      "execution_count": 19,
      "outputs": [
        {
          "output_type": "execute_result",
          "data": {
            "text/html": [
              "<div>\n",
              "<style scoped>\n",
              "    .dataframe tbody tr th:only-of-type {\n",
              "        vertical-align: middle;\n",
              "    }\n",
              "\n",
              "    .dataframe tbody tr th {\n",
              "        vertical-align: top;\n",
              "    }\n",
              "\n",
              "    .dataframe thead th {\n",
              "        text-align: right;\n",
              "    }\n",
              "</style>\n",
              "<table border=\"1\" class=\"dataframe\">\n",
              "  <thead>\n",
              "    <tr style=\"text-align: right;\">\n",
              "      <th></th>\n",
              "      <th>Date</th>\n",
              "      <th>Open_BOM500002</th>\n",
              "      <th>Close_BOM500002</th>\n",
              "      <th>Conversion_Rate</th>\n",
              "      <th>Open</th>\n",
              "      <th>Close</th>\n",
              "    </tr>\n",
              "  </thead>\n",
              "  <tbody>\n",
              "    <tr>\n",
              "      <th>0</th>\n",
              "      <td>2017-01-02</td>\n",
              "      <td>1045.0</td>\n",
              "      <td>1039.95</td>\n",
              "      <td>67.9547</td>\n",
              "      <td>NaN</td>\n",
              "      <td>NaN</td>\n",
              "    </tr>\n",
              "    <tr>\n",
              "      <th>1</th>\n",
              "      <td>2017-01-03</td>\n",
              "      <td>1069.9</td>\n",
              "      <td>1045.05</td>\n",
              "      <td>68.0225</td>\n",
              "      <td>19872.859375</td>\n",
              "      <td>19881.759766</td>\n",
              "    </tr>\n",
              "    <tr>\n",
              "      <th>2</th>\n",
              "      <td>2017-01-04</td>\n",
              "      <td>1050.0</td>\n",
              "      <td>1037.35</td>\n",
              "      <td>68.0864</td>\n",
              "      <td>19890.939453</td>\n",
              "      <td>19942.160156</td>\n",
              "    </tr>\n",
              "    <tr>\n",
              "      <th>3</th>\n",
              "      <td>2017-01-05</td>\n",
              "      <td>1051.9</td>\n",
              "      <td>1031.45</td>\n",
              "      <td>68.1791</td>\n",
              "      <td>19924.560547</td>\n",
              "      <td>19899.289063</td>\n",
              "    </tr>\n",
              "    <tr>\n",
              "      <th>4</th>\n",
              "      <td>2017-01-06</td>\n",
              "      <td>1037.0</td>\n",
              "      <td>1043.90</td>\n",
              "      <td>67.7884</td>\n",
              "      <td>19906.960938</td>\n",
              "      <td>19963.800781</td>\n",
              "    </tr>\n",
              "    <tr>\n",
              "      <th>...</th>\n",
              "      <td>...</td>\n",
              "      <td>...</td>\n",
              "      <td>...</td>\n",
              "      <td>...</td>\n",
              "      <td>...</td>\n",
              "      <td>...</td>\n",
              "    </tr>\n",
              "    <tr>\n",
              "      <th>734</th>\n",
              "      <td>2019-12-24</td>\n",
              "      <td>1278.5</td>\n",
              "      <td>1255.15</td>\n",
              "      <td>71.1699</td>\n",
              "      <td>28572.570313</td>\n",
              "      <td>28515.449219</td>\n",
              "    </tr>\n",
              "    <tr>\n",
              "      <th>735</th>\n",
              "      <td>2019-12-26</td>\n",
              "      <td>1265.0</td>\n",
              "      <td>1268.50</td>\n",
              "      <td>71.1959</td>\n",
              "      <td>28539.460938</td>\n",
              "      <td>28621.390625</td>\n",
              "    </tr>\n",
              "    <tr>\n",
              "      <th>736</th>\n",
              "      <td>2019-12-27</td>\n",
              "      <td>1280.0</td>\n",
              "      <td>1275.75</td>\n",
              "      <td>71.2699</td>\n",
              "      <td>28675.339844</td>\n",
              "      <td>28645.259766</td>\n",
              "    </tr>\n",
              "    <tr>\n",
              "      <th>737</th>\n",
              "      <td>2019-12-30</td>\n",
              "      <td>1277.0</td>\n",
              "      <td>1287.35</td>\n",
              "      <td>71.2214</td>\n",
              "      <td>28654.759766</td>\n",
              "      <td>28462.140625</td>\n",
              "    </tr>\n",
              "    <tr>\n",
              "      <th>738</th>\n",
              "      <td>2019-12-31</td>\n",
              "      <td>1305.0</td>\n",
              "      <td>1284.10</td>\n",
              "      <td>71.3449</td>\n",
              "      <td>28654.759766</td>\n",
              "      <td>28462.140625</td>\n",
              "    </tr>\n",
              "  </tbody>\n",
              "</table>\n",
              "<p>739 rows × 6 columns</p>\n",
              "</div>"
            ],
            "text/plain": [
              "           Date  Open_BOM500002  ...          Open         Close\n",
              "0    2017-01-02          1045.0  ...           NaN           NaN\n",
              "1    2017-01-03          1069.9  ...  19872.859375  19881.759766\n",
              "2    2017-01-04          1050.0  ...  19890.939453  19942.160156\n",
              "3    2017-01-05          1051.9  ...  19924.560547  19899.289063\n",
              "4    2017-01-06          1037.0  ...  19906.960938  19963.800781\n",
              "..          ...             ...  ...           ...           ...\n",
              "734  2019-12-24          1278.5  ...  28572.570313  28515.449219\n",
              "735  2019-12-26          1265.0  ...  28539.460938  28621.390625\n",
              "736  2019-12-27          1280.0  ...  28675.339844  28645.259766\n",
              "737  2019-12-30          1277.0  ...  28654.759766  28462.140625\n",
              "738  2019-12-31          1305.0  ...  28654.759766  28462.140625\n",
              "\n",
              "[739 rows x 6 columns]"
            ]
          },
          "metadata": {
            "tags": []
          },
          "execution_count": 19
        }
      ]
    },
    {
      "cell_type": "code",
      "metadata": {
        "id": "kwnaM2KJ-vK0",
        "colab_type": "code",
        "colab": {
          "base_uri": "https://localhost:8080/",
          "height": 119
        },
        "outputId": "e754534c-9a2c-41f1-9b4f-b9892163dfc7"
      },
      "source": [
        "#parse string to datetime\n",
        "sub_dataset['Date']=pd.to_datetime(sub_dataset['Date'],infer_datetime_format=True)\n"
      ],
      "execution_count": 22,
      "outputs": [
        {
          "output_type": "stream",
          "text": [
            "/usr/local/lib/python3.6/dist-packages/ipykernel_launcher.py:2: SettingWithCopyWarning: \n",
            "A value is trying to be set on a copy of a slice from a DataFrame.\n",
            "Try using .loc[row_indexer,col_indexer] = value instead\n",
            "\n",
            "See the caveats in the documentation: https://pandas.pydata.org/pandas-docs/stable/user_guide/indexing.html#returning-a-view-versus-a-copy\n",
            "  \n"
          ],
          "name": "stderr"
        }
      ]
    },
    {
      "cell_type": "code",
      "metadata": {
        "id": "bEAXha6H_9W7",
        "colab_type": "code",
        "colab": {}
      },
      "source": [
        "IndexedDataset=sub_dataset.set_index(['Date'])"
      ],
      "execution_count": 0,
      "outputs": []
    },
    {
      "cell_type": "code",
      "metadata": {
        "id": "QrRw7dO7AdDL",
        "colab_type": "code",
        "colab": {
          "base_uri": "https://localhost:8080/",
          "height": 221
        },
        "outputId": "cb0248b8-f83c-471e-a8a7-3a3238e29686"
      },
      "source": [
        "IndexedDataset.info()"
      ],
      "execution_count": 25,
      "outputs": [
        {
          "output_type": "stream",
          "text": [
            "<class 'pandas.core.frame.DataFrame'>\n",
            "DatetimeIndex: 739 entries, 2017-01-02 to 2019-12-31\n",
            "Data columns (total 5 columns):\n",
            " #   Column           Non-Null Count  Dtype  \n",
            "---  ------           --------------  -----  \n",
            " 0   Open_BOM500002   739 non-null    float64\n",
            " 1   Close_BOM500002  739 non-null    float64\n",
            " 2   Conversion_Rate  739 non-null    float64\n",
            " 3   Open             738 non-null    float64\n",
            " 4   Close            738 non-null    float64\n",
            "dtypes: float64(5)\n",
            "memory usage: 34.6 KB\n"
          ],
          "name": "stdout"
        }
      ]
    },
    {
      "cell_type": "code",
      "metadata": {
        "id": "Owj92y7AAYEm",
        "colab_type": "code",
        "colab": {
          "base_uri": "https://localhost:8080/",
          "height": 235
        },
        "outputId": "91173609-9a0f-4d40-d448-cf87c5351754"
      },
      "source": [
        "IndexedDataset.head()"
      ],
      "execution_count": 24,
      "outputs": [
        {
          "output_type": "execute_result",
          "data": {
            "text/html": [
              "<div>\n",
              "<style scoped>\n",
              "    .dataframe tbody tr th:only-of-type {\n",
              "        vertical-align: middle;\n",
              "    }\n",
              "\n",
              "    .dataframe tbody tr th {\n",
              "        vertical-align: top;\n",
              "    }\n",
              "\n",
              "    .dataframe thead th {\n",
              "        text-align: right;\n",
              "    }\n",
              "</style>\n",
              "<table border=\"1\" class=\"dataframe\">\n",
              "  <thead>\n",
              "    <tr style=\"text-align: right;\">\n",
              "      <th></th>\n",
              "      <th>Open_BOM500002</th>\n",
              "      <th>Close_BOM500002</th>\n",
              "      <th>Conversion_Rate</th>\n",
              "      <th>Open</th>\n",
              "      <th>Close</th>\n",
              "    </tr>\n",
              "    <tr>\n",
              "      <th>Date</th>\n",
              "      <th></th>\n",
              "      <th></th>\n",
              "      <th></th>\n",
              "      <th></th>\n",
              "      <th></th>\n",
              "    </tr>\n",
              "  </thead>\n",
              "  <tbody>\n",
              "    <tr>\n",
              "      <th>2017-01-02</th>\n",
              "      <td>1045.0</td>\n",
              "      <td>1039.95</td>\n",
              "      <td>67.9547</td>\n",
              "      <td>NaN</td>\n",
              "      <td>NaN</td>\n",
              "    </tr>\n",
              "    <tr>\n",
              "      <th>2017-01-03</th>\n",
              "      <td>1069.9</td>\n",
              "      <td>1045.05</td>\n",
              "      <td>68.0225</td>\n",
              "      <td>19872.859375</td>\n",
              "      <td>19881.759766</td>\n",
              "    </tr>\n",
              "    <tr>\n",
              "      <th>2017-01-04</th>\n",
              "      <td>1050.0</td>\n",
              "      <td>1037.35</td>\n",
              "      <td>68.0864</td>\n",
              "      <td>19890.939453</td>\n",
              "      <td>19942.160156</td>\n",
              "    </tr>\n",
              "    <tr>\n",
              "      <th>2017-01-05</th>\n",
              "      <td>1051.9</td>\n",
              "      <td>1031.45</td>\n",
              "      <td>68.1791</td>\n",
              "      <td>19924.560547</td>\n",
              "      <td>19899.289063</td>\n",
              "    </tr>\n",
              "    <tr>\n",
              "      <th>2017-01-06</th>\n",
              "      <td>1037.0</td>\n",
              "      <td>1043.90</td>\n",
              "      <td>67.7884</td>\n",
              "      <td>19906.960938</td>\n",
              "      <td>19963.800781</td>\n",
              "    </tr>\n",
              "  </tbody>\n",
              "</table>\n",
              "</div>"
            ],
            "text/plain": [
              "            Open_BOM500002  Close_BOM500002  ...          Open         Close\n",
              "Date                                         ...                            \n",
              "2017-01-02          1045.0          1039.95  ...           NaN           NaN\n",
              "2017-01-03          1069.9          1045.05  ...  19872.859375  19881.759766\n",
              "2017-01-04          1050.0          1037.35  ...  19890.939453  19942.160156\n",
              "2017-01-05          1051.9          1031.45  ...  19924.560547  19899.289063\n",
              "2017-01-06          1037.0          1043.90  ...  19906.960938  19963.800781\n",
              "\n",
              "[5 rows x 5 columns]"
            ]
          },
          "metadata": {
            "tags": []
          },
          "execution_count": 24
        }
      ]
    },
    {
      "cell_type": "code",
      "metadata": {
        "id": "rtEbYXqyAidN",
        "colab_type": "code",
        "colab": {
          "base_uri": "https://localhost:8080/",
          "height": 441
        },
        "outputId": "2f7dd8e4-cc5d-4589-f7a6-43c92b59e614"
      },
      "source": [
        "#plot Graph\n",
        "#Plot stock Close price  against Date \n",
        "plt.scatter(IndexedDataset.index,\n",
        "               IndexedDataset['Close'],\n",
        "               color='blue',\n",
        "               s=20)\n",
        "plt.tick_params(labelcolor='none', top='off', bottom='off', left='off', right='off')\n",
        "plt.grid(False)\n",
        "\n",
        "plt.xlabel('Date', labelpad=40)\n",
        "plt.ylabel('Close Price ', labelpad=40)\n",
        "\n",
        "plt.tight_layout()\n",
        "plt.savefig('fig1.png')\n",
        "plt.show()\n",
        "plt.close()"
      ],
      "execution_count": 28,
      "outputs": [
        {
          "output_type": "display_data",
          "data": {
            "image/png": "[encoded data removed]",
            "text/plain": [
              "<Figure size 720x432 with 1 Axes>"
            ]
          },
          "metadata": {
            "tags": [],
            "needs_background": "light"
          }
        }
      ]
    },
    {
      "cell_type": "code",
      "metadata": {
        "id": "kukwvB5kAyrI",
        "colab_type": "code",
        "colab": {
          "base_uri": "https://localhost:8080/",
          "height": 510
        },
        "outputId": "07f6e0ae-0755-4d2b-ec84-b0a1ef24415d"
      },
      "source": [
        "#Check Rolling mean and std\n",
        "rolmean = IndexedDataset.rolling(window=5).mean()\n",
        "rolstd =  IndexedDataset.rolling(window=5).std()\n",
        "\n",
        "print(rolmean,rolstd)"
      ],
      "execution_count": 35,
      "outputs": [
        {
          "output_type": "stream",
          "text": [
            "            Open_BOM500002  Close_BOM500002  ...          Open         Close\n",
            "Date                                         ...                            \n",
            "2017-01-02             NaN              NaN  ...           NaN           NaN\n",
            "2017-01-03             NaN              NaN  ...           NaN           NaN\n",
            "2017-01-04             NaN              NaN  ...           NaN           NaN\n",
            "2017-01-05             NaN              NaN  ...           NaN           NaN\n",
            "2017-01-06         1050.76          1039.54  ...           NaN           NaN\n",
            "...                    ...              ...  ...           ...           ...\n",
            "2019-12-24         1359.62          1342.09  ...  28448.548047  28427.661719\n",
            "2019-12-26         1317.90          1305.56  ...  28498.152344  28504.083985\n",
            "2019-12-27         1283.50          1265.35  ...  28577.558203  28557.743750\n",
            "2019-12-30         1273.10          1269.54  ...  28586.782032  28559.153906\n",
            "2019-12-31         1281.10          1274.17  ...  28619.378125  28541.276172\n",
            "\n",
            "[739 rows x 5 columns]             Open_BOM500002  Close_BOM500002  ...        Open       Close\n",
            "Date                                         ...                        \n",
            "2017-01-02             NaN              NaN  ...         NaN         NaN\n",
            "2017-01-03             NaN              NaN  ...         NaN         NaN\n",
            "2017-01-04             NaN              NaN  ...         NaN         NaN\n",
            "2017-01-05             NaN              NaN  ...         NaN         NaN\n",
            "2017-01-06       12.152489         5.472248  ...         NaN         NaN\n",
            "...                    ...              ...  ...         ...         ...\n",
            "2019-12-24       97.463439       111.705088  ...  155.357663  124.358987\n",
            "2019-12-26       79.459424        95.866192  ...  130.214367   93.142054\n",
            "2019-12-27       26.419690         7.787570  ...   69.573105   77.581004\n",
            "2019-12-30        7.469940        12.626381  ...   77.347005   75.278548\n",
            "2019-12-31       14.621901        12.929840  ...   59.609486   87.210685\n",
            "\n",
            "[739 rows x 5 columns]\n"
          ],
          "name": "stdout"
        }
      ]
    },
    {
      "cell_type": "code",
      "metadata": {
        "id": "4NUI6KadCowx",
        "colab_type": "code",
        "colab": {
          "base_uri": "https://localhost:8080/",
          "height": 390
        },
        "outputId": "3850dd43-468d-459d-aa62-cbc0200835a0"
      },
      "source": [
        "orig = plt.plot(IndexedDataset['Close_BOM500002'],color='blue',label='Original')\n",
        "mean= plt.plot(rolmean['Close_BOM500002'],color='red',label='Rolling Mean')\n",
        "std= plt.plot(rolstd['Close_BOM500002'],color='black',label='Rolling std')\n",
        "plt.legend(loc='best')\n",
        "plt.title('Rolling Mean & Std Deviation')\n",
        "plt.show(block=False)"
      ],
      "execution_count": 36,
      "outputs": [
        {
          "output_type": "display_data",
          "data": {
            "image/png": "[encoded data removed]",
            "text/plain": [
              "<Figure size 720x432 with 1 Axes>"
            ]
          },
          "metadata": {
            "tags": [],
            "needs_background": "light"
          }
        }
      ]
    },
    {
      "cell_type": "code",
      "metadata": {
        "id": "ch2BgECMDkVt",
        "colab_type": "code",
        "colab": {
          "base_uri": "https://localhost:8080/",
          "height": 170
        },
        "outputId": "068fa84a-5702-4c8b-8a8d-9117c0393db2"
      },
      "source": [
        "#Check Dickey - Fuller test\n",
        "from statsmodels.tsa.stattools import adfuller\n",
        "\n",
        "print('Results of Dickey Fuller test:')\n",
        "dftest=adfuller(IndexedDataset['Close_BOM500002'],autolag='AIC')\n",
        "\n",
        "dfoutput = pd.Series(dftest[0:4],index = ['Test Statistcs ', 'p-value', '#lags used', 'No of Observations used'] )\n",
        "for key,value in dftest[4].items():\n",
        "  dfoutput['Critical Value (%s)'%key]=value\n",
        "\n",
        "print(dfoutput)"
      ],
      "execution_count": 40,
      "outputs": [
        {
          "output_type": "stream",
          "text": [
            "Results of Dickey Fuller test:\n",
            "Test Statistcs              -3.577899\n",
            "p-value                      0.006198\n",
            "#lags used                   1.000000\n",
            "No of Observations used    737.000000\n",
            "Critical Value (1%)         -3.439254\n",
            "Critical Value (5%)         -2.865470\n",
            "Critical Value (10%)        -2.568863\n",
            "dtype: float64\n"
          ],
          "name": "stdout"
        }
      ]
    },
    {
      "cell_type": "markdown",
      "metadata": {
        "id": "Lq3n_gUVFXqJ",
        "colab_type": "text"
      },
      "source": [
        "**p-value is less than 0.05, so we can reject null Hypothesis\n",
        "and confirm the data is stationary**\n"
      ]
    },
    {
      "cell_type": "code",
      "metadata": {
        "id": "V73s5wGiFjYK",
        "colab_type": "code",
        "colab": {
          "base_uri": "https://localhost:8080/",
          "height": 461
        },
        "outputId": "375d38dc-c375-4790-8381-e997ead15b2e"
      },
      "source": [
        "#plot ACF and PACF\n",
        "from statsmodels.tsa.stattools import acf,pacf\n",
        "\n",
        "lag_acf=acf(IndexedDataset['Close_BOM500002'],nlags=20)\n",
        "lag_pacf = pacf (IndexedDataset['Close_BOM500002'],nlags=20, method ='ols')\n",
        "\n",
        "#plot ACF\n",
        "plt.subplot(121)\n",
        "plt.plot(lag_acf)\n",
        "plt.axhline(y=0,linestyle='--',color='gray')\n",
        "plt.axhline(y=-1.96/np.sqrt(len(IndexedDataset['Close_BOM500002'])),linestyle='--',color='gray')\n",
        "plt.axhline(y=1.96/np.sqrt(len(IndexedDataset['Close_BOM500002'])),linestyle='--',color='gray')\n",
        "plt.title('Autocorrelation Function')\n",
        "\n",
        "\n",
        "#plot PACF\n",
        "plt.subplot(122)\n",
        "plt.plot(lag_pacf)\n",
        "plt.axhline(y=0,linestyle='--',color='gray')\n",
        "plt.axhline(y=-1.96/np.sqrt(len(IndexedDataset['Close_BOM500002'])),linestyle='--',color='gray')\n",
        "plt.axhline(y=1.96/np.sqrt(len(IndexedDataset['Close_BOM500002'])),linestyle='--',color='gray')\n",
        "plt.title('Partial Autocorrelation Function')\n"
      ],
      "execution_count": 50,
      "outputs": [
        {
          "output_type": "stream",
          "text": [
            "/usr/local/lib/python3.6/dist-packages/statsmodels/tsa/stattools.py:541: FutureWarning: fft=True will become the default in a future version of statsmodels. To suppress this warning, explicitly set fft=False.\n",
            "  warnings.warn(msg, FutureWarning)\n"
          ],
          "name": "stderr"
        },
        {
          "output_type": "execute_result",
          "data": {
            "text/plain": [
              "Text(0.5, 1.0, 'Partial Autocorrelation Function')"
            ]
          },
          "metadata": {
            "tags": []
          },
          "execution_count": 50
        },
        {
          "output_type": "display_data",
          "data": {
            "image/png": "[encoded data removed]",
            "text/plain": [
              "<Figure size 720x432 with 2 Axes>"
            ]
          },
          "metadata": {
            "tags": [],
            "needs_background": "light"
          }
        }
      ]
    },
    {
      "cell_type": "code",
      "metadata": {
        "id": "RUFoCE-RH2gL",
        "colab_type": "code",
        "colab": {
          "base_uri": "https://localhost:8080/",
          "height": 461
        },
        "outputId": "0c8e238a-a310-4078-a2a1-706d2e49da47"
      },
      "source": [
        "from statsmodels.tsa.arima_model import ARIMA\n",
        "\n",
        "model = ARIMA(IndexedDataset['Close_BOM500002'],order=(1,0,1))\n",
        "results_AR =model.fit(disp=-1)\n",
        "plt.plot(IndexedDataset['Close_BOM500002'])\n",
        "plt.plot(results_AR.fittedvalues,color='red')\n",
        "plt.title('RSS: %.4f'% sum((results_AR.fittedvalues-IndexedDataset['Close_BOM500002'])**2))\n",
        "print('Plotting AR Model')"
      ],
      "execution_count": 52,
      "outputs": [
        {
          "output_type": "stream",
          "text": [
            "/usr/local/lib/python3.6/dist-packages/statsmodels/tsa/base/tsa_model.py:219: ValueWarning: A date index has been provided, but it has no associated frequency information and so will be ignored when e.g. forecasting.\n",
            "  ' ignored when e.g. forecasting.', ValueWarning)\n"
          ],
          "name": "stderr"
        },
        {
          "output_type": "stream",
          "text": [
            "Plotting AR Model\n"
          ],
          "name": "stdout"
        },
        {
          "output_type": "display_data",
          "data": {
            "image/png": "[encoded data removed]",
            "text/plain": [
              "<Figure size 720x432 with 1 Axes>"
            ]
          },
          "metadata": {
            "tags": [],
            "needs_background": "light"
          }
        }
      ]
    }
  ]
}