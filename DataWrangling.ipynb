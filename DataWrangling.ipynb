{
  "nbformat": 4,
  "nbformat_minor": 0,
  "metadata": {
    "colab": {
      "name": "DataWrangling.ipynb",
      "provenance": [],
      "collapsed_sections": [],
      "mount_file_id": "1Wc5pyIvCij3dAy_XVC-qIn61oZT7216D",
      "authorship_tag": "ABX9TyM4plzYKx5ke7EwtQIdjGzs",
      "include_colab_link": true
    },
    "kernelspec": {
      "name": "python3",
      "display_name": "Python 3"
    }
  },
  "cells": [
    {
      "cell_type": "markdown",
      "metadata": {
        "id": "view-in-github",
        "colab_type": "text"
      },
      "source": [
        "<a href=\"https://colab.research.google.com/github/santoshgurujula/Springboard/blob/master/DataWrangling.ipynb\" target=\"_parent\"><img src=\"https://colab.research.google.com/assets/colab-badge.svg\" alt=\"Open In Colab\"/></a>"
      ]
    },
    {
      "cell_type": "code",
      "metadata": {
        "id": "RhkcO9NwmAUe",
        "colab_type": "code",
        "colab": {}
      },
      "source": [
        "# First, import the relevant modules\n",
        "from matplotlib import pyplot as plt\n",
        "%matplotlib inline\n",
        "import pandas as pd\n",
        "import glob as gb\n"
      ],
      "execution_count": 0,
      "outputs": []
    },
    {
      "cell_type": "code",
      "metadata": {
        "id": "Dh--6mFVo3ul",
        "colab_type": "code",
        "outputId": "01399a06-9e6d-4ad0-bc2c-46c9dfe3c3fd",
        "colab": {
          "base_uri": "https://localhost:8080/",
          "height": 87
        }
      },
      "source": [
        "#pointing the path to google drive folder\n",
        "%cd '/content/drive/My Drive/Springboard/data'\n",
        "!ls"
      ],
      "execution_count": 2,
      "outputs": [
        {
          "output_type": "stream",
          "text": [
            "/content/drive/My Drive/Springboard/data\n",
            "BOM500002.csv  BOM500009.csv  BOM500013.csv  BOM500023.csv\n",
            "BOM500003.csv  BOM500010.csv  BOM500014.csv  DJI.csv\n",
            "BOM500008.csv  BOM500012.csv  BOM500020.csv  nasdl.csv\n"
          ],
          "name": "stdout"
        }
      ]
    },
    {
      "cell_type": "code",
      "metadata": {
        "id": "fn8_JsfKty2L",
        "colab_type": "code",
        "colab": {}
      },
      "source": [
        "#to read only BSE stock csv files\n",
        "pattern='BOM*.csv'\n",
        "#read csv files \n",
        "csv_files=gb.glob(pattern)"
      ],
      "execution_count": 0,
      "outputs": []
    },
    {
      "cell_type": "code",
      "metadata": {
        "id": "Ihna-5tOuP7W",
        "colab_type": "code",
        "outputId": "7f458842-c927-44a3-c310-02cdf74e2e2c",
        "colab": {
          "base_uri": "https://localhost:8080/",
          "height": 34
        }
      },
      "source": [
        "#print list of data files\n",
        "print(csv_files)"
      ],
      "execution_count": 4,
      "outputs": [
        {
          "output_type": "stream",
          "text": [
            "['BOM500002.csv', 'BOM500003.csv', 'BOM500008.csv', 'BOM500009.csv', 'BOM500010.csv', 'BOM500012.csv', 'BOM500013.csv', 'BOM500014.csv', 'BOM500020.csv', 'BOM500023.csv']\n"
          ],
          "name": "stdout"
        }
      ]
    },
    {
      "cell_type": "code",
      "metadata": {
        "id": "WeJDT_psweQx",
        "colab_type": "code",
        "colab": {}
      },
      "source": [
        "# Copy multiple files to single DF\n",
        "# Create an empty list: frames\n",
        "frames = []\n"
      ],
      "execution_count": 0,
      "outputs": []
    },
    {
      "cell_type": "code",
      "metadata": {
        "id": "qyUouuXVCl-b",
        "colab_type": "code",
        "colab": {}
      },
      "source": [
        "#  Iterate over csv_files\n",
        "for csv in csv_files:\n",
        "    #  Read csv into a DataFrame: df\n",
        "    df = pd.read_csv(csv)    \n",
        "    # Append df to frames\n",
        "    frames.append(df)"
      ],
      "execution_count": 0,
      "outputs": []
    },
    {
      "cell_type": "code",
      "metadata": {
        "id": "5k8Eq9lnC0gD",
        "colab_type": "code",
        "colab": {}
      },
      "source": [
        "# Concatenate frames into a single DataFrame: uber\n",
        "share_price_df = pd.concat(frames)"
      ],
      "execution_count": 0,
      "outputs": []
    },
    {
      "cell_type": "code",
      "metadata": {
        "id": "SRwF1zp3C_mY",
        "colab_type": "code",
        "outputId": "706f14c6-985b-4f86-ef9a-34c37dbee5dd",
        "colab": {
          "base_uri": "https://localhost:8080/",
          "height": 34
        }
      },
      "source": [
        "# Print the shape of share_price_df\n",
        "print(share_price_df.shape)\n"
      ],
      "execution_count": 8,
      "outputs": [
        {
          "output_type": "stream",
          "text": [
            "(7248, 15)\n"
          ],
          "name": "stdout"
        }
      ]
    },
    {
      "cell_type": "code",
      "metadata": {
        "id": "v6Wkk4d4DFeu",
        "colab_type": "code",
        "outputId": "d70aa316-da80-4d4f-ad05-c1acbd9df76c",
        "colab": {
          "base_uri": "https://localhost:8080/",
          "height": 158
        }
      },
      "source": [
        "# Print the head of share_price_df\n",
        "print(share_price_df.head())\n"
      ],
      "execution_count": 9,
      "outputs": [
        {
          "output_type": "stream",
          "text": [
            "   Unnamed: 0        Date    Open  ...  Spread H-L  Spread C-O  stockname\n",
            "0           0  2019-12-31  1305.0  ...        30.0      -20.90  BOM500002\n",
            "1           1  2019-12-30  1277.0  ...        50.0       10.35  BOM500002\n",
            "2           2  2019-12-27  1280.0  ...        30.0       -4.25  BOM500002\n",
            "3           3  2019-12-26  1265.0  ...        43.0        3.50  BOM500002\n",
            "4           4  2019-12-24  1278.5  ...        38.5      -23.35  BOM500002\n",
            "\n",
            "[5 rows x 15 columns]\n"
          ],
          "name": "stdout"
        }
      ]
    },
    {
      "cell_type": "code",
      "metadata": {
        "id": "jrQYeoYMDN4D",
        "colab_type": "code",
        "outputId": "efe8effd-3384-44bc-d3de-e2f465e9b94b",
        "colab": {
          "base_uri": "https://localhost:8080/",
          "height": 105
        }
      },
      "source": [
        "print(share_price_df.columns)"
      ],
      "execution_count": 10,
      "outputs": [
        {
          "output_type": "stream",
          "text": [
            "Index(['Unnamed: 0', 'Date', 'Open', 'High', 'Low', 'Close', 'WAP',\n",
            "       'No. of Shares', 'No. of Trades', 'Total Turnover',\n",
            "       'Deliverable Quantity', '% Deli. Qty to Traded Qty', 'Spread H-L',\n",
            "       'Spread C-O', 'stockname'],\n",
            "      dtype='object')\n"
          ],
          "name": "stdout"
        }
      ]
    },
    {
      "cell_type": "code",
      "metadata": {
        "id": "z3_q4af3BMI6",
        "colab_type": "code",
        "colab": {}
      },
      "source": [
        "share_price_df=share_price_df.drop(labels=['Unnamed: 0','Deliverable Quantity','% Deli. Qty to Traded Qty','High','Low'],axis=1)\n"
      ],
      "execution_count": 0,
      "outputs": []
    },
    {
      "cell_type": "code",
      "metadata": {
        "id": "0MDkhLj3fYy6",
        "colab_type": "code",
        "colab": {
          "base_uri": "https://localhost:8080/",
          "height": 70
        },
        "outputId": "e60b5e21-b809-4e89-9eca-7a260dd2a5ca"
      },
      "source": [
        "share_price_df.columns"
      ],
      "execution_count": 12,
      "outputs": [
        {
          "output_type": "execute_result",
          "data": {
            "text/plain": [
              "Index(['Date', 'Open', 'Close', 'WAP', 'No. of Shares', 'No. of Trades',\n",
              "       'Total Turnover', 'Spread H-L', 'Spread C-O', 'stockname'],\n",
              "      dtype='object')"
            ]
          },
          "metadata": {
            "tags": []
          },
          "execution_count": 12
        }
      ]
    },
    {
      "cell_type": "code",
      "metadata": {
        "id": "iNwaWHfEjD9t",
        "colab_type": "code",
        "colab": {}
      },
      "source": [
        "share_price_df=share_price_df.sort_values(['stockname','Date'],ascending=True)"
      ],
      "execution_count": 0,
      "outputs": []
    },
    {
      "cell_type": "code",
      "metadata": {
        "id": "ZBKydePmYA38",
        "colab_type": "code",
        "outputId": "309343bd-072b-4602-84ff-4d5e19834712",
        "colab": {
          "base_uri": "https://localhost:8080/",
          "height": 296
        }
      },
      "source": [
        "#Plot  stock\n",
        "share_price_df[share_price_df['stockname']=='BOM500002'].plot(x='Date',\n",
        "                    y=['Open','Close'],kind='line')\n"
      ],
      "execution_count": 14,
      "outputs": [
        {
          "output_type": "execute_result",
          "data": {
            "text/plain": [
              "<matplotlib.axes._subplots.AxesSubplot at 0x7f19ac160828>"
            ]
          },
          "metadata": {
            "tags": []
          },
          "execution_count": 14
        },
        {
          "output_type": "display_data",
          "data": {
            "image/png": "[encoded data removed]",
            "text/plain": [
              "<Figure size 432x288 with 1 Axes>"
            ]
          },
          "metadata": {
            "tags": []
          }
        }
      ]
    },
    {
      "cell_type": "code",
      "metadata": {
        "id": "CECz27J7fjU0",
        "colab_type": "code",
        "outputId": "8dc3c6e6-3cdd-47c1-ddba-bf4a88ed8e20",
        "colab": {
          "base_uri": "https://localhost:8080/",
          "height": 197
        }
      },
      "source": [
        "#Pivot based on stockname for only Close price\n",
        "share_price_pivot_df=share_price_df.pivot(index='Date', columns='stockname')['Close'].reset_index()\n",
        "share_price_pivot_df.head()"
      ],
      "execution_count": 22,
      "outputs": [
        {
          "output_type": "execute_result",
          "data": {
            "text/html": [
              "<div>\n",
              "<style scoped>\n",
              "    .dataframe tbody tr th:only-of-type {\n",
              "        vertical-align: middle;\n",
              "    }\n",
              "\n",
              "    .dataframe tbody tr th {\n",
              "        vertical-align: top;\n",
              "    }\n",
              "\n",
              "    .dataframe thead th {\n",
              "        text-align: right;\n",
              "    }\n",
              "</style>\n",
              "<table border=\"1\" class=\"dataframe\">\n",
              "  <thead>\n",
              "    <tr style=\"text-align: right;\">\n",
              "      <th>stockname</th>\n",
              "      <th>Date</th>\n",
              "      <th>BOM500002</th>\n",
              "      <th>BOM500003</th>\n",
              "      <th>BOM500008</th>\n",
              "      <th>BOM500009</th>\n",
              "      <th>BOM500010</th>\n",
              "      <th>BOM500012</th>\n",
              "      <th>BOM500013</th>\n",
              "      <th>BOM500014</th>\n",
              "      <th>BOM500020</th>\n",
              "      <th>BOM500023</th>\n",
              "    </tr>\n",
              "  </thead>\n",
              "  <tbody>\n",
              "    <tr>\n",
              "      <th>0</th>\n",
              "      <td>2017-01-02</td>\n",
              "      <td>1039.95</td>\n",
              "      <td>131.05</td>\n",
              "      <td>896.20</td>\n",
              "      <td>7.09</td>\n",
              "      <td>1219.25</td>\n",
              "      <td>21.60</td>\n",
              "      <td>15.30</td>\n",
              "      <td>2.37</td>\n",
              "      <td>48.80</td>\n",
              "      <td>NaN</td>\n",
              "    </tr>\n",
              "    <tr>\n",
              "      <th>1</th>\n",
              "      <td>2017-01-03</td>\n",
              "      <td>1045.05</td>\n",
              "      <td>132.50</td>\n",
              "      <td>890.20</td>\n",
              "      <td>7.25</td>\n",
              "      <td>1215.25</td>\n",
              "      <td>21.70</td>\n",
              "      <td>15.32</td>\n",
              "      <td>2.43</td>\n",
              "      <td>48.80</td>\n",
              "      <td>106.95</td>\n",
              "    </tr>\n",
              "    <tr>\n",
              "      <th>2</th>\n",
              "      <td>2017-01-04</td>\n",
              "      <td>1037.35</td>\n",
              "      <td>131.75</td>\n",
              "      <td>898.50</td>\n",
              "      <td>7.26</td>\n",
              "      <td>1212.50</td>\n",
              "      <td>22.75</td>\n",
              "      <td>15.28</td>\n",
              "      <td>2.47</td>\n",
              "      <td>50.90</td>\n",
              "      <td>NaN</td>\n",
              "    </tr>\n",
              "    <tr>\n",
              "      <th>3</th>\n",
              "      <td>2017-01-05</td>\n",
              "      <td>1031.45</td>\n",
              "      <td>131.65</td>\n",
              "      <td>916.35</td>\n",
              "      <td>7.34</td>\n",
              "      <td>1216.55</td>\n",
              "      <td>23.85</td>\n",
              "      <td>15.48</td>\n",
              "      <td>2.41</td>\n",
              "      <td>53.85</td>\n",
              "      <td>101.10</td>\n",
              "    </tr>\n",
              "    <tr>\n",
              "      <th>4</th>\n",
              "      <td>2017-01-06</td>\n",
              "      <td>1043.90</td>\n",
              "      <td>130.10</td>\n",
              "      <td>928.05</td>\n",
              "      <td>7.40</td>\n",
              "      <td>1222.15</td>\n",
              "      <td>24.95</td>\n",
              "      <td>15.11</td>\n",
              "      <td>2.45</td>\n",
              "      <td>53.30</td>\n",
              "      <td>NaN</td>\n",
              "    </tr>\n",
              "  </tbody>\n",
              "</table>\n",
              "</div>"
            ],
            "text/plain": [
              "stockname        Date  BOM500002  BOM500003  ...  BOM500014  BOM500020  BOM500023\n",
              "0          2017-01-02    1039.95     131.05  ...       2.37      48.80        NaN\n",
              "1          2017-01-03    1045.05     132.50  ...       2.43      48.80     106.95\n",
              "2          2017-01-04    1037.35     131.75  ...       2.47      50.90        NaN\n",
              "3          2017-01-05    1031.45     131.65  ...       2.41      53.85     101.10\n",
              "4          2017-01-06    1043.90     130.10  ...       2.45      53.30        NaN\n",
              "\n",
              "[5 rows x 11 columns]"
            ]
          },
          "metadata": {
            "tags": []
          },
          "execution_count": 22
        }
      ]
    },
    {
      "cell_type": "code",
      "metadata": {
        "id": "TlftUAkmlBZW",
        "colab_type": "code",
        "colab": {
          "base_uri": "https://localhost:8080/",
          "height": 70
        },
        "outputId": "63167c4c-35b4-4daf-d94a-dd60d4e189f7"
      },
      "source": [
        "share_price_pivot_df.columns"
      ],
      "execution_count": 21,
      "outputs": [
        {
          "output_type": "execute_result",
          "data": {
            "text/plain": [
              "Index(['Date', 'BOM500002', 'BOM500003', 'BOM500008', 'BOM500009', 'BOM500010',\n",
              "       'BOM500012', 'BOM500013', 'BOM500014', 'BOM500020', 'BOM500023'],\n",
              "      dtype='object', name='stockname')"
            ]
          },
          "metadata": {
            "tags": []
          },
          "execution_count": 21
        }
      ]
    },
    {
      "cell_type": "code",
      "metadata": {
        "id": "ifjyvpOOlD02",
        "colab_type": "code",
        "colab": {
          "base_uri": "https://localhost:8080/",
          "height": 197
        },
        "outputId": "aa398a17-d228-4cbe-bab8-7198e850edc5"
      },
      "source": [
        "#changing Index name to None \n",
        "share_price_pivot_df.columns.name = None\n",
        "share_price_pivot_df.head()"
      ],
      "execution_count": 24,
      "outputs": [
        {
          "output_type": "execute_result",
          "data": {
            "text/html": [
              "<div>\n",
              "<style scoped>\n",
              "    .dataframe tbody tr th:only-of-type {\n",
              "        vertical-align: middle;\n",
              "    }\n",
              "\n",
              "    .dataframe tbody tr th {\n",
              "        vertical-align: top;\n",
              "    }\n",
              "\n",
              "    .dataframe thead th {\n",
              "        text-align: right;\n",
              "    }\n",
              "</style>\n",
              "<table border=\"1\" class=\"dataframe\">\n",
              "  <thead>\n",
              "    <tr style=\"text-align: right;\">\n",
              "      <th></th>\n",
              "      <th>Date</th>\n",
              "      <th>BOM500002</th>\n",
              "      <th>BOM500003</th>\n",
              "      <th>BOM500008</th>\n",
              "      <th>BOM500009</th>\n",
              "      <th>BOM500010</th>\n",
              "      <th>BOM500012</th>\n",
              "      <th>BOM500013</th>\n",
              "      <th>BOM500014</th>\n",
              "      <th>BOM500020</th>\n",
              "      <th>BOM500023</th>\n",
              "    </tr>\n",
              "  </thead>\n",
              "  <tbody>\n",
              "    <tr>\n",
              "      <th>0</th>\n",
              "      <td>2017-01-02</td>\n",
              "      <td>1039.95</td>\n",
              "      <td>131.05</td>\n",
              "      <td>896.20</td>\n",
              "      <td>7.09</td>\n",
              "      <td>1219.25</td>\n",
              "      <td>21.60</td>\n",
              "      <td>15.30</td>\n",
              "      <td>2.37</td>\n",
              "      <td>48.80</td>\n",
              "      <td>NaN</td>\n",
              "    </tr>\n",
              "    <tr>\n",
              "      <th>1</th>\n",
              "      <td>2017-01-03</td>\n",
              "      <td>1045.05</td>\n",
              "      <td>132.50</td>\n",
              "      <td>890.20</td>\n",
              "      <td>7.25</td>\n",
              "      <td>1215.25</td>\n",
              "      <td>21.70</td>\n",
              "      <td>15.32</td>\n",
              "      <td>2.43</td>\n",
              "      <td>48.80</td>\n",
              "      <td>106.95</td>\n",
              "    </tr>\n",
              "    <tr>\n",
              "      <th>2</th>\n",
              "      <td>2017-01-04</td>\n",
              "      <td>1037.35</td>\n",
              "      <td>131.75</td>\n",
              "      <td>898.50</td>\n",
              "      <td>7.26</td>\n",
              "      <td>1212.50</td>\n",
              "      <td>22.75</td>\n",
              "      <td>15.28</td>\n",
              "      <td>2.47</td>\n",
              "      <td>50.90</td>\n",
              "      <td>NaN</td>\n",
              "    </tr>\n",
              "    <tr>\n",
              "      <th>3</th>\n",
              "      <td>2017-01-05</td>\n",
              "      <td>1031.45</td>\n",
              "      <td>131.65</td>\n",
              "      <td>916.35</td>\n",
              "      <td>7.34</td>\n",
              "      <td>1216.55</td>\n",
              "      <td>23.85</td>\n",
              "      <td>15.48</td>\n",
              "      <td>2.41</td>\n",
              "      <td>53.85</td>\n",
              "      <td>101.10</td>\n",
              "    </tr>\n",
              "    <tr>\n",
              "      <th>4</th>\n",
              "      <td>2017-01-06</td>\n",
              "      <td>1043.90</td>\n",
              "      <td>130.10</td>\n",
              "      <td>928.05</td>\n",
              "      <td>7.40</td>\n",
              "      <td>1222.15</td>\n",
              "      <td>24.95</td>\n",
              "      <td>15.11</td>\n",
              "      <td>2.45</td>\n",
              "      <td>53.30</td>\n",
              "      <td>NaN</td>\n",
              "    </tr>\n",
              "  </tbody>\n",
              "</table>\n",
              "</div>"
            ],
            "text/plain": [
              "         Date  BOM500002  BOM500003  ...  BOM500014  BOM500020  BOM500023\n",
              "0  2017-01-02    1039.95     131.05  ...       2.37      48.80        NaN\n",
              "1  2017-01-03    1045.05     132.50  ...       2.43      48.80     106.95\n",
              "2  2017-01-04    1037.35     131.75  ...       2.47      50.90        NaN\n",
              "3  2017-01-05    1031.45     131.65  ...       2.41      53.85     101.10\n",
              "4  2017-01-06    1043.90     130.10  ...       2.45      53.30        NaN\n",
              "\n",
              "[5 rows x 11 columns]"
            ]
          },
          "metadata": {
            "tags": []
          },
          "execution_count": 24
        }
      ]
    }
  ]
}