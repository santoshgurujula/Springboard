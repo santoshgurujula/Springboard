{
  "nbformat": 4,
  "nbformat_minor": 0,
  "metadata": {
    "colab": {
      "name": "DataWrangling.ipynb",
      "provenance": [],
      "collapsed_sections": [],
      "mount_file_id": "https://github.com/santoshgurujula/Springboard/blob/master/DataWrangling.ipynb",
      "authorship_tag": "ABX9TyPZdT1PWoxU8CQzgsLX3FXC",
      "include_colab_link": true
    },
    "kernelspec": {
      "name": "python3",
      "display_name": "Python 3"
    }
  },
  "cells": [
    {
      "cell_type": "markdown",
      "metadata": {
        "id": "view-in-github",
        "colab_type": "text"
      },
      "source": [
        "<a href=\"https://colab.research.google.com/github/santoshgurujula/Springboard/blob/master/DataWrangling.ipynb\" target=\"_parent\"><img src=\"https://colab.research.google.com/assets/colab-badge.svg\" alt=\"Open In Colab\"/></a>"
      ]
    },
    {
      "cell_type": "code",
      "metadata": {
        "id": "6AfF6UnFTP6g",
        "colab_type": "code",
        "colab": {
          "base_uri": "https://localhost:8080/",
          "height": 102
        },
        "outputId": "ec4a3d9f-0e13-4e3e-865e-d5037ae47fba"
      },
      "source": [
        "!pip install pandas -U"
      ],
      "execution_count": 1,
      "outputs": [
        {
          "output_type": "stream",
          "text": [
            "Requirement already up-to-date: pandas in /usr/local/lib/python3.6/dist-packages (1.0.1)\n",
            "Requirement already satisfied, skipping upgrade: numpy>=1.13.3 in /usr/local/lib/python3.6/dist-packages (from pandas) (1.17.5)\n",
            "Requirement already satisfied, skipping upgrade: pytz>=2017.2 in /usr/local/lib/python3.6/dist-packages (from pandas) (2018.9)\n",
            "Requirement already satisfied, skipping upgrade: python-dateutil>=2.6.1 in /usr/local/lib/python3.6/dist-packages (from pandas) (2.6.1)\n",
            "Requirement already satisfied, skipping upgrade: six>=1.5 in /usr/local/lib/python3.6/dist-packages (from python-dateutil>=2.6.1->pandas) (1.12.0)\n"
          ],
          "name": "stdout"
        }
      ]
    },
    {
      "cell_type": "code",
      "metadata": {
        "id": "RhkcO9NwmAUe",
        "colab_type": "code",
        "colab": {}
      },
      "source": [
        "# First, import the relevant modules\n",
        "from matplotlib import pyplot as plt\n",
        "%matplotlib inline\n",
        "import pandas as pd\n",
        "import glob as gb\n"
      ],
      "execution_count": 0,
      "outputs": []
    },
    {
      "cell_type": "code",
      "metadata": {
        "id": "Dh--6mFVo3ul",
        "colab_type": "code",
        "outputId": "2052635b-9b5f-45a2-8b74-e08f7360e955",
        "colab": {
          "base_uri": "https://localhost:8080/",
          "height": 85
        }
      },
      "source": [
        "#pointing the path to google drive folder\n",
        "%cd '/content/drive/My Drive/Springboard/data'\n",
        "!ls"
      ],
      "execution_count": 3,
      "outputs": [
        {
          "output_type": "stream",
          "text": [
            "/content/drive/My Drive/Springboard/data\n",
            "BOM500002.csv  BOM500009.csv  BOM500013.csv  BOM500023.csv\n",
            "BOM500003.csv  BOM500010.csv  BOM500014.csv  DJI.csv\n",
            "BOM500008.csv  BOM500012.csv  BOM500020.csv  nasdl.csv\n"
          ],
          "name": "stdout"
        }
      ]
    },
    {
      "cell_type": "code",
      "metadata": {
        "id": "fn8_JsfKty2L",
        "colab_type": "code",
        "colab": {}
      },
      "source": [
        "#to read only BSE stock csv files\n",
        "pattern='BOM*.csv'\n",
        "#read csv files \n",
        "csv_files=gb.glob(pattern)"
      ],
      "execution_count": 0,
      "outputs": []
    },
    {
      "cell_type": "code",
      "metadata": {
        "id": "Ihna-5tOuP7W",
        "colab_type": "code",
        "outputId": "b94b6c95-87b1-4fe2-e718-364f5518b210",
        "colab": {
          "base_uri": "https://localhost:8080/",
          "height": 54
        }
      },
      "source": [
        "#print list of data files\n",
        "print(csv_files)"
      ],
      "execution_count": 5,
      "outputs": [
        {
          "output_type": "stream",
          "text": [
            "['BOM500002.csv', 'BOM500003.csv', 'BOM500008.csv', 'BOM500009.csv', 'BOM500010.csv', 'BOM500012.csv', 'BOM500013.csv', 'BOM500014.csv', 'BOM500020.csv', 'BOM500023.csv']\n"
          ],
          "name": "stdout"
        }
      ]
    },
    {
      "cell_type": "code",
      "metadata": {
        "id": "WeJDT_psweQx",
        "colab_type": "code",
        "colab": {}
      },
      "source": [
        "# Copy multiple files to single DF\n",
        "# Create an empty list: frames\n",
        "frames = []\n"
      ],
      "execution_count": 0,
      "outputs": []
    },
    {
      "cell_type": "code",
      "metadata": {
        "id": "qyUouuXVCl-b",
        "colab_type": "code",
        "colab": {}
      },
      "source": [
        "#  Iterate over csv_files\n",
        "for csv in csv_files:\n",
        "    #  Read csv into a DataFrame: df\n",
        "    df = pd.read_csv(csv)    \n",
        "    # Append df to frames\n",
        "    frames.append(df)"
      ],
      "execution_count": 0,
      "outputs": []
    },
    {
      "cell_type": "code",
      "metadata": {
        "id": "5k8Eq9lnC0gD",
        "colab_type": "code",
        "colab": {}
      },
      "source": [
        "# Concatenate frames into a single DataFrame: uber\n",
        "share_price_df = pd.concat(frames)"
      ],
      "execution_count": 0,
      "outputs": []
    },
    {
      "cell_type": "code",
      "metadata": {
        "id": "SRwF1zp3C_mY",
        "colab_type": "code",
        "outputId": "e8e79120-e38f-48ac-ff2b-0f6c33a0cc6c",
        "colab": {
          "base_uri": "https://localhost:8080/",
          "height": 34
        }
      },
      "source": [
        "# Print the shape of share_price_df\n",
        "print(share_price_df.shape)\n"
      ],
      "execution_count": 9,
      "outputs": [
        {
          "output_type": "stream",
          "text": [
            "(7248, 15)\n"
          ],
          "name": "stdout"
        }
      ]
    },
    {
      "cell_type": "code",
      "metadata": {
        "id": "v6Wkk4d4DFeu",
        "colab_type": "code",
        "outputId": "773e3653-36ce-4d2c-9451-a34bc852e042",
        "colab": {
          "base_uri": "https://localhost:8080/",
          "height": 153
        }
      },
      "source": [
        "# Print the head of share_price_df\n",
        "print(share_price_df.head())\n"
      ],
      "execution_count": 10,
      "outputs": [
        {
          "output_type": "stream",
          "text": [
            "   Unnamed: 0        Date    Open  ...  Spread H-L  Spread C-O  stockname\n",
            "0           0  2019-12-31  1305.0  ...        30.0      -20.90  BOM500002\n",
            "1           1  2019-12-30  1277.0  ...        50.0       10.35  BOM500002\n",
            "2           2  2019-12-27  1280.0  ...        30.0       -4.25  BOM500002\n",
            "3           3  2019-12-26  1265.0  ...        43.0        3.50  BOM500002\n",
            "4           4  2019-12-24  1278.5  ...        38.5      -23.35  BOM500002\n",
            "\n",
            "[5 rows x 15 columns]\n"
          ],
          "name": "stdout"
        }
      ]
    },
    {
      "cell_type": "code",
      "metadata": {
        "id": "jrQYeoYMDN4D",
        "colab_type": "code",
        "outputId": "3d50b96b-b977-4c93-e85e-4d96596ca18b",
        "colab": {
          "base_uri": "https://localhost:8080/",
          "height": 102
        }
      },
      "source": [
        "print(share_price_df.columns)"
      ],
      "execution_count": 11,
      "outputs": [
        {
          "output_type": "stream",
          "text": [
            "Index(['Unnamed: 0', 'Date', 'Open', 'High', 'Low', 'Close', 'WAP',\n",
            "       'No. of Shares', 'No. of Trades', 'Total Turnover',\n",
            "       'Deliverable Quantity', '% Deli. Qty to Traded Qty', 'Spread H-L',\n",
            "       'Spread C-O', 'stockname'],\n",
            "      dtype='object')\n"
          ],
          "name": "stdout"
        }
      ]
    },
    {
      "cell_type": "code",
      "metadata": {
        "id": "z3_q4af3BMI6",
        "colab_type": "code",
        "colab": {}
      },
      "source": [
        "#Drop unwanted columns\n",
        "share_price_df=share_price_df.drop(labels=['Unnamed: 0'],axis=1)\n",
        "\n"
      ],
      "execution_count": 0,
      "outputs": []
    },
    {
      "cell_type": "code",
      "metadata": {
        "id": "0MDkhLj3fYy6",
        "colab_type": "code",
        "outputId": "f7d96a62-a716-42b9-a03b-a6d3675bfd56",
        "colab": {
          "base_uri": "https://localhost:8080/",
          "height": 85
        }
      },
      "source": [
        "share_price_df.columns"
      ],
      "execution_count": 13,
      "outputs": [
        {
          "output_type": "execute_result",
          "data": {
            "text/plain": [
              "Index(['Date', 'Open', 'High', 'Low', 'Close', 'WAP', 'No. of Shares',\n",
              "       'No. of Trades', 'Total Turnover', 'Deliverable Quantity',\n",
              "       '% Deli. Qty to Traded Qty', 'Spread H-L', 'Spread C-O', 'stockname'],\n",
              "      dtype='object')"
            ]
          },
          "metadata": {
            "tags": []
          },
          "execution_count": 13
        }
      ]
    },
    {
      "cell_type": "code",
      "metadata": {
        "id": "iNwaWHfEjD9t",
        "colab_type": "code",
        "colab": {}
      },
      "source": [
        "#Sort based on date in ascending order\n",
        "share_price_df=share_price_df.sort_values(['stockname','Date'],ascending=True)"
      ],
      "execution_count": 0,
      "outputs": []
    },
    {
      "cell_type": "code",
      "metadata": {
        "id": "ZBKydePmYA38",
        "colab_type": "code",
        "outputId": "c0845132-4622-43cb-8810-08392ee47cab",
        "colab": {
          "base_uri": "https://localhost:8080/",
          "height": 296
        }
      },
      "source": [
        "#Plot  stock\n",
        "share_price_df[share_price_df['stockname']=='BOM500002'].plot(x='Date',\n",
        "                    y=['Open','Close'],kind='line')\n"
      ],
      "execution_count": 15,
      "outputs": [
        {
          "output_type": "execute_result",
          "data": {
            "text/plain": [
              "<matplotlib.axes._subplots.AxesSubplot at 0x7f4f044b3278>"
            ]
          },
          "metadata": {
            "tags": []
          },
          "execution_count": 15
        },
        {
          "output_type": "display_data",
          "data": {
            "image/png": "[encoded data removed]",
            "text/plain": [
              "<Figure size 432x288 with 1 Axes>"
            ]
          },
          "metadata": {
            "tags": []
          }
        }
      ]
    },
    {
      "cell_type": "code",
      "metadata": {
        "id": "CECz27J7fjU0",
        "colab_type": "code",
        "outputId": "be4621cc-3bc2-4ead-bfce-fee1924916f3",
        "colab": {
          "base_uri": "https://localhost:8080/",
          "height": 369
        }
      },
      "source": [
        "#Pivot based on stockname for only Close price\n",
        "share_price_pivot_df=share_price_df.pivot(index='Date', columns='stockname').reset_index()\n",
        "share_price_pivot_df.head()"
      ],
      "execution_count": 16,
      "outputs": [
        {
          "output_type": "execute_result",
          "data": {
            "text/html": [
              "<div>\n",
              "<style scoped>\n",
              "    .dataframe tbody tr th:only-of-type {\n",
              "        vertical-align: middle;\n",
              "    }\n",
              "\n",
              "    .dataframe tbody tr th {\n",
              "        vertical-align: top;\n",
              "    }\n",
              "\n",
              "    .dataframe thead tr th {\n",
              "        text-align: left;\n",
              "    }\n",
              "</style>\n",
              "<table border=\"1\" class=\"dataframe\">\n",
              "  <thead>\n",
              "    <tr>\n",
              "      <th></th>\n",
              "      <th>Date</th>\n",
              "      <th colspan=\"10\" halign=\"left\">Open</th>\n",
              "      <th colspan=\"10\" halign=\"left\">High</th>\n",
              "      <th colspan=\"10\" halign=\"left\">Low</th>\n",
              "      <th colspan=\"9\" halign=\"left\">Close</th>\n",
              "      <th>...</th>\n",
              "      <th colspan=\"10\" halign=\"left\">Deliverable Quantity</th>\n",
              "      <th colspan=\"10\" halign=\"left\">% Deli. Qty to Traded Qty</th>\n",
              "      <th colspan=\"10\" halign=\"left\">Spread H-L</th>\n",
              "      <th colspan=\"10\" halign=\"left\">Spread C-O</th>\n",
              "    </tr>\n",
              "    <tr>\n",
              "      <th>stockname</th>\n",
              "      <th></th>\n",
              "      <th>BOM500002</th>\n",
              "      <th>BOM500003</th>\n",
              "      <th>BOM500008</th>\n",
              "      <th>BOM500009</th>\n",
              "      <th>BOM500010</th>\n",
              "      <th>BOM500012</th>\n",
              "      <th>BOM500013</th>\n",
              "      <th>BOM500014</th>\n",
              "      <th>BOM500020</th>\n",
              "      <th>BOM500023</th>\n",
              "      <th>BOM500002</th>\n",
              "      <th>BOM500003</th>\n",
              "      <th>BOM500008</th>\n",
              "      <th>BOM500009</th>\n",
              "      <th>BOM500010</th>\n",
              "      <th>BOM500012</th>\n",
              "      <th>BOM500013</th>\n",
              "      <th>BOM500014</th>\n",
              "      <th>BOM500020</th>\n",
              "      <th>BOM500023</th>\n",
              "      <th>BOM500002</th>\n",
              "      <th>BOM500003</th>\n",
              "      <th>BOM500008</th>\n",
              "      <th>BOM500009</th>\n",
              "      <th>BOM500010</th>\n",
              "      <th>BOM500012</th>\n",
              "      <th>BOM500013</th>\n",
              "      <th>BOM500014</th>\n",
              "      <th>BOM500020</th>\n",
              "      <th>BOM500023</th>\n",
              "      <th>BOM500002</th>\n",
              "      <th>BOM500003</th>\n",
              "      <th>BOM500008</th>\n",
              "      <th>BOM500009</th>\n",
              "      <th>BOM500010</th>\n",
              "      <th>BOM500012</th>\n",
              "      <th>BOM500013</th>\n",
              "      <th>BOM500014</th>\n",
              "      <th>BOM500020</th>\n",
              "      <th>...</th>\n",
              "      <th>BOM500002</th>\n",
              "      <th>BOM500003</th>\n",
              "      <th>BOM500008</th>\n",
              "      <th>BOM500009</th>\n",
              "      <th>BOM500010</th>\n",
              "      <th>BOM500012</th>\n",
              "      <th>BOM500013</th>\n",
              "      <th>BOM500014</th>\n",
              "      <th>BOM500020</th>\n",
              "      <th>BOM500023</th>\n",
              "      <th>BOM500002</th>\n",
              "      <th>BOM500003</th>\n",
              "      <th>BOM500008</th>\n",
              "      <th>BOM500009</th>\n",
              "      <th>BOM500010</th>\n",
              "      <th>BOM500012</th>\n",
              "      <th>BOM500013</th>\n",
              "      <th>BOM500014</th>\n",
              "      <th>BOM500020</th>\n",
              "      <th>BOM500023</th>\n",
              "      <th>BOM500002</th>\n",
              "      <th>BOM500003</th>\n",
              "      <th>BOM500008</th>\n",
              "      <th>BOM500009</th>\n",
              "      <th>BOM500010</th>\n",
              "      <th>BOM500012</th>\n",
              "      <th>BOM500013</th>\n",
              "      <th>BOM500014</th>\n",
              "      <th>BOM500020</th>\n",
              "      <th>BOM500023</th>\n",
              "      <th>BOM500002</th>\n",
              "      <th>BOM500003</th>\n",
              "      <th>BOM500008</th>\n",
              "      <th>BOM500009</th>\n",
              "      <th>BOM500010</th>\n",
              "      <th>BOM500012</th>\n",
              "      <th>BOM500013</th>\n",
              "      <th>BOM500014</th>\n",
              "      <th>BOM500020</th>\n",
              "      <th>BOM500023</th>\n",
              "    </tr>\n",
              "  </thead>\n",
              "  <tbody>\n",
              "    <tr>\n",
              "      <th>0</th>\n",
              "      <td>2017-01-02</td>\n",
              "      <td>1045.0</td>\n",
              "      <td>129.00</td>\n",
              "      <td>870.05</td>\n",
              "      <td>7.00</td>\n",
              "      <td>1275.00</td>\n",
              "      <td>21.9</td>\n",
              "      <td>15.50</td>\n",
              "      <td>2.50</td>\n",
              "      <td>49.05</td>\n",
              "      <td>NaN</td>\n",
              "      <td>1052.0</td>\n",
              "      <td>132.45</td>\n",
              "      <td>898.95</td>\n",
              "      <td>7.89</td>\n",
              "      <td>1275.0</td>\n",
              "      <td>22.00</td>\n",
              "      <td>16.08</td>\n",
              "      <td>2.50</td>\n",
              "      <td>49.90</td>\n",
              "      <td>NaN</td>\n",
              "      <td>1035.00</td>\n",
              "      <td>129.00</td>\n",
              "      <td>867.6</td>\n",
              "      <td>7.00</td>\n",
              "      <td>1214.15</td>\n",
              "      <td>21.50</td>\n",
              "      <td>14.86</td>\n",
              "      <td>2.30</td>\n",
              "      <td>48.35</td>\n",
              "      <td>NaN</td>\n",
              "      <td>1039.95</td>\n",
              "      <td>131.05</td>\n",
              "      <td>896.20</td>\n",
              "      <td>7.09</td>\n",
              "      <td>1219.25</td>\n",
              "      <td>21.60</td>\n",
              "      <td>15.30</td>\n",
              "      <td>2.37</td>\n",
              "      <td>48.80</td>\n",
              "      <td>...</td>\n",
              "      <td>1460.0</td>\n",
              "      <td>9551.0</td>\n",
              "      <td>1971.0</td>\n",
              "      <td>30721.0</td>\n",
              "      <td>42019.0</td>\n",
              "      <td>11151.0</td>\n",
              "      <td>65954.0</td>\n",
              "      <td>5628.0</td>\n",
              "      <td>84182.0</td>\n",
              "      <td>NaN</td>\n",
              "      <td>44.15</td>\n",
              "      <td>59.65</td>\n",
              "      <td>12.15</td>\n",
              "      <td>87.01</td>\n",
              "      <td>21.24</td>\n",
              "      <td>77.39</td>\n",
              "      <td>38.58</td>\n",
              "      <td>82.68</td>\n",
              "      <td>27.28</td>\n",
              "      <td>NaN</td>\n",
              "      <td>17.00</td>\n",
              "      <td>3.45</td>\n",
              "      <td>31.35</td>\n",
              "      <td>0.89</td>\n",
              "      <td>60.85</td>\n",
              "      <td>0.50</td>\n",
              "      <td>1.22</td>\n",
              "      <td>0.20</td>\n",
              "      <td>1.55</td>\n",
              "      <td>NaN</td>\n",
              "      <td>-5.05</td>\n",
              "      <td>2.05</td>\n",
              "      <td>26.15</td>\n",
              "      <td>0.09</td>\n",
              "      <td>-55.75</td>\n",
              "      <td>-0.30</td>\n",
              "      <td>-0.20</td>\n",
              "      <td>-0.13</td>\n",
              "      <td>-0.25</td>\n",
              "      <td>NaN</td>\n",
              "    </tr>\n",
              "    <tr>\n",
              "      <th>1</th>\n",
              "      <td>2017-01-03</td>\n",
              "      <td>1069.9</td>\n",
              "      <td>132.30</td>\n",
              "      <td>900.00</td>\n",
              "      <td>7.04</td>\n",
              "      <td>1220.00</td>\n",
              "      <td>21.9</td>\n",
              "      <td>15.50</td>\n",
              "      <td>2.47</td>\n",
              "      <td>49.00</td>\n",
              "      <td>106.95</td>\n",
              "      <td>1069.9</td>\n",
              "      <td>135.00</td>\n",
              "      <td>900.00</td>\n",
              "      <td>7.30</td>\n",
              "      <td>1222.0</td>\n",
              "      <td>21.90</td>\n",
              "      <td>15.70</td>\n",
              "      <td>2.48</td>\n",
              "      <td>49.80</td>\n",
              "      <td>106.95</td>\n",
              "      <td>1037.90</td>\n",
              "      <td>132.00</td>\n",
              "      <td>882.9</td>\n",
              "      <td>7.04</td>\n",
              "      <td>1201.00</td>\n",
              "      <td>21.10</td>\n",
              "      <td>15.10</td>\n",
              "      <td>2.32</td>\n",
              "      <td>48.55</td>\n",
              "      <td>106.95</td>\n",
              "      <td>1045.05</td>\n",
              "      <td>132.50</td>\n",
              "      <td>890.20</td>\n",
              "      <td>7.25</td>\n",
              "      <td>1215.25</td>\n",
              "      <td>21.70</td>\n",
              "      <td>15.32</td>\n",
              "      <td>2.43</td>\n",
              "      <td>48.80</td>\n",
              "      <td>...</td>\n",
              "      <td>501.0</td>\n",
              "      <td>27261.0</td>\n",
              "      <td>1993.0</td>\n",
              "      <td>11493.0</td>\n",
              "      <td>77968.0</td>\n",
              "      <td>21459.0</td>\n",
              "      <td>57496.0</td>\n",
              "      <td>1255.0</td>\n",
              "      <td>89332.0</td>\n",
              "      <td>7.0</td>\n",
              "      <td>52.74</td>\n",
              "      <td>37.15</td>\n",
              "      <td>24.99</td>\n",
              "      <td>89.13</td>\n",
              "      <td>54.61</td>\n",
              "      <td>89.96</td>\n",
              "      <td>64.98</td>\n",
              "      <td>80.71</td>\n",
              "      <td>44.10</td>\n",
              "      <td>100.0</td>\n",
              "      <td>32.00</td>\n",
              "      <td>3.00</td>\n",
              "      <td>17.10</td>\n",
              "      <td>0.26</td>\n",
              "      <td>21.00</td>\n",
              "      <td>0.80</td>\n",
              "      <td>0.60</td>\n",
              "      <td>0.16</td>\n",
              "      <td>1.25</td>\n",
              "      <td>0.00</td>\n",
              "      <td>-24.85</td>\n",
              "      <td>0.20</td>\n",
              "      <td>-9.80</td>\n",
              "      <td>0.21</td>\n",
              "      <td>-4.75</td>\n",
              "      <td>-0.20</td>\n",
              "      <td>-0.18</td>\n",
              "      <td>-0.04</td>\n",
              "      <td>-0.20</td>\n",
              "      <td>0.00</td>\n",
              "    </tr>\n",
              "    <tr>\n",
              "      <th>2</th>\n",
              "      <td>2017-01-04</td>\n",
              "      <td>1050.0</td>\n",
              "      <td>134.15</td>\n",
              "      <td>892.00</td>\n",
              "      <td>7.13</td>\n",
              "      <td>1215.25</td>\n",
              "      <td>22.5</td>\n",
              "      <td>15.32</td>\n",
              "      <td>2.48</td>\n",
              "      <td>50.25</td>\n",
              "      <td>NaN</td>\n",
              "      <td>1050.0</td>\n",
              "      <td>134.60</td>\n",
              "      <td>909.25</td>\n",
              "      <td>7.40</td>\n",
              "      <td>1225.0</td>\n",
              "      <td>22.75</td>\n",
              "      <td>15.44</td>\n",
              "      <td>2.50</td>\n",
              "      <td>51.90</td>\n",
              "      <td>NaN</td>\n",
              "      <td>1033.50</td>\n",
              "      <td>131.25</td>\n",
              "      <td>890.0</td>\n",
              "      <td>7.11</td>\n",
              "      <td>1197.55</td>\n",
              "      <td>21.25</td>\n",
              "      <td>15.12</td>\n",
              "      <td>2.35</td>\n",
              "      <td>50.25</td>\n",
              "      <td>NaN</td>\n",
              "      <td>1037.35</td>\n",
              "      <td>131.75</td>\n",
              "      <td>898.50</td>\n",
              "      <td>7.26</td>\n",
              "      <td>1212.50</td>\n",
              "      <td>22.75</td>\n",
              "      <td>15.28</td>\n",
              "      <td>2.47</td>\n",
              "      <td>50.90</td>\n",
              "      <td>...</td>\n",
              "      <td>851.0</td>\n",
              "      <td>14109.0</td>\n",
              "      <td>3564.0</td>\n",
              "      <td>18300.0</td>\n",
              "      <td>539272.0</td>\n",
              "      <td>43833.0</td>\n",
              "      <td>23674.0</td>\n",
              "      <td>2219.0</td>\n",
              "      <td>198646.0</td>\n",
              "      <td>NaN</td>\n",
              "      <td>56.06</td>\n",
              "      <td>61.49</td>\n",
              "      <td>24.11</td>\n",
              "      <td>83.89</td>\n",
              "      <td>92.28</td>\n",
              "      <td>74.31</td>\n",
              "      <td>84.28</td>\n",
              "      <td>96.69</td>\n",
              "      <td>31.95</td>\n",
              "      <td>NaN</td>\n",
              "      <td>16.50</td>\n",
              "      <td>3.35</td>\n",
              "      <td>19.25</td>\n",
              "      <td>0.29</td>\n",
              "      <td>27.45</td>\n",
              "      <td>1.50</td>\n",
              "      <td>0.32</td>\n",
              "      <td>0.15</td>\n",
              "      <td>1.65</td>\n",
              "      <td>NaN</td>\n",
              "      <td>-12.65</td>\n",
              "      <td>-2.40</td>\n",
              "      <td>6.50</td>\n",
              "      <td>0.13</td>\n",
              "      <td>-2.75</td>\n",
              "      <td>0.25</td>\n",
              "      <td>-0.04</td>\n",
              "      <td>-0.01</td>\n",
              "      <td>0.65</td>\n",
              "      <td>NaN</td>\n",
              "    </tr>\n",
              "    <tr>\n",
              "      <th>3</th>\n",
              "      <td>2017-01-05</td>\n",
              "      <td>1051.9</td>\n",
              "      <td>132.00</td>\n",
              "      <td>905.00</td>\n",
              "      <td>7.02</td>\n",
              "      <td>1225.00</td>\n",
              "      <td>23.7</td>\n",
              "      <td>15.43</td>\n",
              "      <td>2.34</td>\n",
              "      <td>51.25</td>\n",
              "      <td>101.15</td>\n",
              "      <td>1051.9</td>\n",
              "      <td>133.25</td>\n",
              "      <td>935.25</td>\n",
              "      <td>7.50</td>\n",
              "      <td>1225.0</td>\n",
              "      <td>23.85</td>\n",
              "      <td>15.52</td>\n",
              "      <td>2.49</td>\n",
              "      <td>54.40</td>\n",
              "      <td>101.15</td>\n",
              "      <td>1029.55</td>\n",
              "      <td>130.00</td>\n",
              "      <td>900.0</td>\n",
              "      <td>7.02</td>\n",
              "      <td>1205.30</td>\n",
              "      <td>22.90</td>\n",
              "      <td>15.26</td>\n",
              "      <td>2.33</td>\n",
              "      <td>51.20</td>\n",
              "      <td>101.10</td>\n",
              "      <td>1031.45</td>\n",
              "      <td>131.65</td>\n",
              "      <td>916.35</td>\n",
              "      <td>7.34</td>\n",
              "      <td>1216.55</td>\n",
              "      <td>23.85</td>\n",
              "      <td>15.48</td>\n",
              "      <td>2.41</td>\n",
              "      <td>53.85</td>\n",
              "      <td>...</td>\n",
              "      <td>3974.0</td>\n",
              "      <td>26998.0</td>\n",
              "      <td>14755.0</td>\n",
              "      <td>6899.0</td>\n",
              "      <td>20362.0</td>\n",
              "      <td>39329.0</td>\n",
              "      <td>21333.0</td>\n",
              "      <td>8633.0</td>\n",
              "      <td>232928.0</td>\n",
              "      <td>25.0</td>\n",
              "      <td>49.72</td>\n",
              "      <td>59.06</td>\n",
              "      <td>27.79</td>\n",
              "      <td>72.79</td>\n",
              "      <td>23.37</td>\n",
              "      <td>73.78</td>\n",
              "      <td>76.37</td>\n",
              "      <td>69.64</td>\n",
              "      <td>32.58</td>\n",
              "      <td>100.0</td>\n",
              "      <td>22.35</td>\n",
              "      <td>3.25</td>\n",
              "      <td>35.25</td>\n",
              "      <td>0.48</td>\n",
              "      <td>19.70</td>\n",
              "      <td>0.95</td>\n",
              "      <td>0.26</td>\n",
              "      <td>0.16</td>\n",
              "      <td>3.20</td>\n",
              "      <td>0.05</td>\n",
              "      <td>-20.45</td>\n",
              "      <td>-0.35</td>\n",
              "      <td>11.35</td>\n",
              "      <td>0.32</td>\n",
              "      <td>-8.45</td>\n",
              "      <td>0.15</td>\n",
              "      <td>0.05</td>\n",
              "      <td>0.07</td>\n",
              "      <td>2.60</td>\n",
              "      <td>-0.05</td>\n",
              "    </tr>\n",
              "    <tr>\n",
              "      <th>4</th>\n",
              "      <td>2017-01-06</td>\n",
              "      <td>1037.0</td>\n",
              "      <td>132.90</td>\n",
              "      <td>916.35</td>\n",
              "      <td>7.35</td>\n",
              "      <td>1216.55</td>\n",
              "      <td>24.9</td>\n",
              "      <td>15.26</td>\n",
              "      <td>2.36</td>\n",
              "      <td>54.20</td>\n",
              "      <td>NaN</td>\n",
              "      <td>1048.0</td>\n",
              "      <td>133.00</td>\n",
              "      <td>932.15</td>\n",
              "      <td>7.55</td>\n",
              "      <td>1232.4</td>\n",
              "      <td>25.00</td>\n",
              "      <td>15.45</td>\n",
              "      <td>2.45</td>\n",
              "      <td>54.35</td>\n",
              "      <td>NaN</td>\n",
              "      <td>1035.55</td>\n",
              "      <td>129.55</td>\n",
              "      <td>915.0</td>\n",
              "      <td>7.21</td>\n",
              "      <td>1216.55</td>\n",
              "      <td>23.00</td>\n",
              "      <td>15.01</td>\n",
              "      <td>2.35</td>\n",
              "      <td>52.75</td>\n",
              "      <td>NaN</td>\n",
              "      <td>1043.90</td>\n",
              "      <td>130.10</td>\n",
              "      <td>928.05</td>\n",
              "      <td>7.40</td>\n",
              "      <td>1222.15</td>\n",
              "      <td>24.95</td>\n",
              "      <td>15.11</td>\n",
              "      <td>2.45</td>\n",
              "      <td>53.30</td>\n",
              "      <td>...</td>\n",
              "      <td>1256.0</td>\n",
              "      <td>13193.0</td>\n",
              "      <td>2110.0</td>\n",
              "      <td>11660.0</td>\n",
              "      <td>150919.0</td>\n",
              "      <td>118287.0</td>\n",
              "      <td>31945.0</td>\n",
              "      <td>4100.0</td>\n",
              "      <td>106583.0</td>\n",
              "      <td>NaN</td>\n",
              "      <td>58.15</td>\n",
              "      <td>49.28</td>\n",
              "      <td>12.28</td>\n",
              "      <td>85.11</td>\n",
              "      <td>82.03</td>\n",
              "      <td>70.79</td>\n",
              "      <td>73.11</td>\n",
              "      <td>87.23</td>\n",
              "      <td>38.97</td>\n",
              "      <td>NaN</td>\n",
              "      <td>12.45</td>\n",
              "      <td>3.45</td>\n",
              "      <td>17.15</td>\n",
              "      <td>0.34</td>\n",
              "      <td>15.85</td>\n",
              "      <td>2.00</td>\n",
              "      <td>0.44</td>\n",
              "      <td>0.10</td>\n",
              "      <td>1.60</td>\n",
              "      <td>NaN</td>\n",
              "      <td>6.90</td>\n",
              "      <td>-2.80</td>\n",
              "      <td>11.70</td>\n",
              "      <td>0.05</td>\n",
              "      <td>5.60</td>\n",
              "      <td>0.05</td>\n",
              "      <td>-0.15</td>\n",
              "      <td>0.09</td>\n",
              "      <td>-0.90</td>\n",
              "      <td>NaN</td>\n",
              "    </tr>\n",
              "  </tbody>\n",
              "</table>\n",
              "<p>5 rows × 121 columns</p>\n",
              "</div>"
            ],
            "text/plain": [
              "                 Date      Open            ... Spread C-O                    \n",
              "stockname             BOM500002 BOM500003  ...  BOM500014 BOM500020 BOM500023\n",
              "0          2017-01-02    1045.0    129.00  ...      -0.13     -0.25       NaN\n",
              "1          2017-01-03    1069.9    132.30  ...      -0.04     -0.20      0.00\n",
              "2          2017-01-04    1050.0    134.15  ...      -0.01      0.65       NaN\n",
              "3          2017-01-05    1051.9    132.00  ...       0.07      2.60     -0.05\n",
              "4          2017-01-06    1037.0    132.90  ...       0.09     -0.90       NaN\n",
              "\n",
              "[5 rows x 121 columns]"
            ]
          },
          "metadata": {
            "tags": []
          },
          "execution_count": 16
        }
      ]
    },
    {
      "cell_type": "code",
      "metadata": {
        "id": "TlftUAkmlBZW",
        "colab_type": "code",
        "outputId": "49e225ec-f0c1-4ab3-fb11-52a8f6c31928",
        "colab": {
          "base_uri": "https://localhost:8080/",
          "height": 391
        }
      },
      "source": [
        "share_price_pivot_df.columns"
      ],
      "execution_count": 17,
      "outputs": [
        {
          "output_type": "execute_result",
          "data": {
            "text/plain": [
              "MultiIndex([(      'Date',          ''),\n",
              "            (      'Open', 'BOM500002'),\n",
              "            (      'Open', 'BOM500003'),\n",
              "            (      'Open', 'BOM500008'),\n",
              "            (      'Open', 'BOM500009'),\n",
              "            (      'Open', 'BOM500010'),\n",
              "            (      'Open', 'BOM500012'),\n",
              "            (      'Open', 'BOM500013'),\n",
              "            (      'Open', 'BOM500014'),\n",
              "            (      'Open', 'BOM500020'),\n",
              "            ...\n",
              "            ('Spread C-O', 'BOM500002'),\n",
              "            ('Spread C-O', 'BOM500003'),\n",
              "            ('Spread C-O', 'BOM500008'),\n",
              "            ('Spread C-O', 'BOM500009'),\n",
              "            ('Spread C-O', 'BOM500010'),\n",
              "            ('Spread C-O', 'BOM500012'),\n",
              "            ('Spread C-O', 'BOM500013'),\n",
              "            ('Spread C-O', 'BOM500014'),\n",
              "            ('Spread C-O', 'BOM500020'),\n",
              "            ('Spread C-O', 'BOM500023')],\n",
              "           names=[None, 'stockname'], length=121)"
            ]
          },
          "metadata": {
            "tags": []
          },
          "execution_count": 17
        }
      ]
    },
    {
      "cell_type": "code",
      "metadata": {
        "id": "4sh5bbsIdj6D",
        "colab_type": "code",
        "outputId": "44b87b5e-4991-4e5f-ee44-f2c53d17579e",
        "colab": {
          "base_uri": "https://localhost:8080/",
          "height": 54
        }
      },
      "source": [
        "#To convert Multi index to single index, convert each tuple to list and concatenate with _\n",
        "columnnames=[]\n",
        "for column in share_price_pivot_df.columns:\n",
        "  #print(list(column))\n",
        "  columnnames.append('_'.join(list(column)).rstrip('_'))\n",
        "print(columnnames)"
      ],
      "execution_count": 18,
      "outputs": [
        {
          "output_type": "stream",
          "text": [
            "['Date', 'Open_BOM500002', 'Open_BOM500003', 'Open_BOM500008', 'Open_BOM500009', 'Open_BOM500010', 'Open_BOM500012', 'Open_BOM500013', 'Open_BOM500014', 'Open_BOM500020', 'Open_BOM500023', 'High_BOM500002', 'High_BOM500003', 'High_BOM500008', 'High_BOM500009', 'High_BOM500010', 'High_BOM500012', 'High_BOM500013', 'High_BOM500014', 'High_BOM500020', 'High_BOM500023', 'Low_BOM500002', 'Low_BOM500003', 'Low_BOM500008', 'Low_BOM500009', 'Low_BOM500010', 'Low_BOM500012', 'Low_BOM500013', 'Low_BOM500014', 'Low_BOM500020', 'Low_BOM500023', 'Close_BOM500002', 'Close_BOM500003', 'Close_BOM500008', 'Close_BOM500009', 'Close_BOM500010', 'Close_BOM500012', 'Close_BOM500013', 'Close_BOM500014', 'Close_BOM500020', 'Close_BOM500023', 'WAP_BOM500002', 'WAP_BOM500003', 'WAP_BOM500008', 'WAP_BOM500009', 'WAP_BOM500010', 'WAP_BOM500012', 'WAP_BOM500013', 'WAP_BOM500014', 'WAP_BOM500020', 'WAP_BOM500023', 'No. of Shares_BOM500002', 'No. of Shares_BOM500003', 'No. of Shares_BOM500008', 'No. of Shares_BOM500009', 'No. of Shares_BOM500010', 'No. of Shares_BOM500012', 'No. of Shares_BOM500013', 'No. of Shares_BOM500014', 'No. of Shares_BOM500020', 'No. of Shares_BOM500023', 'No. of Trades_BOM500002', 'No. of Trades_BOM500003', 'No. of Trades_BOM500008', 'No. of Trades_BOM500009', 'No. of Trades_BOM500010', 'No. of Trades_BOM500012', 'No. of Trades_BOM500013', 'No. of Trades_BOM500014', 'No. of Trades_BOM500020', 'No. of Trades_BOM500023', 'Total Turnover_BOM500002', 'Total Turnover_BOM500003', 'Total Turnover_BOM500008', 'Total Turnover_BOM500009', 'Total Turnover_BOM500010', 'Total Turnover_BOM500012', 'Total Turnover_BOM500013', 'Total Turnover_BOM500014', 'Total Turnover_BOM500020', 'Total Turnover_BOM500023', 'Deliverable Quantity_BOM500002', 'Deliverable Quantity_BOM500003', 'Deliverable Quantity_BOM500008', 'Deliverable Quantity_BOM500009', 'Deliverable Quantity_BOM500010', 'Deliverable Quantity_BOM500012', 'Deliverable Quantity_BOM500013', 'Deliverable Quantity_BOM500014', 'Deliverable Quantity_BOM500020', 'Deliverable Quantity_BOM500023', '% Deli. Qty to Traded Qty_BOM500002', '% Deli. Qty to Traded Qty_BOM500003', '% Deli. Qty to Traded Qty_BOM500008', '% Deli. Qty to Traded Qty_BOM500009', '% Deli. Qty to Traded Qty_BOM500010', '% Deli. Qty to Traded Qty_BOM500012', '% Deli. Qty to Traded Qty_BOM500013', '% Deli. Qty to Traded Qty_BOM500014', '% Deli. Qty to Traded Qty_BOM500020', '% Deli. Qty to Traded Qty_BOM500023', 'Spread H-L_BOM500002', 'Spread H-L_BOM500003', 'Spread H-L_BOM500008', 'Spread H-L_BOM500009', 'Spread H-L_BOM500010', 'Spread H-L_BOM500012', 'Spread H-L_BOM500013', 'Spread H-L_BOM500014', 'Spread H-L_BOM500020', 'Spread H-L_BOM500023', 'Spread C-O_BOM500002', 'Spread C-O_BOM500003', 'Spread C-O_BOM500008', 'Spread C-O_BOM500009', 'Spread C-O_BOM500010', 'Spread C-O_BOM500012', 'Spread C-O_BOM500013', 'Spread C-O_BOM500014', 'Spread C-O_BOM500020', 'Spread C-O_BOM500023']\n"
          ],
          "name": "stdout"
        }
      ]
    },
    {
      "cell_type": "code",
      "metadata": {
        "id": "ifjyvpOOlD02",
        "colab_type": "code",
        "outputId": "e37656ed-e543-4c39-cfcf-76a8cc9ff389",
        "colab": {
          "base_uri": "https://localhost:8080/",
          "height": 372
        }
      },
      "source": [
        "#changing Index name to None \n",
        "share_price_pivot_df.columns.name = None\n",
        "#rename column names\n",
        "share_price_pivot_df.columns=columnnames\n",
        "share_price_pivot_df.head()"
      ],
      "execution_count": 19,
      "outputs": [
        {
          "output_type": "execute_result",
          "data": {
            "text/html": [
              "<div>\n",
              "<style scoped>\n",
              "    .dataframe tbody tr th:only-of-type {\n",
              "        vertical-align: middle;\n",
              "    }\n",
              "\n",
              "    .dataframe tbody tr th {\n",
              "        vertical-align: top;\n",
              "    }\n",
              "\n",
              "    .dataframe thead th {\n",
              "        text-align: right;\n",
              "    }\n",
              "</style>\n",
              "<table border=\"1\" class=\"dataframe\">\n",
              "  <thead>\n",
              "    <tr style=\"text-align: right;\">\n",
              "      <th></th>\n",
              "      <th>Date</th>\n",
              "      <th>Open_BOM500002</th>\n",
              "      <th>Open_BOM500003</th>\n",
              "      <th>Open_BOM500008</th>\n",
              "      <th>Open_BOM500009</th>\n",
              "      <th>Open_BOM500010</th>\n",
              "      <th>Open_BOM500012</th>\n",
              "      <th>Open_BOM500013</th>\n",
              "      <th>Open_BOM500014</th>\n",
              "      <th>Open_BOM500020</th>\n",
              "      <th>Open_BOM500023</th>\n",
              "      <th>High_BOM500002</th>\n",
              "      <th>High_BOM500003</th>\n",
              "      <th>High_BOM500008</th>\n",
              "      <th>High_BOM500009</th>\n",
              "      <th>High_BOM500010</th>\n",
              "      <th>High_BOM500012</th>\n",
              "      <th>High_BOM500013</th>\n",
              "      <th>High_BOM500014</th>\n",
              "      <th>High_BOM500020</th>\n",
              "      <th>High_BOM500023</th>\n",
              "      <th>Low_BOM500002</th>\n",
              "      <th>Low_BOM500003</th>\n",
              "      <th>Low_BOM500008</th>\n",
              "      <th>Low_BOM500009</th>\n",
              "      <th>Low_BOM500010</th>\n",
              "      <th>Low_BOM500012</th>\n",
              "      <th>Low_BOM500013</th>\n",
              "      <th>Low_BOM500014</th>\n",
              "      <th>Low_BOM500020</th>\n",
              "      <th>Low_BOM500023</th>\n",
              "      <th>Close_BOM500002</th>\n",
              "      <th>Close_BOM500003</th>\n",
              "      <th>Close_BOM500008</th>\n",
              "      <th>Close_BOM500009</th>\n",
              "      <th>Close_BOM500010</th>\n",
              "      <th>Close_BOM500012</th>\n",
              "      <th>Close_BOM500013</th>\n",
              "      <th>Close_BOM500014</th>\n",
              "      <th>Close_BOM500020</th>\n",
              "      <th>...</th>\n",
              "      <th>Deliverable Quantity_BOM500002</th>\n",
              "      <th>Deliverable Quantity_BOM500003</th>\n",
              "      <th>Deliverable Quantity_BOM500008</th>\n",
              "      <th>Deliverable Quantity_BOM500009</th>\n",
              "      <th>Deliverable Quantity_BOM500010</th>\n",
              "      <th>Deliverable Quantity_BOM500012</th>\n",
              "      <th>Deliverable Quantity_BOM500013</th>\n",
              "      <th>Deliverable Quantity_BOM500014</th>\n",
              "      <th>Deliverable Quantity_BOM500020</th>\n",
              "      <th>Deliverable Quantity_BOM500023</th>\n",
              "      <th>% Deli. Qty to Traded Qty_BOM500002</th>\n",
              "      <th>% Deli. Qty to Traded Qty_BOM500003</th>\n",
              "      <th>% Deli. Qty to Traded Qty_BOM500008</th>\n",
              "      <th>% Deli. Qty to Traded Qty_BOM500009</th>\n",
              "      <th>% Deli. Qty to Traded Qty_BOM500010</th>\n",
              "      <th>% Deli. Qty to Traded Qty_BOM500012</th>\n",
              "      <th>% Deli. Qty to Traded Qty_BOM500013</th>\n",
              "      <th>% Deli. Qty to Traded Qty_BOM500014</th>\n",
              "      <th>% Deli. Qty to Traded Qty_BOM500020</th>\n",
              "      <th>% Deli. Qty to Traded Qty_BOM500023</th>\n",
              "      <th>Spread H-L_BOM500002</th>\n",
              "      <th>Spread H-L_BOM500003</th>\n",
              "      <th>Spread H-L_BOM500008</th>\n",
              "      <th>Spread H-L_BOM500009</th>\n",
              "      <th>Spread H-L_BOM500010</th>\n",
              "      <th>Spread H-L_BOM500012</th>\n",
              "      <th>Spread H-L_BOM500013</th>\n",
              "      <th>Spread H-L_BOM500014</th>\n",
              "      <th>Spread H-L_BOM500020</th>\n",
              "      <th>Spread H-L_BOM500023</th>\n",
              "      <th>Spread C-O_BOM500002</th>\n",
              "      <th>Spread C-O_BOM500003</th>\n",
              "      <th>Spread C-O_BOM500008</th>\n",
              "      <th>Spread C-O_BOM500009</th>\n",
              "      <th>Spread C-O_BOM500010</th>\n",
              "      <th>Spread C-O_BOM500012</th>\n",
              "      <th>Spread C-O_BOM500013</th>\n",
              "      <th>Spread C-O_BOM500014</th>\n",
              "      <th>Spread C-O_BOM500020</th>\n",
              "      <th>Spread C-O_BOM500023</th>\n",
              "    </tr>\n",
              "  </thead>\n",
              "  <tbody>\n",
              "    <tr>\n",
              "      <th>0</th>\n",
              "      <td>2017-01-02</td>\n",
              "      <td>1045.0</td>\n",
              "      <td>129.00</td>\n",
              "      <td>870.05</td>\n",
              "      <td>7.00</td>\n",
              "      <td>1275.00</td>\n",
              "      <td>21.9</td>\n",
              "      <td>15.50</td>\n",
              "      <td>2.50</td>\n",
              "      <td>49.05</td>\n",
              "      <td>NaN</td>\n",
              "      <td>1052.0</td>\n",
              "      <td>132.45</td>\n",
              "      <td>898.95</td>\n",
              "      <td>7.89</td>\n",
              "      <td>1275.0</td>\n",
              "      <td>22.00</td>\n",
              "      <td>16.08</td>\n",
              "      <td>2.50</td>\n",
              "      <td>49.90</td>\n",
              "      <td>NaN</td>\n",
              "      <td>1035.00</td>\n",
              "      <td>129.00</td>\n",
              "      <td>867.6</td>\n",
              "      <td>7.00</td>\n",
              "      <td>1214.15</td>\n",
              "      <td>21.50</td>\n",
              "      <td>14.86</td>\n",
              "      <td>2.30</td>\n",
              "      <td>48.35</td>\n",
              "      <td>NaN</td>\n",
              "      <td>1039.95</td>\n",
              "      <td>131.05</td>\n",
              "      <td>896.20</td>\n",
              "      <td>7.09</td>\n",
              "      <td>1219.25</td>\n",
              "      <td>21.60</td>\n",
              "      <td>15.30</td>\n",
              "      <td>2.37</td>\n",
              "      <td>48.80</td>\n",
              "      <td>...</td>\n",
              "      <td>1460.0</td>\n",
              "      <td>9551.0</td>\n",
              "      <td>1971.0</td>\n",
              "      <td>30721.0</td>\n",
              "      <td>42019.0</td>\n",
              "      <td>11151.0</td>\n",
              "      <td>65954.0</td>\n",
              "      <td>5628.0</td>\n",
              "      <td>84182.0</td>\n",
              "      <td>NaN</td>\n",
              "      <td>44.15</td>\n",
              "      <td>59.65</td>\n",
              "      <td>12.15</td>\n",
              "      <td>87.01</td>\n",
              "      <td>21.24</td>\n",
              "      <td>77.39</td>\n",
              "      <td>38.58</td>\n",
              "      <td>82.68</td>\n",
              "      <td>27.28</td>\n",
              "      <td>NaN</td>\n",
              "      <td>17.00</td>\n",
              "      <td>3.45</td>\n",
              "      <td>31.35</td>\n",
              "      <td>0.89</td>\n",
              "      <td>60.85</td>\n",
              "      <td>0.50</td>\n",
              "      <td>1.22</td>\n",
              "      <td>0.20</td>\n",
              "      <td>1.55</td>\n",
              "      <td>NaN</td>\n",
              "      <td>-5.05</td>\n",
              "      <td>2.05</td>\n",
              "      <td>26.15</td>\n",
              "      <td>0.09</td>\n",
              "      <td>-55.75</td>\n",
              "      <td>-0.30</td>\n",
              "      <td>-0.20</td>\n",
              "      <td>-0.13</td>\n",
              "      <td>-0.25</td>\n",
              "      <td>NaN</td>\n",
              "    </tr>\n",
              "    <tr>\n",
              "      <th>1</th>\n",
              "      <td>2017-01-03</td>\n",
              "      <td>1069.9</td>\n",
              "      <td>132.30</td>\n",
              "      <td>900.00</td>\n",
              "      <td>7.04</td>\n",
              "      <td>1220.00</td>\n",
              "      <td>21.9</td>\n",
              "      <td>15.50</td>\n",
              "      <td>2.47</td>\n",
              "      <td>49.00</td>\n",
              "      <td>106.95</td>\n",
              "      <td>1069.9</td>\n",
              "      <td>135.00</td>\n",
              "      <td>900.00</td>\n",
              "      <td>7.30</td>\n",
              "      <td>1222.0</td>\n",
              "      <td>21.90</td>\n",
              "      <td>15.70</td>\n",
              "      <td>2.48</td>\n",
              "      <td>49.80</td>\n",
              "      <td>106.95</td>\n",
              "      <td>1037.90</td>\n",
              "      <td>132.00</td>\n",
              "      <td>882.9</td>\n",
              "      <td>7.04</td>\n",
              "      <td>1201.00</td>\n",
              "      <td>21.10</td>\n",
              "      <td>15.10</td>\n",
              "      <td>2.32</td>\n",
              "      <td>48.55</td>\n",
              "      <td>106.95</td>\n",
              "      <td>1045.05</td>\n",
              "      <td>132.50</td>\n",
              "      <td>890.20</td>\n",
              "      <td>7.25</td>\n",
              "      <td>1215.25</td>\n",
              "      <td>21.70</td>\n",
              "      <td>15.32</td>\n",
              "      <td>2.43</td>\n",
              "      <td>48.80</td>\n",
              "      <td>...</td>\n",
              "      <td>501.0</td>\n",
              "      <td>27261.0</td>\n",
              "      <td>1993.0</td>\n",
              "      <td>11493.0</td>\n",
              "      <td>77968.0</td>\n",
              "      <td>21459.0</td>\n",
              "      <td>57496.0</td>\n",
              "      <td>1255.0</td>\n",
              "      <td>89332.0</td>\n",
              "      <td>7.0</td>\n",
              "      <td>52.74</td>\n",
              "      <td>37.15</td>\n",
              "      <td>24.99</td>\n",
              "      <td>89.13</td>\n",
              "      <td>54.61</td>\n",
              "      <td>89.96</td>\n",
              "      <td>64.98</td>\n",
              "      <td>80.71</td>\n",
              "      <td>44.10</td>\n",
              "      <td>100.0</td>\n",
              "      <td>32.00</td>\n",
              "      <td>3.00</td>\n",
              "      <td>17.10</td>\n",
              "      <td>0.26</td>\n",
              "      <td>21.00</td>\n",
              "      <td>0.80</td>\n",
              "      <td>0.60</td>\n",
              "      <td>0.16</td>\n",
              "      <td>1.25</td>\n",
              "      <td>0.00</td>\n",
              "      <td>-24.85</td>\n",
              "      <td>0.20</td>\n",
              "      <td>-9.80</td>\n",
              "      <td>0.21</td>\n",
              "      <td>-4.75</td>\n",
              "      <td>-0.20</td>\n",
              "      <td>-0.18</td>\n",
              "      <td>-0.04</td>\n",
              "      <td>-0.20</td>\n",
              "      <td>0.00</td>\n",
              "    </tr>\n",
              "    <tr>\n",
              "      <th>2</th>\n",
              "      <td>2017-01-04</td>\n",
              "      <td>1050.0</td>\n",
              "      <td>134.15</td>\n",
              "      <td>892.00</td>\n",
              "      <td>7.13</td>\n",
              "      <td>1215.25</td>\n",
              "      <td>22.5</td>\n",
              "      <td>15.32</td>\n",
              "      <td>2.48</td>\n",
              "      <td>50.25</td>\n",
              "      <td>NaN</td>\n",
              "      <td>1050.0</td>\n",
              "      <td>134.60</td>\n",
              "      <td>909.25</td>\n",
              "      <td>7.40</td>\n",
              "      <td>1225.0</td>\n",
              "      <td>22.75</td>\n",
              "      <td>15.44</td>\n",
              "      <td>2.50</td>\n",
              "      <td>51.90</td>\n",
              "      <td>NaN</td>\n",
              "      <td>1033.50</td>\n",
              "      <td>131.25</td>\n",
              "      <td>890.0</td>\n",
              "      <td>7.11</td>\n",
              "      <td>1197.55</td>\n",
              "      <td>21.25</td>\n",
              "      <td>15.12</td>\n",
              "      <td>2.35</td>\n",
              "      <td>50.25</td>\n",
              "      <td>NaN</td>\n",
              "      <td>1037.35</td>\n",
              "      <td>131.75</td>\n",
              "      <td>898.50</td>\n",
              "      <td>7.26</td>\n",
              "      <td>1212.50</td>\n",
              "      <td>22.75</td>\n",
              "      <td>15.28</td>\n",
              "      <td>2.47</td>\n",
              "      <td>50.90</td>\n",
              "      <td>...</td>\n",
              "      <td>851.0</td>\n",
              "      <td>14109.0</td>\n",
              "      <td>3564.0</td>\n",
              "      <td>18300.0</td>\n",
              "      <td>539272.0</td>\n",
              "      <td>43833.0</td>\n",
              "      <td>23674.0</td>\n",
              "      <td>2219.0</td>\n",
              "      <td>198646.0</td>\n",
              "      <td>NaN</td>\n",
              "      <td>56.06</td>\n",
              "      <td>61.49</td>\n",
              "      <td>24.11</td>\n",
              "      <td>83.89</td>\n",
              "      <td>92.28</td>\n",
              "      <td>74.31</td>\n",
              "      <td>84.28</td>\n",
              "      <td>96.69</td>\n",
              "      <td>31.95</td>\n",
              "      <td>NaN</td>\n",
              "      <td>16.50</td>\n",
              "      <td>3.35</td>\n",
              "      <td>19.25</td>\n",
              "      <td>0.29</td>\n",
              "      <td>27.45</td>\n",
              "      <td>1.50</td>\n",
              "      <td>0.32</td>\n",
              "      <td>0.15</td>\n",
              "      <td>1.65</td>\n",
              "      <td>NaN</td>\n",
              "      <td>-12.65</td>\n",
              "      <td>-2.40</td>\n",
              "      <td>6.50</td>\n",
              "      <td>0.13</td>\n",
              "      <td>-2.75</td>\n",
              "      <td>0.25</td>\n",
              "      <td>-0.04</td>\n",
              "      <td>-0.01</td>\n",
              "      <td>0.65</td>\n",
              "      <td>NaN</td>\n",
              "    </tr>\n",
              "    <tr>\n",
              "      <th>3</th>\n",
              "      <td>2017-01-05</td>\n",
              "      <td>1051.9</td>\n",
              "      <td>132.00</td>\n",
              "      <td>905.00</td>\n",
              "      <td>7.02</td>\n",
              "      <td>1225.00</td>\n",
              "      <td>23.7</td>\n",
              "      <td>15.43</td>\n",
              "      <td>2.34</td>\n",
              "      <td>51.25</td>\n",
              "      <td>101.15</td>\n",
              "      <td>1051.9</td>\n",
              "      <td>133.25</td>\n",
              "      <td>935.25</td>\n",
              "      <td>7.50</td>\n",
              "      <td>1225.0</td>\n",
              "      <td>23.85</td>\n",
              "      <td>15.52</td>\n",
              "      <td>2.49</td>\n",
              "      <td>54.40</td>\n",
              "      <td>101.15</td>\n",
              "      <td>1029.55</td>\n",
              "      <td>130.00</td>\n",
              "      <td>900.0</td>\n",
              "      <td>7.02</td>\n",
              "      <td>1205.30</td>\n",
              "      <td>22.90</td>\n",
              "      <td>15.26</td>\n",
              "      <td>2.33</td>\n",
              "      <td>51.20</td>\n",
              "      <td>101.10</td>\n",
              "      <td>1031.45</td>\n",
              "      <td>131.65</td>\n",
              "      <td>916.35</td>\n",
              "      <td>7.34</td>\n",
              "      <td>1216.55</td>\n",
              "      <td>23.85</td>\n",
              "      <td>15.48</td>\n",
              "      <td>2.41</td>\n",
              "      <td>53.85</td>\n",
              "      <td>...</td>\n",
              "      <td>3974.0</td>\n",
              "      <td>26998.0</td>\n",
              "      <td>14755.0</td>\n",
              "      <td>6899.0</td>\n",
              "      <td>20362.0</td>\n",
              "      <td>39329.0</td>\n",
              "      <td>21333.0</td>\n",
              "      <td>8633.0</td>\n",
              "      <td>232928.0</td>\n",
              "      <td>25.0</td>\n",
              "      <td>49.72</td>\n",
              "      <td>59.06</td>\n",
              "      <td>27.79</td>\n",
              "      <td>72.79</td>\n",
              "      <td>23.37</td>\n",
              "      <td>73.78</td>\n",
              "      <td>76.37</td>\n",
              "      <td>69.64</td>\n",
              "      <td>32.58</td>\n",
              "      <td>100.0</td>\n",
              "      <td>22.35</td>\n",
              "      <td>3.25</td>\n",
              "      <td>35.25</td>\n",
              "      <td>0.48</td>\n",
              "      <td>19.70</td>\n",
              "      <td>0.95</td>\n",
              "      <td>0.26</td>\n",
              "      <td>0.16</td>\n",
              "      <td>3.20</td>\n",
              "      <td>0.05</td>\n",
              "      <td>-20.45</td>\n",
              "      <td>-0.35</td>\n",
              "      <td>11.35</td>\n",
              "      <td>0.32</td>\n",
              "      <td>-8.45</td>\n",
              "      <td>0.15</td>\n",
              "      <td>0.05</td>\n",
              "      <td>0.07</td>\n",
              "      <td>2.60</td>\n",
              "      <td>-0.05</td>\n",
              "    </tr>\n",
              "    <tr>\n",
              "      <th>4</th>\n",
              "      <td>2017-01-06</td>\n",
              "      <td>1037.0</td>\n",
              "      <td>132.90</td>\n",
              "      <td>916.35</td>\n",
              "      <td>7.35</td>\n",
              "      <td>1216.55</td>\n",
              "      <td>24.9</td>\n",
              "      <td>15.26</td>\n",
              "      <td>2.36</td>\n",
              "      <td>54.20</td>\n",
              "      <td>NaN</td>\n",
              "      <td>1048.0</td>\n",
              "      <td>133.00</td>\n",
              "      <td>932.15</td>\n",
              "      <td>7.55</td>\n",
              "      <td>1232.4</td>\n",
              "      <td>25.00</td>\n",
              "      <td>15.45</td>\n",
              "      <td>2.45</td>\n",
              "      <td>54.35</td>\n",
              "      <td>NaN</td>\n",
              "      <td>1035.55</td>\n",
              "      <td>129.55</td>\n",
              "      <td>915.0</td>\n",
              "      <td>7.21</td>\n",
              "      <td>1216.55</td>\n",
              "      <td>23.00</td>\n",
              "      <td>15.01</td>\n",
              "      <td>2.35</td>\n",
              "      <td>52.75</td>\n",
              "      <td>NaN</td>\n",
              "      <td>1043.90</td>\n",
              "      <td>130.10</td>\n",
              "      <td>928.05</td>\n",
              "      <td>7.40</td>\n",
              "      <td>1222.15</td>\n",
              "      <td>24.95</td>\n",
              "      <td>15.11</td>\n",
              "      <td>2.45</td>\n",
              "      <td>53.30</td>\n",
              "      <td>...</td>\n",
              "      <td>1256.0</td>\n",
              "      <td>13193.0</td>\n",
              "      <td>2110.0</td>\n",
              "      <td>11660.0</td>\n",
              "      <td>150919.0</td>\n",
              "      <td>118287.0</td>\n",
              "      <td>31945.0</td>\n",
              "      <td>4100.0</td>\n",
              "      <td>106583.0</td>\n",
              "      <td>NaN</td>\n",
              "      <td>58.15</td>\n",
              "      <td>49.28</td>\n",
              "      <td>12.28</td>\n",
              "      <td>85.11</td>\n",
              "      <td>82.03</td>\n",
              "      <td>70.79</td>\n",
              "      <td>73.11</td>\n",
              "      <td>87.23</td>\n",
              "      <td>38.97</td>\n",
              "      <td>NaN</td>\n",
              "      <td>12.45</td>\n",
              "      <td>3.45</td>\n",
              "      <td>17.15</td>\n",
              "      <td>0.34</td>\n",
              "      <td>15.85</td>\n",
              "      <td>2.00</td>\n",
              "      <td>0.44</td>\n",
              "      <td>0.10</td>\n",
              "      <td>1.60</td>\n",
              "      <td>NaN</td>\n",
              "      <td>6.90</td>\n",
              "      <td>-2.80</td>\n",
              "      <td>11.70</td>\n",
              "      <td>0.05</td>\n",
              "      <td>5.60</td>\n",
              "      <td>0.05</td>\n",
              "      <td>-0.15</td>\n",
              "      <td>0.09</td>\n",
              "      <td>-0.90</td>\n",
              "      <td>NaN</td>\n",
              "    </tr>\n",
              "  </tbody>\n",
              "</table>\n",
              "<p>5 rows × 121 columns</p>\n",
              "</div>"
            ],
            "text/plain": [
              "         Date  Open_BOM500002  ...  Spread C-O_BOM500020  Spread C-O_BOM500023\n",
              "0  2017-01-02          1045.0  ...                 -0.25                   NaN\n",
              "1  2017-01-03          1069.9  ...                 -0.20                  0.00\n",
              "2  2017-01-04          1050.0  ...                  0.65                   NaN\n",
              "3  2017-01-05          1051.9  ...                  2.60                 -0.05\n",
              "4  2017-01-06          1037.0  ...                 -0.90                   NaN\n",
              "\n",
              "[5 rows x 121 columns]"
            ]
          },
          "metadata": {
            "tags": []
          },
          "execution_count": 19
        }
      ]
    },
    {
      "cell_type": "code",
      "metadata": {
        "id": "tFb-O9gr7pZB",
        "colab_type": "code",
        "colab": {
          "base_uri": "https://localhost:8080/",
          "height": 238
        },
        "outputId": "d5a074a2-bf3f-464c-f027-5972778334c4"
      },
      "source": [
        "#Validate the data in dataframe\n",
        "BOM500002_df=pd.read_csv('BOM500023.csv')\n",
        "BOM500002_df=BOM500002_df.drop(labels=['Unnamed: 0','stockname'],axis=1)\n",
        "\n",
        "stock_name='BOM500023'\n",
        "#print(BOM500002_df.columns)\n",
        "transformed_column_names=[]\n",
        "transformed_column_names=[i.replace('_'+stock_name,'') for i in share_price_pivot_df.columns if i=='Date' or stock_name in i]\n",
        "#print(transformed_column_names)\n",
        "target_columns=[]\n",
        "target_columns=[i for i in share_price_pivot_df.columns if i=='Date' or stock_name in i]\n",
        "target_df=share_price_pivot_df[target_columns]\n",
        "#print(target_df.columns)\n",
        "target_df.columns=transformed_column_names\n",
        "target_df.dropna(inplace=True)\n",
        "BOM500002_df.dropna(inplace=True)\n",
        "BOM500002_df=BOM500002_df.sort_values(['Date'],ascending=True,ignore_index=True)\n",
        "target_df=target_df.sort_values(['Date'],ascending=True,ignore_index=True)\n",
        "print(target_df.columns)\n",
        "print(BOM500002_df.columns)\n",
        "from pandas._testing import assert_frame_equal\n",
        "assert_frame_equal(target_df, BOM500002_df,check_names=False)\n",
        "#print(BOM500002_df)"
      ],
      "execution_count": 53,
      "outputs": [
        {
          "output_type": "stream",
          "text": [
            "Index(['Date', 'Open', 'High', 'Low', 'Close', 'WAP', 'No. of Shares',\n",
            "       'No. of Trades', 'Total Turnover', 'Deliverable Quantity',\n",
            "       '% Deli. Qty to Traded Qty', 'Spread H-L', 'Spread C-O'],\n",
            "      dtype='object')\n",
            "Index(['Date', 'Open', 'High', 'Low', 'Close', 'WAP', 'No. of Shares',\n",
            "       'No. of Trades', 'Total Turnover', 'Deliverable Quantity',\n",
            "       '% Deli. Qty to Traded Qty', 'Spread H-L', 'Spread C-O'],\n",
            "      dtype='object')\n"
          ],
          "name": "stdout"
        },
        {
          "output_type": "stream",
          "text": [
            "/usr/local/lib/python3.6/dist-packages/ipykernel_launcher.py:14: SettingWithCopyWarning: \n",
            "A value is trying to be set on a copy of a slice from a DataFrame\n",
            "\n",
            "See the caveats in the documentation: https://pandas.pydata.org/pandas-docs/stable/user_guide/indexing.html#returning-a-view-versus-a-copy\n",
            "  \n"
          ],
          "name": "stderr"
        }
      ]
    },
    {
      "cell_type": "markdown",
      "metadata": {
        "id": "_Wbjfu58uoW4",
        "colab_type": "text"
      },
      "source": [
        "# Observed that there are NaN value for Stock **BOM500023**\n",
        "# Check what is the best value to replace **NaN**\n",
        "\n"
      ]
    },
    {
      "cell_type": "code",
      "metadata": {
        "id": "Zck26bsxL73-",
        "colab_type": "code",
        "colab": {}
      },
      "source": [
        "share_price_pivot_df.describe()"
      ],
      "execution_count": 0,
      "outputs": []
    },
    {
      "cell_type": "code",
      "metadata": {
        "id": "4QVk9mukuedR",
        "colab_type": "code",
        "colab": {}
      },
      "source": [
        "share_price_pivot_df.info()"
      ],
      "execution_count": 0,
      "outputs": []
    },
    {
      "cell_type": "code",
      "metadata": {
        "id": "A04sxqWAwBxZ",
        "colab_type": "code",
        "colab": {}
      },
      "source": [
        "share_price_pivot_df[share_price_pivot_df.BOM500023.isna()]"
      ],
      "execution_count": 0,
      "outputs": []
    },
    {
      "cell_type": "code",
      "metadata": {
        "id": "z_shABQGH8DT",
        "colab_type": "code",
        "colab": {}
      },
      "source": [
        "#Forward fill NaN value with previous row value\n",
        "share_price_pivot_df.ffill(axis=0,inplace=True)"
      ],
      "execution_count": 0,
      "outputs": []
    },
    {
      "cell_type": "code",
      "metadata": {
        "id": "xajAKvtJwN4R",
        "colab_type": "code",
        "colab": {}
      },
      "source": [
        "share_price_pivot_df.info()"
      ],
      "execution_count": 0,
      "outputs": []
    },
    {
      "cell_type": "markdown",
      "metadata": {
        "id": "k3GwXdnXLfyB",
        "colab_type": "text"
      },
      "source": [
        "# Still there is one NaN value, which is first row\n",
        "# Use Backward fill to fill NaN value with Next day value"
      ]
    },
    {
      "cell_type": "code",
      "metadata": {
        "id": "Wwye8bjaKwz4",
        "colab_type": "code",
        "colab": {}
      },
      "source": [
        "share_price_pivot_df.bfill(axis=0,inplace=True)"
      ],
      "execution_count": 0,
      "outputs": []
    },
    {
      "cell_type": "code",
      "metadata": {
        "id": "ec4_wUDtLsyy",
        "colab_type": "code",
        "colab": {}
      },
      "source": [
        "share_price_pivot_df.info()"
      ],
      "execution_count": 0,
      "outputs": []
    },
    {
      "cell_type": "code",
      "metadata": {
        "id": "qba41jptLytz",
        "colab_type": "code",
        "colab": {}
      },
      "source": [
        "#checking Mean value of BOM500023 is changed or not after replacing NaN values\n",
        "share_price_pivot_df.describe()"
      ],
      "execution_count": 0,
      "outputs": []
    },
    {
      "cell_type": "code",
      "metadata": {
        "id": "daR2LunWMooX",
        "colab_type": "code",
        "colab": {}
      },
      "source": [
        "#Read NASDL csv File\n",
        "nasdl_df=pd.read_csv('nasdl.csv')"
      ],
      "execution_count": 0,
      "outputs": []
    },
    {
      "cell_type": "code",
      "metadata": {
        "id": "AX4BSpqjM7Fp",
        "colab_type": "code",
        "colab": {}
      },
      "source": [
        "#Checking for any Null values\n",
        "nasdl_df.info()"
      ],
      "execution_count": 0,
      "outputs": []
    },
    {
      "cell_type": "code",
      "metadata": {
        "id": "5P9BRvBvM9lp",
        "colab_type": "code",
        "colab": {}
      },
      "source": [
        "nasdl_df.head()"
      ],
      "execution_count": 0,
      "outputs": []
    },
    {
      "cell_type": "code",
      "metadata": {
        "id": "qpl3Qzs3Neht",
        "colab_type": "code",
        "colab": {}
      },
      "source": [
        "#Drop unwanted columns\n",
        "nasdl_df=nasdl_df.drop(labels=['Unnamed: 0'],axis=1)"
      ],
      "execution_count": 0,
      "outputs": []
    },
    {
      "cell_type": "code",
      "metadata": {
        "id": "tHzlmoNpNonx",
        "colab_type": "code",
        "colab": {}
      },
      "source": [
        "#changing Index name to None \n",
        "nasdl_df.columns.name = None\n",
        "nasdl_df.head()"
      ],
      "execution_count": 0,
      "outputs": []
    },
    {
      "cell_type": "code",
      "metadata": {
        "id": "uRdWE9TFOllg",
        "colab_type": "code",
        "colab": {}
      },
      "source": [
        "#Rename column names\n",
        "nasdl_df.columns=['Date','Gross_Purchases','Gross_Sales','Net_Investment_INR','Net_Investment_USD','Conversion_Rate']"
      ],
      "execution_count": 0,
      "outputs": []
    },
    {
      "cell_type": "code",
      "metadata": {
        "id": "X25oCOgVO4YX",
        "colab_type": "code",
        "colab": {}
      },
      "source": [
        "nasdl_df.info()"
      ],
      "execution_count": 0,
      "outputs": []
    },
    {
      "cell_type": "code",
      "metadata": {
        "id": "xrC2VEUHPCFN",
        "colab_type": "code",
        "colab": {}
      },
      "source": [
        "#merge stock price and nasdl dataframes\n",
        "result_df=pd.merge(share_price_pivot_df\n",
        "                   ,nasdl_df\n",
        "                   ,left_on='Date'\n",
        "                   ,right_on='Date'\n",
        "                   ,how= 'left')"
      ],
      "execution_count": 0,
      "outputs": []
    },
    {
      "cell_type": "code",
      "metadata": {
        "id": "Svs6i2BnPm5v",
        "colab_type": "code",
        "colab": {}
      },
      "source": [
        "result_df.info()"
      ],
      "execution_count": 0,
      "outputs": []
    },
    {
      "cell_type": "code",
      "metadata": {
        "id": "OZV6iD9aPqs1",
        "colab_type": "code",
        "colab": {}
      },
      "source": [
        "#there are 6 Null Rows for conversion_rate\n",
        "result_df[result_df.Conversion_Rate.isna()]"
      ],
      "execution_count": 0,
      "outputs": []
    },
    {
      "cell_type": "code",
      "metadata": {
        "id": "zLdhpKrqP5N7",
        "colab_type": "code",
        "colab": {}
      },
      "source": [
        "#Use forward fill to fill NaN values\n",
        "result_df.ffill(axis=0,inplace=True)\n",
        "result_df.info()"
      ],
      "execution_count": 0,
      "outputs": []
    },
    {
      "cell_type": "code",
      "metadata": {
        "id": "gw7gAhf-QdPC",
        "colab_type": "code",
        "colab": {}
      },
      "source": [
        "#read DowJoanes Index csv file\n",
        "dji_df=pd.read_csv('DJI.csv')\n",
        "dji_df.info()"
      ],
      "execution_count": 0,
      "outputs": []
    },
    {
      "cell_type": "code",
      "metadata": {
        "id": "kF_Tn8akRM17",
        "colab_type": "code",
        "colab": {}
      },
      "source": [
        "dji_df.head()"
      ],
      "execution_count": 0,
      "outputs": []
    },
    {
      "cell_type": "code",
      "metadata": {
        "id": "63iYq0jCRZea",
        "colab_type": "code",
        "colab": {}
      },
      "source": [
        "#merge result and dji dataframes\n",
        "final_df=pd.merge(result_df\n",
        "                   ,dji_df\n",
        "                   ,left_on='Date'\n",
        "                   ,right_on='Date'\n",
        "                   ,how= 'left')"
      ],
      "execution_count": 0,
      "outputs": []
    },
    {
      "cell_type": "code",
      "metadata": {
        "id": "JWXO-zasSLr4",
        "colab_type": "code",
        "colab": {}
      },
      "source": [
        "final_df.info()"
      ],
      "execution_count": 0,
      "outputs": []
    },
    {
      "cell_type": "code",
      "metadata": {
        "id": "mkMS_gXcSOCX",
        "colab_type": "code",
        "colab": {}
      },
      "source": [
        "#Check rows where Dowjoanes.close is NaN\n",
        "final_df[final_df.Close.isna()]"
      ],
      "execution_count": 0,
      "outputs": []
    },
    {
      "cell_type": "code",
      "metadata": {
        "id": "AE3cRWs7Sc6v",
        "colab_type": "code",
        "colab": {}
      },
      "source": [
        "#use ffill to replace NaN values\n",
        "final_df.ffill(axis=0,inplace=True)\n",
        "final_df.info()"
      ],
      "execution_count": 0,
      "outputs": []
    },
    {
      "cell_type": "code",
      "metadata": {
        "id": "S8qmqA9uS6rQ",
        "colab_type": "code",
        "colab": {}
      },
      "source": [
        "final_df.plot(x='Date',y=['BOM500002','Conversion_Rate'],kind='line')"
      ],
      "execution_count": 0,
      "outputs": []
    },
    {
      "cell_type": "code",
      "metadata": {
        "id": "sYpv18K3TV94",
        "colab_type": "code",
        "colab": {}
      },
      "source": [
        ""
      ],
      "execution_count": 0,
      "outputs": []
    }
  ]
}