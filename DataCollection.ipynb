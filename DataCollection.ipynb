{
  "nbformat": 4,
  "nbformat_minor": 0,
  "metadata": {
    "colab": {
      "name": "DataCollection.ipynb",
      "provenance": [],
      "collapsed_sections": [],
      "mount_file_id": "https://github.com/santoshgurujula/Springboard/blob/master/DataCollection.ipynb",
      "authorship_tag": "ABX9TyNQXNAvLOCYd5EYHgf0/TnF",
      "include_colab_link": true
    },
    "kernelspec": {
      "name": "python3",
      "display_name": "Python 3"
    }
  },
  "cells": [
    {
      "cell_type": "markdown",
      "metadata": {
        "id": "view-in-github",
        "colab_type": "text"
      },
      "source": [
        "<a href=\"https://colab.research.google.com/github/santoshgurujula/Springboard/blob/master/DataCollection.ipynb\" target=\"_parent\"><img src=\"https://colab.research.google.com/assets/colab-badge.svg\" alt=\"Open In Colab\"/></a>"
      ]
    },
    {
      "cell_type": "code",
      "metadata": {
        "id": "ZwN5Apo3hPWR",
        "colab_type": "code",
        "colab": {}
      },
      "source": [
        "# First, import the relevant modules\n",
        "import requests\n",
        "import json\n",
        "from matplotlib import pyplot as plt\n",
        "import pandas as pd\n",
        "%matplotlib inline"
      ],
      "execution_count": 0,
      "outputs": []
    },
    {
      "cell_type": "code",
      "metadata": {
        "id": "upgGF2nwi78e",
        "colab_type": "code",
        "colab": {
          "base_uri": "https://localhost:8080/",
          "height": 122
        },
        "outputId": "7408f60f-fd38-46b4-ae6a-8d5b304d2fd1"
      },
      "source": [
        "from google.colab import drive\n",
        "drive.mount('/content/drive')"
      ],
      "execution_count": 17,
      "outputs": [
        {
          "output_type": "stream",
          "text": [
            "Go to this URL in a browser: https://accounts.google.com/o/oauth2/auth?client_id=947318989803-6bn6qk8qdgf4n4g3pfee6491hc0brc4i.apps.googleusercontent.com&redirect_uri=urn%3aietf%3awg%3aoauth%3a2.0%3aoob&response_type=code&scope=email%20https%3a%2f%2fwww.googleapis.com%2fauth%2fdocs.test%20https%3a%2f%2fwww.googleapis.com%2fauth%2fdrive%20https%3a%2f%2fwww.googleapis.com%2fauth%2fdrive.photos.readonly%20https%3a%2f%2fwww.googleapis.com%2fauth%2fpeopleapi.readonly\n",
            "\n",
            "Enter your authorization code:\n",
            "··········\n",
            "Mounted at /content/drive\n"
          ],
          "name": "stdout"
        }
      ]
    },
    {
      "cell_type": "code",
      "metadata": {
        "id": "1pZX8nsMRPqg",
        "colab_type": "code",
        "outputId": "83476bb5-2e78-469d-c5f1-dfbe30a4ac88",
        "colab": {
          "base_uri": "https://localhost:8080/",
          "height": 34
        }
      },
      "source": [
        "#pointing the path to google drive folder\n",
        "%cd '/content/drive/My Drive/Springboard/data'"
      ],
      "execution_count": 18,
      "outputs": [
        {
          "output_type": "stream",
          "text": [
            "/content/drive/My Drive/Springboard/data\n"
          ],
          "name": "stdout"
        }
      ]
    },
    {
      "cell_type": "code",
      "metadata": {
        "id": "lif9-g36hCL9",
        "colab_type": "code",
        "colab": {}
      },
      "source": [
        "# Store the Quandl API key as a string \n",
        "API_KEY = '4Mg4hjNJH7oWZyHbsZwr'"
      ],
      "execution_count": 0,
      "outputs": []
    },
    {
      "cell_type": "code",
      "metadata": {
        "id": "q3wXJnYshVEi",
        "colab_type": "code",
        "colab": {}
      },
      "source": [
        "#list of BSE stocks to be downloaded\n",
        "stock_list=['BOM500002','BOM500003','BOM500008','BOM500009','BOM500010','BOM500012','BOM500013','BOM500014','BOM500020','BOM500023']"
      ],
      "execution_count": 0,
      "outputs": []
    },
    {
      "cell_type": "code",
      "metadata": {
        "id": "tyC6kPMch_mP",
        "colab_type": "code",
        "colab": {}
      },
      "source": [
        "#URL to download csv file\n",
        "url='https://www.quandl.com/api/v3/datasets/BSE/'"
      ],
      "execution_count": 0,
      "outputs": []
    },
    {
      "cell_type": "code",
      "metadata": {
        "id": "afYcTMZukYaF",
        "colab_type": "code",
        "outputId": "eafb2d6c-9b69-4fa3-a11d-b2caa09f2eb5",
        "colab": {
          "base_uri": "https://localhost:8080/",
          "height": 1000
        }
      },
      "source": [
        "for stock in stock_list:\n",
        "  # Read file into a DataFrame: df\n",
        "  df=pd.read_csv(url+stock+'.csv?start_date=2017-01-01&end_date=2019-12-31&api_key='+API_KEY)\n",
        "  #add stock name to dataframe as column\n",
        "  df['stockname']=stock\n",
        "  # Print the head of the DataFrame\n",
        "  print(df.info())  \n",
        "  #write dataframe to csv file\n",
        "  df.to_csv(stock+'.csv',index=False)"
      ],
      "execution_count": 22,
      "outputs": [
        {
          "output_type": "stream",
          "text": [
            "<class 'pandas.core.frame.DataFrame'>\n",
            "RangeIndex: 739 entries, 0 to 738\n",
            "Data columns (total 14 columns):\n",
            "Date                         739 non-null object\n",
            "Open                         739 non-null float64\n",
            "High                         739 non-null float64\n",
            "Low                          739 non-null float64\n",
            "Close                        739 non-null float64\n",
            "WAP                          739 non-null float64\n",
            "No. of Shares                739 non-null float64\n",
            "No. of Trades                739 non-null float64\n",
            "Total Turnover               739 non-null float64\n",
            "Deliverable Quantity         738 non-null float64\n",
            "% Deli. Qty to Traded Qty    738 non-null float64\n",
            "Spread H-L                   739 non-null float64\n",
            "Spread C-O                   739 non-null float64\n",
            "stockname                    739 non-null object\n",
            "dtypes: float64(12), object(2)\n",
            "memory usage: 81.0+ KB\n",
            "None\n",
            "<class 'pandas.core.frame.DataFrame'>\n",
            "RangeIndex: 739 entries, 0 to 738\n",
            "Data columns (total 14 columns):\n",
            "Date                         739 non-null object\n",
            "Open                         739 non-null float64\n",
            "High                         739 non-null float64\n",
            "Low                          739 non-null float64\n",
            "Close                        739 non-null float64\n",
            "WAP                          739 non-null float64\n",
            "No. of Shares                739 non-null float64\n",
            "No. of Trades                739 non-null float64\n",
            "Total Turnover               739 non-null float64\n",
            "Deliverable Quantity         739 non-null float64\n",
            "% Deli. Qty to Traded Qty    739 non-null float64\n",
            "Spread H-L                   739 non-null float64\n",
            "Spread C-O                   739 non-null float64\n",
            "stockname                    739 non-null object\n",
            "dtypes: float64(12), object(2)\n",
            "memory usage: 81.0+ KB\n",
            "None\n",
            "<class 'pandas.core.frame.DataFrame'>\n",
            "RangeIndex: 739 entries, 0 to 738\n",
            "Data columns (total 14 columns):\n",
            "Date                         739 non-null object\n",
            "Open                         739 non-null float64\n",
            "High                         739 non-null float64\n",
            "Low                          739 non-null float64\n",
            "Close                        739 non-null float64\n",
            "WAP                          739 non-null float64\n",
            "No. of Shares                739 non-null float64\n",
            "No. of Trades                739 non-null float64\n",
            "Total Turnover               739 non-null float64\n",
            "Deliverable Quantity         739 non-null float64\n",
            "% Deli. Qty to Traded Qty    739 non-null float64\n",
            "Spread H-L                   739 non-null float64\n",
            "Spread C-O                   739 non-null float64\n",
            "stockname                    739 non-null object\n",
            "dtypes: float64(12), object(2)\n",
            "memory usage: 81.0+ KB\n",
            "None\n",
            "<class 'pandas.core.frame.DataFrame'>\n",
            "RangeIndex: 739 entries, 0 to 738\n",
            "Data columns (total 14 columns):\n",
            "Date                         739 non-null object\n",
            "Open                         739 non-null float64\n",
            "High                         739 non-null float64\n",
            "Low                          739 non-null float64\n",
            "Close                        739 non-null float64\n",
            "WAP                          739 non-null float64\n",
            "No. of Shares                739 non-null float64\n",
            "No. of Trades                739 non-null float64\n",
            "Total Turnover               739 non-null float64\n",
            "Deliverable Quantity         739 non-null float64\n",
            "% Deli. Qty to Traded Qty    739 non-null float64\n",
            "Spread H-L                   739 non-null float64\n",
            "Spread C-O                   739 non-null float64\n",
            "stockname                    739 non-null object\n",
            "dtypes: float64(12), object(2)\n",
            "memory usage: 81.0+ KB\n",
            "None\n",
            "<class 'pandas.core.frame.DataFrame'>\n",
            "RangeIndex: 739 entries, 0 to 738\n",
            "Data columns (total 14 columns):\n",
            "Date                         739 non-null object\n",
            "Open                         739 non-null float64\n",
            "High                         739 non-null float64\n",
            "Low                          739 non-null float64\n",
            "Close                        739 non-null float64\n",
            "WAP                          739 non-null float64\n",
            "No. of Shares                739 non-null float64\n",
            "No. of Trades                739 non-null float64\n",
            "Total Turnover               739 non-null float64\n",
            "Deliverable Quantity         738 non-null float64\n",
            "% Deli. Qty to Traded Qty    738 non-null float64\n",
            "Spread H-L                   739 non-null float64\n",
            "Spread C-O                   739 non-null float64\n",
            "stockname                    739 non-null object\n",
            "dtypes: float64(12), object(2)\n",
            "memory usage: 81.0+ KB\n",
            "None\n",
            "<class 'pandas.core.frame.DataFrame'>\n",
            "RangeIndex: 739 entries, 0 to 738\n",
            "Data columns (total 14 columns):\n",
            "Date                         739 non-null object\n",
            "Open                         739 non-null float64\n",
            "High                         739 non-null float64\n",
            "Low                          739 non-null float64\n",
            "Close                        739 non-null float64\n",
            "WAP                          739 non-null float64\n",
            "No. of Shares                739 non-null float64\n",
            "No. of Trades                739 non-null float64\n",
            "Total Turnover               739 non-null float64\n",
            "Deliverable Quantity         739 non-null float64\n",
            "% Deli. Qty to Traded Qty    739 non-null float64\n",
            "Spread H-L                   739 non-null float64\n",
            "Spread C-O                   739 non-null float64\n",
            "stockname                    739 non-null object\n",
            "dtypes: float64(12), object(2)\n",
            "memory usage: 81.0+ KB\n",
            "None\n",
            "<class 'pandas.core.frame.DataFrame'>\n",
            "RangeIndex: 738 entries, 0 to 737\n",
            "Data columns (total 14 columns):\n",
            "Date                         738 non-null object\n",
            "Open                         738 non-null float64\n",
            "High                         738 non-null float64\n",
            "Low                          738 non-null float64\n",
            "Close                        738 non-null float64\n",
            "WAP                          738 non-null float64\n",
            "No. of Shares                738 non-null float64\n",
            "No. of Trades                738 non-null float64\n",
            "Total Turnover               738 non-null float64\n",
            "Deliverable Quantity         737 non-null float64\n",
            "% Deli. Qty to Traded Qty    737 non-null float64\n",
            "Spread H-L                   738 non-null float64\n",
            "Spread C-O                   738 non-null float64\n",
            "stockname                    738 non-null object\n",
            "dtypes: float64(12), object(2)\n",
            "memory usage: 80.8+ KB\n",
            "None\n",
            "<class 'pandas.core.frame.DataFrame'>\n",
            "RangeIndex: 731 entries, 0 to 730\n",
            "Data columns (total 14 columns):\n",
            "Date                         731 non-null object\n",
            "Open                         731 non-null float64\n",
            "High                         731 non-null float64\n",
            "Low                          731 non-null float64\n",
            "Close                        731 non-null float64\n",
            "WAP                          731 non-null float64\n",
            "No. of Shares                731 non-null float64\n",
            "No. of Trades                731 non-null float64\n",
            "Total Turnover               731 non-null float64\n",
            "Deliverable Quantity         731 non-null float64\n",
            "% Deli. Qty to Traded Qty    731 non-null float64\n",
            "Spread H-L                   731 non-null float64\n",
            "Spread C-O                   731 non-null float64\n",
            "stockname                    731 non-null object\n",
            "dtypes: float64(12), object(2)\n",
            "memory usage: 80.1+ KB\n",
            "None\n",
            "<class 'pandas.core.frame.DataFrame'>\n",
            "RangeIndex: 739 entries, 0 to 738\n",
            "Data columns (total 14 columns):\n",
            "Date                         739 non-null object\n",
            "Open                         739 non-null float64\n",
            "High                         739 non-null float64\n",
            "Low                          739 non-null float64\n",
            "Close                        739 non-null float64\n",
            "WAP                          739 non-null float64\n",
            "No. of Shares                739 non-null float64\n",
            "No. of Trades                739 non-null float64\n",
            "Total Turnover               739 non-null float64\n",
            "Deliverable Quantity         738 non-null float64\n",
            "% Deli. Qty to Traded Qty    738 non-null float64\n",
            "Spread H-L                   739 non-null float64\n",
            "Spread C-O                   739 non-null float64\n",
            "stockname                    739 non-null object\n",
            "dtypes: float64(12), object(2)\n",
            "memory usage: 81.0+ KB\n",
            "None\n",
            "<class 'pandas.core.frame.DataFrame'>\n",
            "RangeIndex: 606 entries, 0 to 605\n",
            "Data columns (total 14 columns):\n",
            "Date                         606 non-null object\n",
            "Open                         606 non-null float64\n",
            "High                         606 non-null float64\n",
            "Low                          606 non-null float64\n",
            "Close                        606 non-null float64\n",
            "WAP                          606 non-null float64\n",
            "No. of Shares                606 non-null float64\n",
            "No. of Trades                606 non-null float64\n",
            "Total Turnover               606 non-null float64\n",
            "Deliverable Quantity         593 non-null float64\n",
            "% Deli. Qty to Traded Qty    605 non-null float64\n",
            "Spread H-L                   606 non-null float64\n",
            "Spread C-O                   606 non-null float64\n",
            "stockname                    606 non-null object\n",
            "dtypes: float64(12), object(2)\n",
            "memory usage: 66.4+ KB\n",
            "None\n"
          ],
          "name": "stdout"
        }
      ]
    },
    {
      "cell_type": "code",
      "metadata": {
        "id": "v1mydkGimw8X",
        "colab_type": "code",
        "outputId": "d5db4173-7e60-4ffd-9b32-b424f460203e",
        "colab": {
          "base_uri": "https://localhost:8080/",
          "height": 238
        }
      },
      "source": [
        "#checking files created\n",
        "!ls -ltr"
      ],
      "execution_count": 23,
      "outputs": [
        {
          "output_type": "stream",
          "text": [
            "total 804\n",
            "-rw------- 1 root root 64800 Feb  8 10:15 DJI.csv\n",
            "-rw------- 1 root root 38604 Feb  8 10:49 nasdl.csv\n",
            "-rw------- 1 root root 78783 Feb 15 06:39 BOM500002.csv\n",
            "-rw------- 1 root root 74149 Feb 15 06:39 BOM500003.csv\n",
            "-rw------- 1 root root 75752 Feb 15 06:39 BOM500008.csv\n",
            "-rw------- 1 root root 70139 Feb 15 06:39 BOM500009.csv\n",
            "-rw------- 1 root root 81840 Feb 15 06:39 BOM500010.csv\n",
            "-rw------- 1 root root 70984 Feb 15 06:39 BOM500012.csv\n",
            "-rw------- 1 root root 69573 Feb 15 06:39 BOM500013.csv\n",
            "-rw------- 1 root root 64097 Feb 15 06:39 BOM500014.csv\n",
            "-rw------- 1 root root 75905 Feb 15 06:39 BOM500020.csv\n",
            "-rw------- 1 root root 56220 Feb 15 06:39 BOM500023.csv\n"
          ],
          "name": "stdout"
        }
      ]
    },
    {
      "cell_type": "code",
      "metadata": {
        "id": "O_eLsIkGpJEs",
        "colab_type": "code",
        "colab": {}
      },
      "source": [
        "#URL to download NSDL data\n",
        "NSDL_URL='https://www.quandl.com/api/v3/datasets/NSDL/IEQSE.csv?start_date=2017-01-01&end_date=2019-12-31&api_key='+API_KEY"
      ],
      "execution_count": 0,
      "outputs": []
    },
    {
      "cell_type": "code",
      "metadata": {
        "id": "Sz7aC9Wjrjnt",
        "colab_type": "code",
        "outputId": "6b1b901f-bf72-4154-fe6a-4fa16864b01b",
        "colab": {
          "base_uri": "https://localhost:8080/",
          "height": 204
        }
      },
      "source": [
        "#read csv file to data frame\n",
        "nsdl_df=pd.read_csv(NSDL_URL)\n",
        "nsdl_df.info()"
      ],
      "execution_count": 25,
      "outputs": [
        {
          "output_type": "stream",
          "text": [
            "<class 'pandas.core.frame.DataFrame'>\n",
            "RangeIndex: 723 entries, 0 to 722\n",
            "Data columns (total 6 columns):\n",
            "Date                            723 non-null object\n",
            "Gross Purchases(Rs Crore)       723 non-null float64\n",
            "Gross Sales(Rs Crore)           723 non-null float64\n",
            "Net Investment (Rs Crore)       723 non-null float64\n",
            "Net Investment US($) million    723 non-null float64\n",
            "Conversion (1 USD to INR)       723 non-null float64\n",
            "dtypes: float64(5), object(1)\n",
            "memory usage: 34.0+ KB\n"
          ],
          "name": "stdout"
        }
      ]
    },
    {
      "cell_type": "code",
      "metadata": {
        "id": "MiXJ2zPHrus6",
        "colab_type": "code",
        "colab": {}
      },
      "source": [
        "#write data file to csv file\n",
        "nsdl_df.to_csv('nasdl.csv',index=False)"
      ],
      "execution_count": 0,
      "outputs": []
    },
    {
      "cell_type": "code",
      "metadata": {
        "id": "8hhBy01vvdkg",
        "colab_type": "code",
        "outputId": "cc12a4f8-9919-4119-f50f-d751eb1f8e80",
        "colab": {
          "base_uri": "https://localhost:8080/",
          "height": 238
        }
      },
      "source": [
        "!ls -ltr"
      ],
      "execution_count": 27,
      "outputs": [
        {
          "output_type": "stream",
          "text": [
            "total 801\n",
            "-rw------- 1 root root 64800 Feb  8 10:15 DJI.csv\n",
            "-rw------- 1 root root 78783 Feb 15 06:39 BOM500002.csv\n",
            "-rw------- 1 root root 74149 Feb 15 06:39 BOM500003.csv\n",
            "-rw------- 1 root root 75752 Feb 15 06:39 BOM500008.csv\n",
            "-rw------- 1 root root 70139 Feb 15 06:39 BOM500009.csv\n",
            "-rw------- 1 root root 81840 Feb 15 06:39 BOM500010.csv\n",
            "-rw------- 1 root root 70984 Feb 15 06:39 BOM500012.csv\n",
            "-rw------- 1 root root 69573 Feb 15 06:39 BOM500013.csv\n",
            "-rw------- 1 root root 64097 Feb 15 06:39 BOM500014.csv\n",
            "-rw------- 1 root root 75905 Feb 15 06:39 BOM500020.csv\n",
            "-rw------- 1 root root 56220 Feb 15 06:39 BOM500023.csv\n",
            "-rw------- 1 root root 35821 Feb 15 06:39 nasdl.csv\n"
          ],
          "name": "stdout"
        }
      ]
    },
    {
      "cell_type": "code",
      "metadata": {
        "id": "DWQn5vrBvjNw",
        "colab_type": "code",
        "outputId": "b23913e3-0fad-49d9-9fb7-26d66b13879a",
        "colab": {
          "base_uri": "https://localhost:8080/",
          "height": 204
        }
      },
      "source": [
        "#Manualy downloaded  DowJoanes index data from Yahoo Finance and uploaded into google drive\n",
        "#load DJI.csv to dataframe\n",
        "dji_df=pd.read_csv('DJI.csv')\n",
        "dji_df.head()"
      ],
      "execution_count": 28,
      "outputs": [
        {
          "output_type": "execute_result",
          "data": {
            "text/html": [
              "<div>\n",
              "<style scoped>\n",
              "    .dataframe tbody tr th:only-of-type {\n",
              "        vertical-align: middle;\n",
              "    }\n",
              "\n",
              "    .dataframe tbody tr th {\n",
              "        vertical-align: top;\n",
              "    }\n",
              "\n",
              "    .dataframe thead th {\n",
              "        text-align: right;\n",
              "    }\n",
              "</style>\n",
              "<table border=\"1\" class=\"dataframe\">\n",
              "  <thead>\n",
              "    <tr style=\"text-align: right;\">\n",
              "      <th></th>\n",
              "      <th>Date</th>\n",
              "      <th>Open</th>\n",
              "      <th>High</th>\n",
              "      <th>Low</th>\n",
              "      <th>Close</th>\n",
              "      <th>Adj Close</th>\n",
              "      <th>Volume</th>\n",
              "    </tr>\n",
              "  </thead>\n",
              "  <tbody>\n",
              "    <tr>\n",
              "      <th>0</th>\n",
              "      <td>2017-01-03</td>\n",
              "      <td>19872.859375</td>\n",
              "      <td>19938.529297</td>\n",
              "      <td>19775.929688</td>\n",
              "      <td>19881.759766</td>\n",
              "      <td>19881.759766</td>\n",
              "      <td>339180000</td>\n",
              "    </tr>\n",
              "    <tr>\n",
              "      <th>1</th>\n",
              "      <td>2017-01-04</td>\n",
              "      <td>19890.939453</td>\n",
              "      <td>19956.140625</td>\n",
              "      <td>19878.830078</td>\n",
              "      <td>19942.160156</td>\n",
              "      <td>19942.160156</td>\n",
              "      <td>280010000</td>\n",
              "    </tr>\n",
              "    <tr>\n",
              "      <th>2</th>\n",
              "      <td>2017-01-05</td>\n",
              "      <td>19924.560547</td>\n",
              "      <td>19948.599609</td>\n",
              "      <td>19811.119141</td>\n",
              "      <td>19899.289063</td>\n",
              "      <td>19899.289063</td>\n",
              "      <td>269920000</td>\n",
              "    </tr>\n",
              "    <tr>\n",
              "      <th>3</th>\n",
              "      <td>2017-01-06</td>\n",
              "      <td>19906.960938</td>\n",
              "      <td>19999.630859</td>\n",
              "      <td>19834.080078</td>\n",
              "      <td>19963.800781</td>\n",
              "      <td>19963.800781</td>\n",
              "      <td>277700000</td>\n",
              "    </tr>\n",
              "    <tr>\n",
              "      <th>4</th>\n",
              "      <td>2017-01-09</td>\n",
              "      <td>19931.410156</td>\n",
              "      <td>19943.779297</td>\n",
              "      <td>19887.380859</td>\n",
              "      <td>19887.380859</td>\n",
              "      <td>19887.380859</td>\n",
              "      <td>287510000</td>\n",
              "    </tr>\n",
              "  </tbody>\n",
              "</table>\n",
              "</div>"
            ],
            "text/plain": [
              "         Date          Open  ...     Adj Close     Volume\n",
              "0  2017-01-03  19872.859375  ...  19881.759766  339180000\n",
              "1  2017-01-04  19890.939453  ...  19942.160156  280010000\n",
              "2  2017-01-05  19924.560547  ...  19899.289063  269920000\n",
              "3  2017-01-06  19906.960938  ...  19963.800781  277700000\n",
              "4  2017-01-09  19931.410156  ...  19887.380859  287510000\n",
              "\n",
              "[5 rows x 7 columns]"
            ]
          },
          "metadata": {
            "tags": []
          },
          "execution_count": 28
        }
      ]
    },
    {
      "cell_type": "code",
      "metadata": {
        "id": "TVDc14mmaKUI",
        "colab_type": "code",
        "colab": {}
      },
      "source": [
        ""
      ],
      "execution_count": 0,
      "outputs": []
    }
  ]
}