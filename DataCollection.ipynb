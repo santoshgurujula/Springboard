{
  "nbformat": 4,
  "nbformat_minor": 0,
  "metadata": {
    "colab": {
      "name": "DataCollection.ipynb",
      "provenance": [],
      "collapsed_sections": [],
      "mount_file_id": "https://github.com/santoshgurujula/Springboard/blob/master/DataCollection.ipynb",
      "authorship_tag": "ABX9TyOTyUx5YG09tpi9+Iw0+zUe",
      "include_colab_link": true
    },
    "kernelspec": {
      "name": "python3",
      "display_name": "Python 3"
    }
  },
  "cells": [
    {
      "cell_type": "markdown",
      "metadata": {
        "id": "view-in-github",
        "colab_type": "text"
      },
      "source": [
        "<a href=\"https://colab.research.google.com/github/santoshgurujula/Springboard/blob/master/DataCollection.ipynb\" target=\"_parent\"><img src=\"https://colab.research.google.com/assets/colab-badge.svg\" alt=\"Open In Colab\"/></a>"
      ]
    },
    {
      "cell_type": "code",
      "metadata": {
        "id": "ZwN5Apo3hPWR",
        "colab_type": "code",
        "colab": {}
      },
      "source": [
        "# First, import the relevant modules\n",
        "import requests\n",
        "import json\n",
        "from matplotlib import pyplot as plt\n",
        "import pandas as pd\n",
        "%matplotlib inline"
      ],
      "execution_count": 1,
      "outputs": []
    },
    {
      "cell_type": "code",
      "metadata": {
        "id": "upgGF2nwi78e",
        "colab_type": "code",
        "colab": {
          "base_uri": "https://localhost:8080/",
          "height": 35
        },
        "outputId": "175640c1-5c9a-4a2b-c7b3-f8627c754cdb"
      },
      "source": [
        "from google.colab import drive\n",
        "drive.mount('/content/drive')"
      ],
      "execution_count": 2,
      "outputs": [
        {
          "output_type": "stream",
          "text": [
            "Drive already mounted at /content/drive; to attempt to forcibly remount, call drive.mount(\"/content/drive\", force_remount=True).\n"
          ],
          "name": "stdout"
        }
      ]
    },
    {
      "cell_type": "code",
      "metadata": {
        "id": "1pZX8nsMRPqg",
        "colab_type": "code",
        "colab": {
          "base_uri": "https://localhost:8080/",
          "height": 35
        },
        "outputId": "e035e132-8a9c-46db-ce98-9a5766f48f85"
      },
      "source": [
        "#pointing the path to google drive folder\n",
        "%cd '/content/drive/My Drive/Springboard/data'"
      ],
      "execution_count": 3,
      "outputs": [
        {
          "output_type": "stream",
          "text": [
            "/content/drive/My Drive/Springboard/data\n"
          ],
          "name": "stdout"
        }
      ]
    },
    {
      "cell_type": "code",
      "metadata": {
        "id": "lif9-g36hCL9",
        "colab_type": "code",
        "colab": {}
      },
      "source": [
        "# Store the Quandl API key as a string \n",
        "API_KEY = '4Mg4hjNJH7oWZyHbsZwr'"
      ],
      "execution_count": 4,
      "outputs": []
    },
    {
      "cell_type": "code",
      "metadata": {
        "id": "q3wXJnYshVEi",
        "colab_type": "code",
        "colab": {}
      },
      "source": [
        "#list of BSE stocks to be downloaded\n",
        "stock_list=['BOM500002','BOM500003','BOM500008','BOM500009','BOM500010','BOM500012','BOM500013','BOM500014','BOM500020','BOM500023']"
      ],
      "execution_count": 5,
      "outputs": []
    },
    {
      "cell_type": "code",
      "metadata": {
        "id": "HZFJA2vf_6Ie",
        "colab_type": "code",
        "colab": {}
      },
      "source": [
        "#define date range of the data to be downloaded\n",
        "start_date='2017-01-01'\n",
        "end_date='2020-06-30'"
      ],
      "execution_count": 6,
      "outputs": []
    },
    {
      "cell_type": "code",
      "metadata": {
        "id": "tyC6kPMch_mP",
        "colab_type": "code",
        "colab": {}
      },
      "source": [
        "#URL to download csv file\n",
        "url='https://www.quandl.com/api/v3/datasets/BSE/'"
      ],
      "execution_count": 7,
      "outputs": []
    },
    {
      "cell_type": "code",
      "metadata": {
        "id": "afYcTMZukYaF",
        "colab_type": "code",
        "colab": {
          "base_uri": "https://localhost:8080/",
          "height": 1000
        },
        "outputId": "31b40534-aeef-4d58-e0b4-1fc320615207"
      },
      "source": [
        "for stock in stock_list:\n",
        "  # Read file into a DataFrame: df\n",
        "  df=pd.read_csv(url+stock+'.csv?start_date='+start_date+'&end_date='+end_date+'&api_key='+API_KEY)\n",
        "  #add stock name to dataframe as column\n",
        "  df['stockname']=stock\n",
        "  # Print the head of the DataFrame\n",
        "  print(df.info())  \n",
        "  #write dataframe to csv file\n",
        "  df.to_csv(stock+'.csv',index=False)"
      ],
      "execution_count": 8,
      "outputs": [
        {
          "output_type": "stream",
          "text": [
            "<class 'pandas.core.frame.DataFrame'>\n",
            "RangeIndex: 862 entries, 0 to 861\n",
            "Data columns (total 14 columns):\n",
            " #   Column                     Non-Null Count  Dtype  \n",
            "---  ------                     --------------  -----  \n",
            " 0   Date                       862 non-null    object \n",
            " 1   Open                       862 non-null    float64\n",
            " 2   High                       862 non-null    float64\n",
            " 3   Low                        862 non-null    float64\n",
            " 4   Close                      862 non-null    float64\n",
            " 5   WAP                        862 non-null    float64\n",
            " 6   No. of Shares              862 non-null    float64\n",
            " 7   No. of Trades              862 non-null    float64\n",
            " 8   Total Turnover             862 non-null    float64\n",
            " 9   Deliverable Quantity       861 non-null    float64\n",
            " 10  % Deli. Qty to Traded Qty  861 non-null    float64\n",
            " 11  Spread H-L                 862 non-null    float64\n",
            " 12  Spread C-O                 862 non-null    float64\n",
            " 13  stockname                  862 non-null    object \n",
            "dtypes: float64(12), object(2)\n",
            "memory usage: 94.4+ KB\n",
            "None\n",
            "<class 'pandas.core.frame.DataFrame'>\n",
            "RangeIndex: 862 entries, 0 to 861\n",
            "Data columns (total 14 columns):\n",
            " #   Column                     Non-Null Count  Dtype  \n",
            "---  ------                     --------------  -----  \n",
            " 0   Date                       862 non-null    object \n",
            " 1   Open                       862 non-null    float64\n",
            " 2   High                       862 non-null    float64\n",
            " 3   Low                        862 non-null    float64\n",
            " 4   Close                      862 non-null    float64\n",
            " 5   WAP                        862 non-null    float64\n",
            " 6   No. of Shares              862 non-null    float64\n",
            " 7   No. of Trades              862 non-null    float64\n",
            " 8   Total Turnover             862 non-null    float64\n",
            " 9   Deliverable Quantity       862 non-null    float64\n",
            " 10  % Deli. Qty to Traded Qty  862 non-null    float64\n",
            " 11  Spread H-L                 862 non-null    float64\n",
            " 12  Spread C-O                 862 non-null    float64\n",
            " 13  stockname                  862 non-null    object \n",
            "dtypes: float64(12), object(2)\n",
            "memory usage: 94.4+ KB\n",
            "None\n",
            "<class 'pandas.core.frame.DataFrame'>\n",
            "RangeIndex: 862 entries, 0 to 861\n",
            "Data columns (total 14 columns):\n",
            " #   Column                     Non-Null Count  Dtype  \n",
            "---  ------                     --------------  -----  \n",
            " 0   Date                       862 non-null    object \n",
            " 1   Open                       862 non-null    float64\n",
            " 2   High                       862 non-null    float64\n",
            " 3   Low                        862 non-null    float64\n",
            " 4   Close                      862 non-null    float64\n",
            " 5   WAP                        862 non-null    float64\n",
            " 6   No. of Shares              862 non-null    float64\n",
            " 7   No. of Trades              862 non-null    float64\n",
            " 8   Total Turnover             862 non-null    float64\n",
            " 9   Deliverable Quantity       862 non-null    float64\n",
            " 10  % Deli. Qty to Traded Qty  862 non-null    float64\n",
            " 11  Spread H-L                 862 non-null    float64\n",
            " 12  Spread C-O                 862 non-null    float64\n",
            " 13  stockname                  862 non-null    object \n",
            "dtypes: float64(12), object(2)\n",
            "memory usage: 94.4+ KB\n",
            "None\n",
            "<class 'pandas.core.frame.DataFrame'>\n",
            "RangeIndex: 862 entries, 0 to 861\n",
            "Data columns (total 14 columns):\n",
            " #   Column                     Non-Null Count  Dtype  \n",
            "---  ------                     --------------  -----  \n",
            " 0   Date                       862 non-null    object \n",
            " 1   Open                       862 non-null    float64\n",
            " 2   High                       862 non-null    float64\n",
            " 3   Low                        862 non-null    float64\n",
            " 4   Close                      862 non-null    float64\n",
            " 5   WAP                        862 non-null    float64\n",
            " 6   No. of Shares              862 non-null    float64\n",
            " 7   No. of Trades              862 non-null    float64\n",
            " 8   Total Turnover             862 non-null    float64\n",
            " 9   Deliverable Quantity       862 non-null    float64\n",
            " 10  % Deli. Qty to Traded Qty  862 non-null    float64\n",
            " 11  Spread H-L                 862 non-null    float64\n",
            " 12  Spread C-O                 862 non-null    float64\n",
            " 13  stockname                  862 non-null    object \n",
            "dtypes: float64(12), object(2)\n",
            "memory usage: 94.4+ KB\n",
            "None\n",
            "<class 'pandas.core.frame.DataFrame'>\n",
            "RangeIndex: 862 entries, 0 to 861\n",
            "Data columns (total 14 columns):\n",
            " #   Column                     Non-Null Count  Dtype  \n",
            "---  ------                     --------------  -----  \n",
            " 0   Date                       862 non-null    object \n",
            " 1   Open                       862 non-null    float64\n",
            " 2   High                       862 non-null    float64\n",
            " 3   Low                        862 non-null    float64\n",
            " 4   Close                      862 non-null    float64\n",
            " 5   WAP                        862 non-null    float64\n",
            " 6   No. of Shares              862 non-null    float64\n",
            " 7   No. of Trades              862 non-null    float64\n",
            " 8   Total Turnover             862 non-null    float64\n",
            " 9   Deliverable Quantity       861 non-null    float64\n",
            " 10  % Deli. Qty to Traded Qty  861 non-null    float64\n",
            " 11  Spread H-L                 862 non-null    float64\n",
            " 12  Spread C-O                 862 non-null    float64\n",
            " 13  stockname                  862 non-null    object \n",
            "dtypes: float64(12), object(2)\n",
            "memory usage: 94.4+ KB\n",
            "None\n",
            "<class 'pandas.core.frame.DataFrame'>\n",
            "RangeIndex: 862 entries, 0 to 861\n",
            "Data columns (total 14 columns):\n",
            " #   Column                     Non-Null Count  Dtype  \n",
            "---  ------                     --------------  -----  \n",
            " 0   Date                       862 non-null    object \n",
            " 1   Open                       862 non-null    float64\n",
            " 2   High                       862 non-null    float64\n",
            " 3   Low                        862 non-null    float64\n",
            " 4   Close                      862 non-null    float64\n",
            " 5   WAP                        862 non-null    float64\n",
            " 6   No. of Shares              862 non-null    float64\n",
            " 7   No. of Trades              862 non-null    float64\n",
            " 8   Total Turnover             862 non-null    float64\n",
            " 9   Deliverable Quantity       862 non-null    float64\n",
            " 10  % Deli. Qty to Traded Qty  862 non-null    float64\n",
            " 11  Spread H-L                 862 non-null    float64\n",
            " 12  Spread C-O                 862 non-null    float64\n",
            " 13  stockname                  862 non-null    object \n",
            "dtypes: float64(12), object(2)\n",
            "memory usage: 94.4+ KB\n",
            "None\n",
            "<class 'pandas.core.frame.DataFrame'>\n",
            "RangeIndex: 860 entries, 0 to 859\n",
            "Data columns (total 14 columns):\n",
            " #   Column                     Non-Null Count  Dtype  \n",
            "---  ------                     --------------  -----  \n",
            " 0   Date                       860 non-null    object \n",
            " 1   Open                       860 non-null    float64\n",
            " 2   High                       860 non-null    float64\n",
            " 3   Low                        860 non-null    float64\n",
            " 4   Close                      860 non-null    float64\n",
            " 5   WAP                        860 non-null    float64\n",
            " 6   No. of Shares              860 non-null    float64\n",
            " 7   No. of Trades              860 non-null    float64\n",
            " 8   Total Turnover             860 non-null    float64\n",
            " 9   Deliverable Quantity       859 non-null    float64\n",
            " 10  % Deli. Qty to Traded Qty  859 non-null    float64\n",
            " 11  Spread H-L                 860 non-null    float64\n",
            " 12  Spread C-O                 860 non-null    float64\n",
            " 13  stockname                  860 non-null    object \n",
            "dtypes: float64(12), object(2)\n",
            "memory usage: 94.2+ KB\n",
            "None\n",
            "<class 'pandas.core.frame.DataFrame'>\n",
            "RangeIndex: 847 entries, 0 to 846\n",
            "Data columns (total 14 columns):\n",
            " #   Column                     Non-Null Count  Dtype  \n",
            "---  ------                     --------------  -----  \n",
            " 0   Date                       847 non-null    object \n",
            " 1   Open                       847 non-null    float64\n",
            " 2   High                       847 non-null    float64\n",
            " 3   Low                        847 non-null    float64\n",
            " 4   Close                      847 non-null    float64\n",
            " 5   WAP                        847 non-null    float64\n",
            " 6   No. of Shares              847 non-null    float64\n",
            " 7   No. of Trades              847 non-null    float64\n",
            " 8   Total Turnover             847 non-null    float64\n",
            " 9   Deliverable Quantity       847 non-null    float64\n",
            " 10  % Deli. Qty to Traded Qty  847 non-null    float64\n",
            " 11  Spread H-L                 847 non-null    float64\n",
            " 12  Spread C-O                 847 non-null    float64\n",
            " 13  stockname                  847 non-null    object \n",
            "dtypes: float64(12), object(2)\n",
            "memory usage: 92.8+ KB\n",
            "None\n",
            "<class 'pandas.core.frame.DataFrame'>\n",
            "RangeIndex: 862 entries, 0 to 861\n",
            "Data columns (total 14 columns):\n",
            " #   Column                     Non-Null Count  Dtype  \n",
            "---  ------                     --------------  -----  \n",
            " 0   Date                       862 non-null    object \n",
            " 1   Open                       862 non-null    float64\n",
            " 2   High                       862 non-null    float64\n",
            " 3   Low                        862 non-null    float64\n",
            " 4   Close                      862 non-null    float64\n",
            " 5   WAP                        862 non-null    float64\n",
            " 6   No. of Shares              862 non-null    float64\n",
            " 7   No. of Trades              862 non-null    float64\n",
            " 8   Total Turnover             862 non-null    float64\n",
            " 9   Deliverable Quantity       861 non-null    float64\n",
            " 10  % Deli. Qty to Traded Qty  861 non-null    float64\n",
            " 11  Spread H-L                 862 non-null    float64\n",
            " 12  Spread C-O                 862 non-null    float64\n",
            " 13  stockname                  862 non-null    object \n",
            "dtypes: float64(12), object(2)\n",
            "memory usage: 94.4+ KB\n",
            "None\n",
            "<class 'pandas.core.frame.DataFrame'>\n",
            "RangeIndex: 708 entries, 0 to 707\n",
            "Data columns (total 14 columns):\n",
            " #   Column                     Non-Null Count  Dtype  \n",
            "---  ------                     --------------  -----  \n",
            " 0   Date                       708 non-null    object \n",
            " 1   Open                       708 non-null    float64\n",
            " 2   High                       708 non-null    float64\n",
            " 3   Low                        708 non-null    float64\n",
            " 4   Close                      708 non-null    float64\n",
            " 5   WAP                        708 non-null    float64\n",
            " 6   No. of Shares              708 non-null    float64\n",
            " 7   No. of Trades              708 non-null    float64\n",
            " 8   Total Turnover             708 non-null    float64\n",
            " 9   Deliverable Quantity       694 non-null    float64\n",
            " 10  % Deli. Qty to Traded Qty  707 non-null    float64\n",
            " 11  Spread H-L                 708 non-null    float64\n",
            " 12  Spread C-O                 708 non-null    float64\n",
            " 13  stockname                  708 non-null    object \n",
            "dtypes: float64(12), object(2)\n",
            "memory usage: 77.6+ KB\n",
            "None\n"
          ],
          "name": "stdout"
        }
      ]
    },
    {
      "cell_type": "code",
      "metadata": {
        "id": "v1mydkGimw8X",
        "colab_type": "code",
        "colab": {
          "base_uri": "https://localhost:8080/",
          "height": 326
        },
        "outputId": "23f19ebc-08ab-4be4-b706-03cc3f731dd6"
      },
      "source": [
        "#checking files created\n",
        "!ls -ltr"
      ],
      "execution_count": 9,
      "outputs": [
        {
          "output_type": "stream",
          "text": [
            "total 1915\n",
            "-rw------- 1 root root  31423 Feb 15 12:11 interpolating-timeseries-p1-pandas-fig1.png\n",
            "-rw------- 1 root root 279225 May 18 13:10 fig2.png\n",
            "-rw------- 1 root root 680970 May 18 13:11 FinalStockData.csv\n",
            "-rw------- 1 root root  14032 Jun 30 02:36 fig1.png\n",
            "-rw------- 1 root root  41735 Jul  4 04:34 nasdl.csv\n",
            "-rw------- 1 root root  74405 Jul  4 04:48 DJI.csv\n",
            "-rw------- 1 root root  91432 Jul  4 04:48 BOM500002.csv\n",
            "-rw------- 1 root root  86584 Jul  4 04:48 BOM500003.csv\n",
            "-rw------- 1 root root  88389 Jul  4 04:48 BOM500008.csv\n",
            "-rw------- 1 root root  81754 Jul  4 04:48 BOM500009.csv\n",
            "-rw------- 1 root root  95670 Jul  4 04:49 BOM500010.csv\n",
            "-rw------- 1 root root  82758 Jul  4 04:49 BOM500012.csv\n",
            "-rw------- 1 root root  80411 Jul  4 04:49 BOM500013.csv\n",
            "-rw------- 1 root root  88039 Jul  4 04:49 BOM500020.csv\n",
            "-rw------- 1 root root  73870 Jul  4 04:49 BOM500014.csv\n",
            "-rw------- 1 root root  65264 Jul  4 04:49 BOM500023.csv\n"
          ],
          "name": "stdout"
        }
      ]
    },
    {
      "cell_type": "code",
      "metadata": {
        "id": "O_eLsIkGpJEs",
        "colab_type": "code",
        "colab": {}
      },
      "source": [
        "#URL to download NSDL data\n",
        "NSDL_URL='https://www.quandl.com/api/v3/datasets/NSDL/IEQSE.csv?start_date='+start_date+'&end_date='+end_date+'&api_key='+API_KEY"
      ],
      "execution_count": 10,
      "outputs": []
    },
    {
      "cell_type": "code",
      "metadata": {
        "id": "Sz7aC9Wjrjnt",
        "colab_type": "code",
        "colab": {
          "base_uri": "https://localhost:8080/",
          "height": 254
        },
        "outputId": "00efeb25-b5fa-4868-a917-5be5a35ae855"
      },
      "source": [
        "#read csv file to data frame\n",
        "nsdl_df=pd.read_csv(NSDL_URL)\n",
        "nsdl_df.info()"
      ],
      "execution_count": 11,
      "outputs": [
        {
          "output_type": "stream",
          "text": [
            "<class 'pandas.core.frame.DataFrame'>\n",
            "RangeIndex: 841 entries, 0 to 840\n",
            "Data columns (total 6 columns):\n",
            " #   Column                        Non-Null Count  Dtype  \n",
            "---  ------                        --------------  -----  \n",
            " 0   Date                          841 non-null    object \n",
            " 1   Gross Purchases(Rs Crore)     841 non-null    float64\n",
            " 2   Gross Sales(Rs Crore)         841 non-null    float64\n",
            " 3   Net Investment (Rs Crore)     841 non-null    float64\n",
            " 4   Net Investment US($) million  841 non-null    float64\n",
            " 5   Conversion (1 USD to INR)     841 non-null    float64\n",
            "dtypes: float64(5), object(1)\n",
            "memory usage: 39.5+ KB\n"
          ],
          "name": "stdout"
        }
      ]
    },
    {
      "cell_type": "code",
      "metadata": {
        "id": "MiXJ2zPHrus6",
        "colab_type": "code",
        "colab": {}
      },
      "source": [
        "#write data file to csv file\n",
        "nsdl_df.to_csv('nasdl.csv',index=False)"
      ],
      "execution_count": 12,
      "outputs": []
    },
    {
      "cell_type": "code",
      "metadata": {
        "id": "TVDc14mmaKUI",
        "colab_type": "code",
        "colab": {
          "base_uri": "https://localhost:8080/",
          "height": 74
        },
        "outputId": "f627871a-77ae-4b6e-f1ed-a1871cb7fccd"
      },
      "source": [
        "from pandas_datareader import data"
      ],
      "execution_count": 13,
      "outputs": [
        {
          "output_type": "stream",
          "text": [
            "/usr/local/lib/python3.6/dist-packages/pandas_datareader/compat/__init__.py:7: FutureWarning: pandas.util.testing is deprecated. Use the functions in the public API at pandas.testing instead.\n",
            "  from pandas.util.testing import assert_frame_equal\n"
          ],
          "name": "stderr"
        }
      ]
    },
    {
      "cell_type": "code",
      "metadata": {
        "id": "58XVGIKXHgP_",
        "colab_type": "code",
        "colab": {}
      },
      "source": [
        "#Dowload DowJoanes from Yahoo Finance\n",
        "dji_data = data.DataReader('^DJI', 'yahoo', start_date, end_date)\n"
      ],
      "execution_count": 14,
      "outputs": []
    },
    {
      "cell_type": "code",
      "metadata": {
        "id": "pR2wSmhxI8iR",
        "colab_type": "code",
        "colab": {
          "base_uri": "https://localhost:8080/",
          "height": 254
        },
        "outputId": "aa20acb9-e18e-4e36-ee32-c88f5774a757"
      },
      "source": [
        "dji_data.info()"
      ],
      "execution_count": 15,
      "outputs": [
        {
          "output_type": "stream",
          "text": [
            "<class 'pandas.core.frame.DataFrame'>\n",
            "DatetimeIndex: 879 entries, 2017-01-03 to 2020-06-30\n",
            "Data columns (total 6 columns):\n",
            " #   Column     Non-Null Count  Dtype  \n",
            "---  ------     --------------  -----  \n",
            " 0   High       879 non-null    float64\n",
            " 1   Low        879 non-null    float64\n",
            " 2   Open       879 non-null    float64\n",
            " 3   Close      879 non-null    float64\n",
            " 4   Volume     879 non-null    int64  \n",
            " 5   Adj Close  879 non-null    float64\n",
            "dtypes: float64(5), int64(1)\n",
            "memory usage: 48.1 KB\n"
          ],
          "name": "stdout"
        }
      ]
    },
    {
      "cell_type": "code",
      "metadata": {
        "id": "ujVy5MJHJNE_",
        "colab_type": "code",
        "colab": {}
      },
      "source": [
        "#Write data to a csv file\n",
        "dji_data.to_csv('DJI.csv',index=False)"
      ],
      "execution_count": 16,
      "outputs": []
    },
    {
      "cell_type": "code",
      "metadata": {
        "id": "8hhBy01vvdkg",
        "colab_type": "code",
        "colab": {
          "base_uri": "https://localhost:8080/",
          "height": 254
        },
        "outputId": "c91d147f-807d-477d-9762-a60aa13996dc"
      },
      "source": [
        "#list all the csv files\n",
        "!ls *.csv -ltr"
      ],
      "execution_count": 17,
      "outputs": [
        {
          "output_type": "stream",
          "text": [
            "-rw------- 1 root root 680970 May 18 13:11 FinalStockData.csv\n",
            "-rw------- 1 root root  91432 Jul  4 04:48 BOM500002.csv\n",
            "-rw------- 1 root root  86584 Jul  4 04:48 BOM500003.csv\n",
            "-rw------- 1 root root  88389 Jul  4 04:48 BOM500008.csv\n",
            "-rw------- 1 root root  81754 Jul  4 04:48 BOM500009.csv\n",
            "-rw------- 1 root root  95670 Jul  4 04:49 BOM500010.csv\n",
            "-rw------- 1 root root  82758 Jul  4 04:49 BOM500012.csv\n",
            "-rw------- 1 root root  80411 Jul  4 04:49 BOM500013.csv\n",
            "-rw------- 1 root root  88039 Jul  4 04:49 BOM500020.csv\n",
            "-rw------- 1 root root  73870 Jul  4 04:49 BOM500014.csv\n",
            "-rw------- 1 root root  65264 Jul  4 04:49 BOM500023.csv\n",
            "-rw------- 1 root root  41735 Jul  4 04:49 nasdl.csv\n",
            "-rw------- 1 root root  74405 Jul  4 04:49 DJI.csv\n"
          ],
          "name": "stdout"
        }
      ]
    }
  ]
}