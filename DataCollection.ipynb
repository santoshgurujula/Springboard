{
  "nbformat": 4,
  "nbformat_minor": 0,
  "metadata": {
    "colab": {
      "name": "DataCollection.ipynb",
      "provenance": [],
      "collapsed_sections": [],
      "authorship_tag": "ABX9TyMr1z17Rgot7mhUz0D+A//X",
      "include_colab_link": true
    },
    "kernelspec": {
      "name": "python3",
      "display_name": "Python 3"
    }
  },
  "cells": [
    {
      "cell_type": "markdown",
      "metadata": {
        "id": "view-in-github",
        "colab_type": "text"
      },
      "source": [
        "<a href=\"https://colab.research.google.com/github/santoshgurujula/Springboard/blob/master/DataCollection.ipynb\" target=\"_parent\"><img src=\"https://colab.research.google.com/assets/colab-badge.svg\" alt=\"Open In Colab\"/></a>"
      ]
    },
    {
      "cell_type": "code",
      "metadata": {
        "id": "lif9-g36hCL9",
        "colab_type": "code",
        "colab": {}
      },
      "source": [
        "# Store the Quandl API key as a string \n",
        "API_KEY = '4Mg4hjNJH7oWZyHbsZwr'"
      ],
      "execution_count": 0,
      "outputs": []
    },
    {
      "cell_type": "code",
      "metadata": {
        "id": "ZwN5Apo3hPWR",
        "colab_type": "code",
        "colab": {}
      },
      "source": [
        "# First, import the relevant modules\n",
        "import requests\n",
        "import json\n",
        "from matplotlib import pyplot as plt\n",
        "import pandas as pd\n",
        "%matplotlib inline"
      ],
      "execution_count": 0,
      "outputs": []
    },
    {
      "cell_type": "code",
      "metadata": {
        "id": "q3wXJnYshVEi",
        "colab_type": "code",
        "colab": {}
      },
      "source": [
        "#list of BSE stocks to be downloaded\n",
        "stock_list=['BOM500002','BOM500003','BOM500008','BOM500009','BOM500010','BOM500012','BOM500013','BOM500014','BOM500020','BOM500023']"
      ],
      "execution_count": 0,
      "outputs": []
    },
    {
      "cell_type": "code",
      "metadata": {
        "id": "tyC6kPMch_mP",
        "colab_type": "code",
        "colab": {}
      },
      "source": [
        "#URL to download csv file\n",
        "url='https://www.quandl.com/api/v3/datasets/BSE/'"
      ],
      "execution_count": 0,
      "outputs": []
    },
    {
      "cell_type": "code",
      "metadata": {
        "id": "afYcTMZukYaF",
        "colab_type": "code",
        "colab": {
          "base_uri": "https://localhost:8080/",
          "height": 1000
        },
        "outputId": "524fc136-e293-4e0c-b96c-b58697ce3e35"
      },
      "source": [
        "for stock in stock_list:\n",
        "  # Read file into a DataFrame: df\n",
        "  df=pd.read_csv(url+stock+'.csv?start_date=2017-01-01&end_date=2019-12-31&api_key='+API_KEY)\n",
        "  #add stock name to dataframe as column\n",
        "  df['stockname']=stock\n",
        "  # Print the head of the DataFrame\n",
        "  print(df.head())  \n",
        "  #write dataframe to csv file\n",
        "  df.to_csv(stock+'.csv')"
      ],
      "execution_count": 8,
      "outputs": [
        {
          "output_type": "stream",
          "text": [
            "         Date    Open    High  ...  Spread H-L  Spread C-O  stockname\n",
            "0  2019-12-31  1305.0  1305.0  ...        30.0      -20.90  BOM500002\n",
            "1  2019-12-30  1277.0  1310.0  ...        50.0       10.35  BOM500002\n",
            "2  2019-12-27  1280.0  1280.0  ...        30.0       -4.25  BOM500002\n",
            "3  2019-12-26  1265.0  1278.0  ...        43.0        3.50  BOM500002\n",
            "4  2019-12-24  1278.5  1278.5  ...        38.5      -23.35  BOM500002\n",
            "\n",
            "[5 rows x 14 columns]\n",
            "         Date   Open    High  ...  Spread H-L  Spread C-O  stockname\n",
            "0  2019-12-31  188.0  194.35  ...        8.05        5.50  BOM500003\n",
            "1  2019-12-30  176.5  191.75  ...       15.25       13.55  BOM500003\n",
            "2  2019-12-27  173.9  177.45  ...        3.55        1.55  BOM500003\n",
            "3  2019-12-26  172.5  188.00  ...       20.50        0.65  BOM500003\n",
            "4  2019-12-24  165.0  176.00  ...       11.00        7.55  BOM500003\n",
            "\n",
            "[5 rows x 14 columns]\n",
            "         Date    Open    High  ...  Spread H-L  Spread C-O  stockname\n",
            "0  2019-12-31  725.90  730.00  ...        8.50       -1.40  BOM500008\n",
            "1  2019-12-30  718.30  728.70  ...       10.40        4.90  BOM500008\n",
            "2  2019-12-27  714.35  718.15  ...       10.15        1.55  BOM500008\n",
            "3  2019-12-26  721.75  724.30  ...       20.30       -9.70  BOM500008\n",
            "4  2019-12-24  720.00  723.90  ...        6.10        1.55  BOM500008\n",
            "\n",
            "[5 rows x 14 columns]\n",
            "         Date   Open   High  ...  Spread H-L  Spread C-O  stockname\n",
            "0  2019-12-31  15.50  16.19  ...        0.88        0.19  BOM500009\n",
            "1  2019-12-30  15.15  15.98  ...        0.97        0.64  BOM500009\n",
            "2  2019-12-27  16.55  16.55  ...        1.21       -0.94  BOM500009\n",
            "3  2019-12-26  16.12  16.45  ...        1.01       -0.18  BOM500009\n",
            "4  2019-12-24  16.47  17.30  ...        1.15       -0.23  BOM500009\n",
            "\n",
            "[5 rows x 14 columns]\n",
            "         Date     Open     High  ...  Spread H-L  Spread C-O  stockname\n",
            "0  2019-12-31  2439.05  2439.05  ...       32.10      -25.60  BOM500010\n",
            "1  2019-12-30  2444.50  2449.25  ...       27.25       -7.00  BOM500010\n",
            "2  2019-12-27  2426.00  2450.00  ...       30.00       18.50  BOM500010\n",
            "3  2019-12-26  2416.80  2432.70  ...       27.70       -2.50  BOM500010\n",
            "4  2019-12-24  2422.65  2445.20  ...       42.15      -11.45  BOM500010\n",
            "\n",
            "[5 rows x 14 columns]\n",
            "         Date   Open   High  ...  Spread H-L  Spread C-O  stockname\n",
            "0  2019-12-31  33.35  37.00  ...        3.65        2.95  BOM500012\n",
            "1  2019-12-30  31.05  34.10  ...        3.45        2.50  BOM500012\n",
            "2  2019-12-27  30.30  31.25  ...        1.25        0.80  BOM500012\n",
            "3  2019-12-26  31.00  31.80  ...        1.80        0.10  BOM500012\n",
            "4  2019-12-24  29.70  30.50  ...        0.80        0.75  BOM500012\n",
            "\n",
            "[5 rows x 14 columns]\n",
            "         Date  Open  High  ...  Spread H-L  Spread C-O  stockname\n",
            "0  2019-12-31  5.04  5.05  ...        0.02        0.01  BOM500013\n",
            "1  2019-12-30  4.81  4.81  ...        0.00        0.00  BOM500013\n",
            "2  2019-12-27  4.78  4.95  ...        0.17        0.04  BOM500013\n",
            "3  2019-12-26  4.76  4.98  ...        0.22        0.19  BOM500013\n",
            "4  2019-12-24  4.61  4.84  ...        0.23        0.22  BOM500013\n",
            "\n",
            "[5 rows x 14 columns]\n",
            "         Date  Open  High  ...  Spread H-L  Spread C-O  stockname\n",
            "0  2019-12-31  1.28  1.34  ...        0.06        0.06  BOM500014\n",
            "1  2019-12-30  1.35  1.35  ...        0.06       -0.06  BOM500014\n",
            "2  2019-12-27  1.35  1.35  ...        0.00        0.00  BOM500014\n",
            "3  2019-12-26  1.24  1.36  ...        0.12        0.11  BOM500014\n",
            "4  2019-12-24  1.30  1.30  ...        0.09        0.00  BOM500014\n",
            "\n",
            "[5 rows x 14 columns]\n",
            "         Date   Open   High  ...  Spread H-L  Spread C-O  stockname\n",
            "0  2019-12-31  75.40  80.30  ...        4.90        3.85  BOM500020\n",
            "1  2019-12-30  74.65  74.95  ...        1.15       -0.20  BOM500020\n",
            "2  2019-12-27  73.00  74.85  ...        1.85        1.05  BOM500020\n",
            "3  2019-12-26  73.35  74.70  ...        1.65        0.30  BOM500020\n",
            "4  2019-12-24  74.10  74.40  ...        1.40       -0.85  BOM500020\n",
            "\n",
            "[5 rows x 14 columns]\n",
            "         Date    Open    High  ...  Spread H-L  Spread C-O  stockname\n",
            "0  2019-12-31   96.00   99.85  ...        3.85        1.75  BOM500023\n",
            "1  2019-12-30  102.80  102.95  ...        7.75        0.15  BOM500023\n",
            "2  2019-12-27   99.20  104.45  ...       11.35        3.55  BOM500023\n",
            "3  2019-12-24   99.00   99.00  ...        0.00        0.00  BOM500023\n",
            "4  2019-12-23   92.05  100.00  ...        7.95        3.95  BOM500023\n",
            "\n",
            "[5 rows x 14 columns]\n"
          ],
          "name": "stdout"
        }
      ]
    },
    {
      "cell_type": "code",
      "metadata": {
        "id": "v1mydkGimw8X",
        "colab_type": "code",
        "colab": {
          "base_uri": "https://localhost:8080/",
          "height": 221
        },
        "outputId": "6544981b-163d-490c-fd05-ec7019971639"
      },
      "source": [
        "#checking files created\n",
        "!ls -ltr"
      ],
      "execution_count": 11,
      "outputs": [
        {
          "output_type": "stream",
          "text": [
            "total 752\n",
            "drwxr-xr-x 1 root root  4096 Feb  5 18:37 sample_data\n",
            "-rw-r--r-- 1 root root 81630 Feb  8 07:09 BOM500002.csv\n",
            "-rw-r--r-- 1 root root 76996 Feb  8 07:09 BOM500003.csv\n",
            "-rw-r--r-- 1 root root 78599 Feb  8 07:09 BOM500008.csv\n",
            "-rw-r--r-- 1 root root 72986 Feb  8 07:09 BOM500009.csv\n",
            "-rw-r--r-- 1 root root 84687 Feb  8 07:09 BOM500010.csv\n",
            "-rw-r--r-- 1 root root 73831 Feb  8 07:09 BOM500012.csv\n",
            "-rw-r--r-- 1 root root 72416 Feb  8 07:09 BOM500013.csv\n",
            "-rw-r--r-- 1 root root 66912 Feb  8 07:09 BOM500014.csv\n",
            "-rw-r--r-- 1 root root 78752 Feb  8 07:09 BOM500020.csv\n",
            "-rw-r--r-- 1 root root 58535 Feb  8 07:09 BOM500023.csv\n"
          ],
          "name": "stdout"
        }
      ]
    },
    {
      "cell_type": "code",
      "metadata": {
        "id": "O_eLsIkGpJEs",
        "colab_type": "code",
        "colab": {}
      },
      "source": [
        ""
      ],
      "execution_count": 0,
      "outputs": []
    }
  ]
}